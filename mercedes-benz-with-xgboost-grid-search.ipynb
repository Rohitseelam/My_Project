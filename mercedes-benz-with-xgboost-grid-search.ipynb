{
 "cells": [
  {
   "cell_type": "code",
   "execution_count": 1,
   "metadata": {
    "execution": {
     "iopub.execute_input": "2020-12-05T02:28:20.319589Z",
     "iopub.status.busy": "2020-12-05T02:28:20.318603Z",
     "iopub.status.idle": "2020-12-05T02:28:20.322180Z",
     "shell.execute_reply": "2020-12-05T02:28:20.321369Z"
    },
    "papermill": {
     "duration": 0.121763,
     "end_time": "2020-12-05T02:28:20.322315",
     "exception": false,
     "start_time": "2020-12-05T02:28:20.200552",
     "status": "completed"
    },
    "tags": []
   },
   "outputs": [],
   "source": [
    "import pandas as pd"
   ]
  },
  {
   "cell_type": "code",
   "execution_count": 2,
   "metadata": {
    "execution": {
     "iopub.execute_input": "2020-12-05T02:28:20.545655Z",
     "iopub.status.busy": "2020-12-05T02:28:20.544835Z",
     "iopub.status.idle": "2020-12-05T02:28:20.762863Z",
     "shell.execute_reply": "2020-12-05T02:28:20.762081Z"
    },
    "papermill": {
     "duration": 0.332827,
     "end_time": "2020-12-05T02:28:20.763011",
     "exception": false,
     "start_time": "2020-12-05T02:28:20.430184",
     "status": "completed"
    },
    "tags": []
   },
   "outputs": [],
   "source": [
    "merc_train = pd.read_csv('/kaggle/input/mercedes-benz-greener-manufacturing/train.csv.zip')"
   ]
  },
  {
   "cell_type": "code",
   "execution_count": 3,
   "metadata": {
    "execution": {
     "iopub.execute_input": "2020-12-05T02:28:21.029272Z",
     "iopub.status.busy": "2020-12-05T02:28:21.028380Z",
     "iopub.status.idle": "2020-12-05T02:28:21.046279Z",
     "shell.execute_reply": "2020-12-05T02:28:21.045562Z"
    },
    "papermill": {
     "duration": 0.168124,
     "end_time": "2020-12-05T02:28:21.046428",
     "exception": false,
     "start_time": "2020-12-05T02:28:20.878304",
     "status": "completed"
    },
    "tags": []
   },
   "outputs": [
    {
     "data": {
      "text/html": [
       "<div>\n",
       "<style scoped>\n",
       "    .dataframe tbody tr th:only-of-type {\n",
       "        vertical-align: middle;\n",
       "    }\n",
       "\n",
       "    .dataframe tbody tr th {\n",
       "        vertical-align: top;\n",
       "    }\n",
       "\n",
       "    .dataframe thead th {\n",
       "        text-align: right;\n",
       "    }\n",
       "</style>\n",
       "<table border=\"1\" class=\"dataframe\">\n",
       "  <thead>\n",
       "    <tr style=\"text-align: right;\">\n",
       "      <th></th>\n",
       "      <th>ID</th>\n",
       "      <th>y</th>\n",
       "      <th>X0</th>\n",
       "      <th>X1</th>\n",
       "      <th>X2</th>\n",
       "      <th>X3</th>\n",
       "      <th>X4</th>\n",
       "      <th>X5</th>\n",
       "      <th>X6</th>\n",
       "      <th>X8</th>\n",
       "      <th>...</th>\n",
       "      <th>X375</th>\n",
       "      <th>X376</th>\n",
       "      <th>X377</th>\n",
       "      <th>X378</th>\n",
       "      <th>X379</th>\n",
       "      <th>X380</th>\n",
       "      <th>X382</th>\n",
       "      <th>X383</th>\n",
       "      <th>X384</th>\n",
       "      <th>X385</th>\n",
       "    </tr>\n",
       "  </thead>\n",
       "  <tbody>\n",
       "    <tr>\n",
       "      <th>0</th>\n",
       "      <td>0</td>\n",
       "      <td>130.81</td>\n",
       "      <td>k</td>\n",
       "      <td>v</td>\n",
       "      <td>at</td>\n",
       "      <td>a</td>\n",
       "      <td>d</td>\n",
       "      <td>u</td>\n",
       "      <td>j</td>\n",
       "      <td>o</td>\n",
       "      <td>...</td>\n",
       "      <td>0</td>\n",
       "      <td>0</td>\n",
       "      <td>1</td>\n",
       "      <td>0</td>\n",
       "      <td>0</td>\n",
       "      <td>0</td>\n",
       "      <td>0</td>\n",
       "      <td>0</td>\n",
       "      <td>0</td>\n",
       "      <td>0</td>\n",
       "    </tr>\n",
       "    <tr>\n",
       "      <th>1</th>\n",
       "      <td>6</td>\n",
       "      <td>88.53</td>\n",
       "      <td>k</td>\n",
       "      <td>t</td>\n",
       "      <td>av</td>\n",
       "      <td>e</td>\n",
       "      <td>d</td>\n",
       "      <td>y</td>\n",
       "      <td>l</td>\n",
       "      <td>o</td>\n",
       "      <td>...</td>\n",
       "      <td>1</td>\n",
       "      <td>0</td>\n",
       "      <td>0</td>\n",
       "      <td>0</td>\n",
       "      <td>0</td>\n",
       "      <td>0</td>\n",
       "      <td>0</td>\n",
       "      <td>0</td>\n",
       "      <td>0</td>\n",
       "      <td>0</td>\n",
       "    </tr>\n",
       "    <tr>\n",
       "      <th>2</th>\n",
       "      <td>7</td>\n",
       "      <td>76.26</td>\n",
       "      <td>az</td>\n",
       "      <td>w</td>\n",
       "      <td>n</td>\n",
       "      <td>c</td>\n",
       "      <td>d</td>\n",
       "      <td>x</td>\n",
       "      <td>j</td>\n",
       "      <td>x</td>\n",
       "      <td>...</td>\n",
       "      <td>0</td>\n",
       "      <td>0</td>\n",
       "      <td>0</td>\n",
       "      <td>0</td>\n",
       "      <td>0</td>\n",
       "      <td>0</td>\n",
       "      <td>1</td>\n",
       "      <td>0</td>\n",
       "      <td>0</td>\n",
       "      <td>0</td>\n",
       "    </tr>\n",
       "    <tr>\n",
       "      <th>3</th>\n",
       "      <td>9</td>\n",
       "      <td>80.62</td>\n",
       "      <td>az</td>\n",
       "      <td>t</td>\n",
       "      <td>n</td>\n",
       "      <td>f</td>\n",
       "      <td>d</td>\n",
       "      <td>x</td>\n",
       "      <td>l</td>\n",
       "      <td>e</td>\n",
       "      <td>...</td>\n",
       "      <td>0</td>\n",
       "      <td>0</td>\n",
       "      <td>0</td>\n",
       "      <td>0</td>\n",
       "      <td>0</td>\n",
       "      <td>0</td>\n",
       "      <td>0</td>\n",
       "      <td>0</td>\n",
       "      <td>0</td>\n",
       "      <td>0</td>\n",
       "    </tr>\n",
       "    <tr>\n",
       "      <th>4</th>\n",
       "      <td>13</td>\n",
       "      <td>78.02</td>\n",
       "      <td>az</td>\n",
       "      <td>v</td>\n",
       "      <td>n</td>\n",
       "      <td>f</td>\n",
       "      <td>d</td>\n",
       "      <td>h</td>\n",
       "      <td>d</td>\n",
       "      <td>n</td>\n",
       "      <td>...</td>\n",
       "      <td>0</td>\n",
       "      <td>0</td>\n",
       "      <td>0</td>\n",
       "      <td>0</td>\n",
       "      <td>0</td>\n",
       "      <td>0</td>\n",
       "      <td>0</td>\n",
       "      <td>0</td>\n",
       "      <td>0</td>\n",
       "      <td>0</td>\n",
       "    </tr>\n",
       "  </tbody>\n",
       "</table>\n",
       "<p>5 rows × 378 columns</p>\n",
       "</div>"
      ],
      "text/plain": [
       "   ID       y  X0 X1  X2 X3 X4 X5 X6 X8  ...  X375  X376  X377  X378  X379  \\\n",
       "0   0  130.81   k  v  at  a  d  u  j  o  ...     0     0     1     0     0   \n",
       "1   6   88.53   k  t  av  e  d  y  l  o  ...     1     0     0     0     0   \n",
       "2   7   76.26  az  w   n  c  d  x  j  x  ...     0     0     0     0     0   \n",
       "3   9   80.62  az  t   n  f  d  x  l  e  ...     0     0     0     0     0   \n",
       "4  13   78.02  az  v   n  f  d  h  d  n  ...     0     0     0     0     0   \n",
       "\n",
       "   X380  X382  X383  X384  X385  \n",
       "0     0     0     0     0     0  \n",
       "1     0     0     0     0     0  \n",
       "2     0     1     0     0     0  \n",
       "3     0     0     0     0     0  \n",
       "4     0     0     0     0     0  \n",
       "\n",
       "[5 rows x 378 columns]"
      ]
     },
     "execution_count": 3,
     "metadata": {},
     "output_type": "execute_result"
    }
   ],
   "source": [
    "merc_train.head()"
   ]
  },
  {
   "cell_type": "code",
   "execution_count": 4,
   "metadata": {
    "execution": {
     "iopub.execute_input": "2020-12-05T02:28:21.292782Z",
     "iopub.status.busy": "2020-12-05T02:28:21.291416Z",
     "iopub.status.idle": "2020-12-05T02:28:21.295973Z",
     "shell.execute_reply": "2020-12-05T02:28:21.297044Z"
    },
    "papermill": {
     "duration": 0.13101,
     "end_time": "2020-12-05T02:28:21.297258",
     "exception": false,
     "start_time": "2020-12-05T02:28:21.166248",
     "status": "completed"
    },
    "tags": []
   },
   "outputs": [
    {
     "name": "stdout",
     "output_type": "stream",
     "text": [
      "(4209, 378)\n"
     ]
    }
   ],
   "source": [
    "print(merc_train.shape)\n",
    "#print(merc_test.shape)"
   ]
  },
  {
   "cell_type": "code",
   "execution_count": 5,
   "metadata": {
    "execution": {
     "iopub.execute_input": "2020-12-05T02:28:21.529875Z",
     "iopub.status.busy": "2020-12-05T02:28:21.528784Z",
     "iopub.status.idle": "2020-12-05T02:28:21.533234Z",
     "shell.execute_reply": "2020-12-05T02:28:21.532495Z"
    },
    "papermill": {
     "duration": 0.12198,
     "end_time": "2020-12-05T02:28:21.533368",
     "exception": false,
     "start_time": "2020-12-05T02:28:21.411388",
     "status": "completed"
    },
    "tags": []
   },
   "outputs": [
    {
     "data": {
      "text/plain": [
       "Index(['ID', 'y', 'X0', 'X1', 'X2', 'X3', 'X4', 'X5', 'X6', 'X8',\n",
       "       ...\n",
       "       'X375', 'X376', 'X377', 'X378', 'X379', 'X380', 'X382', 'X383', 'X384',\n",
       "       'X385'],\n",
       "      dtype='object', length=378)"
      ]
     },
     "execution_count": 5,
     "metadata": {},
     "output_type": "execute_result"
    }
   ],
   "source": [
    "merc_train.columns"
   ]
  },
  {
   "cell_type": "code",
   "execution_count": 6,
   "metadata": {
    "execution": {
     "iopub.execute_input": "2020-12-05T02:28:21.785119Z",
     "iopub.status.busy": "2020-12-05T02:28:21.779655Z",
     "iopub.status.idle": "2020-12-05T02:28:21.795437Z",
     "shell.execute_reply": "2020-12-05T02:28:21.794690Z"
    },
    "papermill": {
     "duration": 0.150818,
     "end_time": "2020-12-05T02:28:21.795576",
     "exception": false,
     "start_time": "2020-12-05T02:28:21.644758",
     "status": "completed"
    },
    "tags": []
   },
   "outputs": [
    {
     "name": "stdout",
     "output_type": "stream",
     "text": [
      "<class 'pandas.core.frame.DataFrame'>\n",
      "RangeIndex: 4209 entries, 0 to 4208\n",
      "Columns: 378 entries, ID to X385\n",
      "dtypes: float64(1), int64(369), object(8)\n",
      "memory usage: 12.1+ MB\n"
     ]
    }
   ],
   "source": [
    "merc_train.info()"
   ]
  },
  {
   "cell_type": "markdown",
   "metadata": {
    "papermill": {
     "duration": 0.114757,
     "end_time": "2020-12-05T02:28:22.027438",
     "exception": false,
     "start_time": "2020-12-05T02:28:21.912681",
     "status": "completed"
    },
    "tags": []
   },
   "source": [
    "## Check for variance of the columns, and drop those columns from the data##"
   ]
  },
  {
   "cell_type": "code",
   "execution_count": 7,
   "metadata": {
    "execution": {
     "iopub.execute_input": "2020-12-05T02:28:22.263676Z",
     "iopub.status.busy": "2020-12-05T02:28:22.262881Z",
     "iopub.status.idle": "2020-12-05T02:28:22.266503Z",
     "shell.execute_reply": "2020-12-05T02:28:22.265892Z"
    },
    "papermill": {
     "duration": 0.127088,
     "end_time": "2020-12-05T02:28:22.266634",
     "exception": false,
     "start_time": "2020-12-05T02:28:22.139546",
     "status": "completed"
    },
    "tags": []
   },
   "outputs": [],
   "source": [
    "def var_zero_cols(df):\n",
    "    var_df=pd.DataFrame(df.var(),columns=['Variance'])\n",
    "    return(list(var_df[var_df.Variance==0].index))"
   ]
  },
  {
   "cell_type": "code",
   "execution_count": 8,
   "metadata": {
    "execution": {
     "iopub.execute_input": "2020-12-05T02:28:22.502481Z",
     "iopub.status.busy": "2020-12-05T02:28:22.501669Z",
     "iopub.status.idle": "2020-12-05T02:28:22.582512Z",
     "shell.execute_reply": "2020-12-05T02:28:22.581686Z"
    },
    "papermill": {
     "duration": 0.202835,
     "end_time": "2020-12-05T02:28:22.582645",
     "exception": false,
     "start_time": "2020-12-05T02:28:22.379810",
     "status": "completed"
    },
    "tags": []
   },
   "outputs": [
    {
     "data": {
      "text/plain": [
       "['X11',\n",
       " 'X93',\n",
       " 'X107',\n",
       " 'X233',\n",
       " 'X235',\n",
       " 'X268',\n",
       " 'X289',\n",
       " 'X290',\n",
       " 'X293',\n",
       " 'X297',\n",
       " 'X330',\n",
       " 'X347']"
      ]
     },
     "execution_count": 8,
     "metadata": {},
     "output_type": "execute_result"
    }
   ],
   "source": [
    "var_zero_cols(merc_train)"
   ]
  },
  {
   "cell_type": "code",
   "execution_count": 9,
   "metadata": {
    "execution": {
     "iopub.execute_input": "2020-12-05T02:28:22.819512Z",
     "iopub.status.busy": "2020-12-05T02:28:22.818467Z",
     "iopub.status.idle": "2020-12-05T02:28:22.867814Z",
     "shell.execute_reply": "2020-12-05T02:28:22.867094Z"
    },
    "papermill": {
     "duration": 0.172713,
     "end_time": "2020-12-05T02:28:22.867977",
     "exception": false,
     "start_time": "2020-12-05T02:28:22.695264",
     "status": "completed"
    },
    "tags": []
   },
   "outputs": [],
   "source": [
    "var_df=pd.DataFrame(merc_train.var(),columns=['Variance'])"
   ]
  },
  {
   "cell_type": "markdown",
   "metadata": {
    "papermill": {
     "duration": 0.117991,
     "end_time": "2020-12-05T02:28:23.100119",
     "exception": false,
     "start_time": "2020-12-05T02:28:22.982128",
     "status": "completed"
    },
    "tags": []
   },
   "source": [
    "**Above columns have zero variance, so dropping them from the data**"
   ]
  },
  {
   "cell_type": "code",
   "execution_count": 10,
   "metadata": {
    "execution": {
     "iopub.execute_input": "2020-12-05T02:28:23.350168Z",
     "iopub.status.busy": "2020-12-05T02:28:23.349334Z",
     "iopub.status.idle": "2020-12-05T02:28:23.354132Z",
     "shell.execute_reply": "2020-12-05T02:28:23.353365Z"
    },
    "papermill": {
     "duration": 0.139809,
     "end_time": "2020-12-05T02:28:23.354257",
     "exception": false,
     "start_time": "2020-12-05T02:28:23.214448",
     "status": "completed"
    },
    "tags": []
   },
   "outputs": [],
   "source": [
    "merc_train.drop(columns=list(var_df[var_df.Variance==0].index),inplace=True)"
   ]
  },
  {
   "cell_type": "code",
   "execution_count": 11,
   "metadata": {
    "execution": {
     "iopub.execute_input": "2020-12-05T02:28:23.585183Z",
     "iopub.status.busy": "2020-12-05T02:28:23.584245Z",
     "iopub.status.idle": "2020-12-05T02:28:23.588197Z",
     "shell.execute_reply": "2020-12-05T02:28:23.588798Z"
    },
    "papermill": {
     "duration": 0.123067,
     "end_time": "2020-12-05T02:28:23.588971",
     "exception": false,
     "start_time": "2020-12-05T02:28:23.465904",
     "status": "completed"
    },
    "tags": []
   },
   "outputs": [
    {
     "data": {
      "text/plain": [
       "(4209, 366)"
      ]
     },
     "execution_count": 11,
     "metadata": {},
     "output_type": "execute_result"
    }
   ],
   "source": [
    "merc_train.shape"
   ]
  },
  {
   "cell_type": "markdown",
   "metadata": {
    "papermill": {
     "duration": 0.113788,
     "end_time": "2020-12-05T02:28:23.817721",
     "exception": false,
     "start_time": "2020-12-05T02:28:23.703933",
     "status": "completed"
    },
    "tags": []
   },
   "source": [
    "## Check for null and unique values for train set##"
   ]
  },
  {
   "cell_type": "code",
   "execution_count": 12,
   "metadata": {
    "execution": {
     "iopub.execute_input": "2020-12-05T02:28:24.050489Z",
     "iopub.status.busy": "2020-12-05T02:28:24.049649Z",
     "iopub.status.idle": "2020-12-05T02:28:24.061801Z",
     "shell.execute_reply": "2020-12-05T02:28:24.061098Z"
    },
    "papermill": {
     "duration": 0.130808,
     "end_time": "2020-12-05T02:28:24.061968",
     "exception": false,
     "start_time": "2020-12-05T02:28:23.931160",
     "status": "completed"
    },
    "tags": []
   },
   "outputs": [],
   "source": [
    "train_nullcheck_df=pd.DataFrame(merc_train.isna().any(),columns=['IsNull'])"
   ]
  },
  {
   "cell_type": "code",
   "execution_count": 13,
   "metadata": {
    "execution": {
     "iopub.execute_input": "2020-12-05T02:28:24.339480Z",
     "iopub.status.busy": "2020-12-05T02:28:24.338354Z",
     "iopub.status.idle": "2020-12-05T02:28:24.347540Z",
     "shell.execute_reply": "2020-12-05T02:28:24.348483Z"
    },
    "papermill": {
     "duration": 0.170203,
     "end_time": "2020-12-05T02:28:24.348722",
     "exception": false,
     "start_time": "2020-12-05T02:28:24.178519",
     "status": "completed"
    },
    "tags": []
   },
   "outputs": [
    {
     "data": {
      "text/html": [
       "<div>\n",
       "<style scoped>\n",
       "    .dataframe tbody tr th:only-of-type {\n",
       "        vertical-align: middle;\n",
       "    }\n",
       "\n",
       "    .dataframe tbody tr th {\n",
       "        vertical-align: top;\n",
       "    }\n",
       "\n",
       "    .dataframe thead th {\n",
       "        text-align: right;\n",
       "    }\n",
       "</style>\n",
       "<table border=\"1\" class=\"dataframe\">\n",
       "  <thead>\n",
       "    <tr style=\"text-align: right;\">\n",
       "      <th></th>\n",
       "      <th>IsNull</th>\n",
       "    </tr>\n",
       "  </thead>\n",
       "  <tbody>\n",
       "  </tbody>\n",
       "</table>\n",
       "</div>"
      ],
      "text/plain": [
       "Empty DataFrame\n",
       "Columns: [IsNull]\n",
       "Index: []"
      ]
     },
     "execution_count": 13,
     "metadata": {},
     "output_type": "execute_result"
    }
   ],
   "source": [
    "train_nullcheck_df[train_nullcheck_df.IsNull==True]"
   ]
  },
  {
   "cell_type": "markdown",
   "metadata": {
    "papermill": {
     "duration": 0.112679,
     "end_time": "2020-12-05T02:28:24.586178",
     "exception": false,
     "start_time": "2020-12-05T02:28:24.473499",
     "status": "completed"
    },
    "tags": []
   },
   "source": [
    "**There are no null values in the train data**"
   ]
  },
  {
   "cell_type": "code",
   "execution_count": 14,
   "metadata": {
    "execution": {
     "iopub.execute_input": "2020-12-05T02:28:24.819200Z",
     "iopub.status.busy": "2020-12-05T02:28:24.818389Z",
     "iopub.status.idle": "2020-12-05T02:28:24.877850Z",
     "shell.execute_reply": "2020-12-05T02:28:24.877080Z"
    },
    "papermill": {
     "duration": 0.179683,
     "end_time": "2020-12-05T02:28:24.877992",
     "exception": false,
     "start_time": "2020-12-05T02:28:24.698309",
     "status": "completed"
    },
    "tags": []
   },
   "outputs": [],
   "source": [
    "train_merc_ucnt=pd.DataFrame(merc_train.nunique(),columns=['uniqueCount'])"
   ]
  },
  {
   "cell_type": "code",
   "execution_count": 15,
   "metadata": {
    "execution": {
     "iopub.execute_input": "2020-12-05T02:28:25.132156Z",
     "iopub.status.busy": "2020-12-05T02:28:25.130999Z",
     "iopub.status.idle": "2020-12-05T02:28:25.135626Z",
     "shell.execute_reply": "2020-12-05T02:28:25.134817Z"
    },
    "papermill": {
     "duration": 0.131819,
     "end_time": "2020-12-05T02:28:25.135755",
     "exception": false,
     "start_time": "2020-12-05T02:28:25.003936",
     "status": "completed"
    },
    "tags": []
   },
   "outputs": [
    {
     "data": {
      "text/html": [
       "<div>\n",
       "<style scoped>\n",
       "    .dataframe tbody tr th:only-of-type {\n",
       "        vertical-align: middle;\n",
       "    }\n",
       "\n",
       "    .dataframe tbody tr th {\n",
       "        vertical-align: top;\n",
       "    }\n",
       "\n",
       "    .dataframe thead th {\n",
       "        text-align: right;\n",
       "    }\n",
       "</style>\n",
       "<table border=\"1\" class=\"dataframe\">\n",
       "  <thead>\n",
       "    <tr style=\"text-align: right;\">\n",
       "      <th></th>\n",
       "      <th>uniqueCount</th>\n",
       "    </tr>\n",
       "  </thead>\n",
       "  <tbody>\n",
       "    <tr>\n",
       "      <th>ID</th>\n",
       "      <td>4209</td>\n",
       "    </tr>\n",
       "    <tr>\n",
       "      <th>y</th>\n",
       "      <td>2545</td>\n",
       "    </tr>\n",
       "    <tr>\n",
       "      <th>X0</th>\n",
       "      <td>47</td>\n",
       "    </tr>\n",
       "    <tr>\n",
       "      <th>X1</th>\n",
       "      <td>27</td>\n",
       "    </tr>\n",
       "    <tr>\n",
       "      <th>X2</th>\n",
       "      <td>44</td>\n",
       "    </tr>\n",
       "    <tr>\n",
       "      <th>X3</th>\n",
       "      <td>7</td>\n",
       "    </tr>\n",
       "    <tr>\n",
       "      <th>X4</th>\n",
       "      <td>4</td>\n",
       "    </tr>\n",
       "    <tr>\n",
       "      <th>X5</th>\n",
       "      <td>29</td>\n",
       "    </tr>\n",
       "    <tr>\n",
       "      <th>X6</th>\n",
       "      <td>12</td>\n",
       "    </tr>\n",
       "    <tr>\n",
       "      <th>X8</th>\n",
       "      <td>25</td>\n",
       "    </tr>\n",
       "  </tbody>\n",
       "</table>\n",
       "</div>"
      ],
      "text/plain": [
       "    uniqueCount\n",
       "ID         4209\n",
       "y          2545\n",
       "X0           47\n",
       "X1           27\n",
       "X2           44\n",
       "X3            7\n",
       "X4            4\n",
       "X5           29\n",
       "X6           12\n",
       "X8           25"
      ]
     },
     "execution_count": 15,
     "metadata": {},
     "output_type": "execute_result"
    }
   ],
   "source": [
    "train_merc_ucnt[train_merc_ucnt.uniqueCount>2]"
   ]
  },
  {
   "cell_type": "code",
   "execution_count": 16,
   "metadata": {
    "execution": {
     "iopub.execute_input": "2020-12-05T02:28:25.385294Z",
     "iopub.status.busy": "2020-12-05T02:28:25.383917Z",
     "iopub.status.idle": "2020-12-05T02:28:25.388900Z",
     "shell.execute_reply": "2020-12-05T02:28:25.388161Z"
    },
    "papermill": {
     "duration": 0.134752,
     "end_time": "2020-12-05T02:28:25.389040",
     "exception": false,
     "start_time": "2020-12-05T02:28:25.254288",
     "status": "completed"
    },
    "tags": []
   },
   "outputs": [
    {
     "data": {
      "text/html": [
       "<div>\n",
       "<style scoped>\n",
       "    .dataframe tbody tr th:only-of-type {\n",
       "        vertical-align: middle;\n",
       "    }\n",
       "\n",
       "    .dataframe tbody tr th {\n",
       "        vertical-align: top;\n",
       "    }\n",
       "\n",
       "    .dataframe thead th {\n",
       "        text-align: right;\n",
       "    }\n",
       "</style>\n",
       "<table border=\"1\" class=\"dataframe\">\n",
       "  <thead>\n",
       "    <tr style=\"text-align: right;\">\n",
       "      <th></th>\n",
       "      <th>uniqueCount</th>\n",
       "    </tr>\n",
       "  </thead>\n",
       "  <tbody>\n",
       "    <tr>\n",
       "      <th>X10</th>\n",
       "      <td>2</td>\n",
       "    </tr>\n",
       "    <tr>\n",
       "      <th>X12</th>\n",
       "      <td>2</td>\n",
       "    </tr>\n",
       "    <tr>\n",
       "      <th>X13</th>\n",
       "      <td>2</td>\n",
       "    </tr>\n",
       "    <tr>\n",
       "      <th>X14</th>\n",
       "      <td>2</td>\n",
       "    </tr>\n",
       "    <tr>\n",
       "      <th>X15</th>\n",
       "      <td>2</td>\n",
       "    </tr>\n",
       "    <tr>\n",
       "      <th>...</th>\n",
       "      <td>...</td>\n",
       "    </tr>\n",
       "    <tr>\n",
       "      <th>X380</th>\n",
       "      <td>2</td>\n",
       "    </tr>\n",
       "    <tr>\n",
       "      <th>X382</th>\n",
       "      <td>2</td>\n",
       "    </tr>\n",
       "    <tr>\n",
       "      <th>X383</th>\n",
       "      <td>2</td>\n",
       "    </tr>\n",
       "    <tr>\n",
       "      <th>X384</th>\n",
       "      <td>2</td>\n",
       "    </tr>\n",
       "    <tr>\n",
       "      <th>X385</th>\n",
       "      <td>2</td>\n",
       "    </tr>\n",
       "  </tbody>\n",
       "</table>\n",
       "<p>356 rows × 1 columns</p>\n",
       "</div>"
      ],
      "text/plain": [
       "      uniqueCount\n",
       "X10             2\n",
       "X12             2\n",
       "X13             2\n",
       "X14             2\n",
       "X15             2\n",
       "...           ...\n",
       "X380            2\n",
       "X382            2\n",
       "X383            2\n",
       "X384            2\n",
       "X385            2\n",
       "\n",
       "[356 rows x 1 columns]"
      ]
     },
     "execution_count": 16,
     "metadata": {},
     "output_type": "execute_result"
    }
   ],
   "source": [
    "train_merc_ucnt[train_merc_ucnt.uniqueCount<=2]"
   ]
  },
  {
   "cell_type": "markdown",
   "metadata": {
    "papermill": {
     "duration": 0.119059,
     "end_time": "2020-12-05T02:28:25.624209",
     "exception": false,
     "start_time": "2020-12-05T02:28:25.505150",
     "status": "completed"
    },
    "tags": []
   },
   "source": [
    "**All the above columns X0 to X8 are categorical data, so we need to transform them into numerical. Before that Lets look at categorical data and plot them to observe the impact on outcome**"
   ]
  },
  {
   "cell_type": "markdown",
   "metadata": {
    "papermill": {
     "duration": 0.121596,
     "end_time": "2020-12-05T02:28:25.867312",
     "exception": false,
     "start_time": "2020-12-05T02:28:25.745716",
     "status": "completed"
    },
    "tags": []
   },
   "source": [
    "## Analyzing feature X0 ##"
   ]
  },
  {
   "cell_type": "code",
   "execution_count": 17,
   "metadata": {
    "execution": {
     "iopub.execute_input": "2020-12-05T02:28:26.116606Z",
     "iopub.status.busy": "2020-12-05T02:28:26.115154Z",
     "iopub.status.idle": "2020-12-05T02:28:26.119958Z",
     "shell.execute_reply": "2020-12-05T02:28:26.120554Z"
    },
    "papermill": {
     "duration": 0.137456,
     "end_time": "2020-12-05T02:28:26.120716",
     "exception": false,
     "start_time": "2020-12-05T02:28:25.983260",
     "status": "completed"
    },
    "tags": []
   },
   "outputs": [
    {
     "data": {
      "text/plain": [
       "z     360\n",
       "ak    349\n",
       "y     324\n",
       "ay    313\n",
       "t     306\n",
       "x     300\n",
       "o     269\n",
       "f     227\n",
       "n     195\n",
       "w     182\n",
       "j     181\n",
       "az    175\n",
       "aj    151\n",
       "s     106\n",
       "ap    103\n",
       "h      75\n",
       "d      73\n",
       "al     67\n",
       "v      36\n",
       "af     35\n",
       "m      34\n",
       "ai     34\n",
       "e      32\n",
       "ba     27\n",
       "at     25\n",
       "a      21\n",
       "ax     19\n",
       "i      18\n",
       "am     18\n",
       "aq     18\n",
       "u      17\n",
       "l      16\n",
       "aw     16\n",
       "ad     14\n",
       "b      11\n",
       "k      11\n",
       "au     11\n",
       "r      10\n",
       "as     10\n",
       "bc      6\n",
       "ao      4\n",
       "c       3\n",
       "aa      2\n",
       "q       2\n",
       "ac      1\n",
       "g       1\n",
       "ab      1\n",
       "Name: X0, dtype: int64"
      ]
     },
     "execution_count": 17,
     "metadata": {},
     "output_type": "execute_result"
    }
   ],
   "source": [
    "merc_train.X0.value_counts()"
   ]
  },
  {
   "cell_type": "code",
   "execution_count": 18,
   "metadata": {
    "execution": {
     "iopub.execute_input": "2020-12-05T02:28:26.368124Z",
     "iopub.status.busy": "2020-12-05T02:28:26.367331Z",
     "iopub.status.idle": "2020-12-05T02:28:28.874168Z",
     "shell.execute_reply": "2020-12-05T02:28:28.873371Z"
    },
    "papermill": {
     "duration": 2.633206,
     "end_time": "2020-12-05T02:28:28.874312",
     "exception": false,
     "start_time": "2020-12-05T02:28:26.241106",
     "status": "completed"
    },
    "tags": []
   },
   "outputs": [
    {
     "data": {
      "text/plain": [
       "<matplotlib.axes._subplots.AxesSubplot at 0x7f702fa5fa10>"
      ]
     },
     "execution_count": 18,
     "metadata": {},
     "output_type": "execute_result"
    },
    {
     "data": {
      "image/png": "[encoded data removed]",
      "text/plain": [
       "<Figure size 1008x432 with 1 Axes>"
      ]
     },
     "metadata": {
      "needs_background": "light"
     },
     "output_type": "display_data"
    }
   ],
   "source": [
    "import matplotlib.pyplot as plt,seaborn as sns\n",
    "plt.figure(figsize=(14,6))\n",
    "sns.boxplot(x=merc_train.X0,y=merc_train.y)"
   ]
  },
  {
   "cell_type": "code",
   "execution_count": 19,
   "metadata": {
    "execution": {
     "iopub.execute_input": "2020-12-05T02:28:29.133556Z",
     "iopub.status.busy": "2020-12-05T02:28:29.132469Z",
     "iopub.status.idle": "2020-12-05T02:28:29.280273Z",
     "shell.execute_reply": "2020-12-05T02:28:29.279393Z"
    },
    "papermill": {
     "duration": 0.279875,
     "end_time": "2020-12-05T02:28:29.280454",
     "exception": false,
     "start_time": "2020-12-05T02:28:29.000579",
     "status": "completed"
    },
    "tags": []
   },
   "outputs": [
    {
     "data": {
      "text/plain": [
       "<matplotlib.axes._subplots.AxesSubplot at 0x7f7025d96090>"
      ]
     },
     "execution_count": 19,
     "metadata": {},
     "output_type": "execute_result"
    },
    {
     "data": {
      "image/png": "[encoded data removed]",
      "text/plain": [
       "<Figure size 432x288 with 1 Axes>"
      ]
     },
     "metadata": {
      "needs_background": "light"
     },
     "output_type": "display_data"
    }
   ],
   "source": [
    "sns.boxplot(x=merc_train.X0[merc_train.X0=='y'],y=merc_train.y)"
   ]
  },
  {
   "cell_type": "code",
   "execution_count": 20,
   "metadata": {
    "execution": {
     "iopub.execute_input": "2020-12-05T02:28:29.537223Z",
     "iopub.status.busy": "2020-12-05T02:28:29.535974Z",
     "iopub.status.idle": "2020-12-05T02:28:29.540615Z",
     "shell.execute_reply": "2020-12-05T02:28:29.539833Z"
    },
    "papermill": {
     "duration": 0.135344,
     "end_time": "2020-12-05T02:28:29.540742",
     "exception": false,
     "start_time": "2020-12-05T02:28:29.405398",
     "status": "completed"
    },
    "tags": []
   },
   "outputs": [
    {
     "data": {
      "text/plain": [
       "array([883])"
      ]
     },
     "execution_count": 20,
     "metadata": {},
     "output_type": "execute_result"
    }
   ],
   "source": [
    "((merc_train[merc_train.X0=='y']['y']).sort_values(ascending=False))[:1].index.values"
   ]
  },
  {
   "cell_type": "markdown",
   "metadata": {
    "papermill": {
     "duration": 0.127383,
     "end_time": "2020-12-05T02:28:29.794250",
     "exception": false,
     "start_time": "2020-12-05T02:28:29.666867",
     "status": "completed"
    },
    "tags": []
   },
   "source": [
    "**Dropping the extreme outlier observation**"
   ]
  },
  {
   "cell_type": "code",
   "execution_count": 21,
   "metadata": {
    "execution": {
     "iopub.execute_input": "2020-12-05T02:28:30.063079Z",
     "iopub.status.busy": "2020-12-05T02:28:30.062154Z",
     "iopub.status.idle": "2020-12-05T02:28:30.066729Z",
     "shell.execute_reply": "2020-12-05T02:28:30.066105Z"
    },
    "papermill": {
     "duration": 0.141324,
     "end_time": "2020-12-05T02:28:30.066862",
     "exception": false,
     "start_time": "2020-12-05T02:28:29.925538",
     "status": "completed"
    },
    "tags": []
   },
   "outputs": [
    {
     "data": {
      "text/plain": [
       "(4209, 366)"
      ]
     },
     "execution_count": 21,
     "metadata": {},
     "output_type": "execute_result"
    }
   ],
   "source": [
    "merc_train.shape"
   ]
  },
  {
   "cell_type": "code",
   "execution_count": 22,
   "metadata": {
    "execution": {
     "iopub.execute_input": "2020-12-05T02:28:30.338398Z",
     "iopub.status.busy": "2020-12-05T02:28:30.337554Z",
     "iopub.status.idle": "2020-12-05T02:28:30.352895Z",
     "shell.execute_reply": "2020-12-05T02:28:30.352061Z"
    },
    "papermill": {
     "duration": 0.158567,
     "end_time": "2020-12-05T02:28:30.353050",
     "exception": false,
     "start_time": "2020-12-05T02:28:30.194483",
     "status": "completed"
    },
    "tags": []
   },
   "outputs": [],
   "source": [
    "merc_train.drop(labels=((merc_train[merc_train.X0=='y']['y']).sort_values(ascending=False))[:1].index.values,inplace=True)"
   ]
  },
  {
   "cell_type": "code",
   "execution_count": 23,
   "metadata": {
    "execution": {
     "iopub.execute_input": "2020-12-05T02:28:30.614447Z",
     "iopub.status.busy": "2020-12-05T02:28:30.613506Z",
     "iopub.status.idle": "2020-12-05T02:28:30.618658Z",
     "shell.execute_reply": "2020-12-05T02:28:30.619416Z"
    },
    "papermill": {
     "duration": 0.141838,
     "end_time": "2020-12-05T02:28:30.619580",
     "exception": false,
     "start_time": "2020-12-05T02:28:30.477742",
     "status": "completed"
    },
    "tags": []
   },
   "outputs": [
    {
     "data": {
      "text/plain": [
       "(4208, 366)"
      ]
     },
     "execution_count": 23,
     "metadata": {},
     "output_type": "execute_result"
    }
   ],
   "source": [
    "merc_train.shape"
   ]
  },
  {
   "cell_type": "code",
   "execution_count": 24,
   "metadata": {
    "execution": {
     "iopub.execute_input": "2020-12-05T02:28:30.897227Z",
     "iopub.status.busy": "2020-12-05T02:28:30.895624Z",
     "iopub.status.idle": "2020-12-05T02:28:31.989403Z",
     "shell.execute_reply": "2020-12-05T02:28:31.988388Z"
    },
    "papermill": {
     "duration": 1.231699,
     "end_time": "2020-12-05T02:28:31.989556",
     "exception": false,
     "start_time": "2020-12-05T02:28:30.757857",
     "status": "completed"
    },
    "tags": []
   },
   "outputs": [
    {
     "data": {
      "text/plain": [
       "<matplotlib.axes._subplots.AxesSubplot at 0x7f70258fbb10>"
      ]
     },
     "execution_count": 24,
     "metadata": {},
     "output_type": "execute_result"
    },
    {
     "data": {
      "image/png": "[encoded data removed]",
      "text/plain": [
       "<Figure size 1008x432 with 1 Axes>"
      ]
     },
     "metadata": {
      "needs_background": "light"
     },
     "output_type": "display_data"
    }
   ],
   "source": [
    "plt.figure(figsize=(14,6))\n",
    "sns.boxplot(x=merc_train.X0,y=merc_train.y)"
   ]
  },
  {
   "cell_type": "code",
   "execution_count": 25,
   "metadata": {
    "execution": {
     "iopub.execute_input": "2020-12-05T02:28:32.260250Z",
     "iopub.status.busy": "2020-12-05T02:28:32.259325Z",
     "iopub.status.idle": "2020-12-05T02:28:32.263860Z",
     "shell.execute_reply": "2020-12-05T02:28:32.263296Z"
    },
    "papermill": {
     "duration": 0.144592,
     "end_time": "2020-12-05T02:28:32.264011",
     "exception": false,
     "start_time": "2020-12-05T02:28:32.119419",
     "status": "completed"
    },
    "tags": []
   },
   "outputs": [
    {
     "data": {
      "text/plain": [
       "z     360\n",
       "ak    349\n",
       "y     323\n",
       "ay    313\n",
       "t     306\n",
       "x     300\n",
       "o     269\n",
       "f     227\n",
       "n     195\n",
       "w     182\n",
       "j     181\n",
       "az    175\n",
       "aj    151\n",
       "s     106\n",
       "ap    103\n",
       "h      75\n",
       "d      73\n",
       "al     67\n",
       "v      36\n",
       "af     35\n",
       "m      34\n",
       "ai     34\n",
       "e      32\n",
       "ba     27\n",
       "at     25\n",
       "a      21\n",
       "ax     19\n",
       "i      18\n",
       "am     18\n",
       "aq     18\n",
       "u      17\n",
       "l      16\n",
       "aw     16\n",
       "ad     14\n",
       "b      11\n",
       "k      11\n",
       "au     11\n",
       "r      10\n",
       "as     10\n",
       "bc      6\n",
       "ao      4\n",
       "c       3\n",
       "aa      2\n",
       "q       2\n",
       "ac      1\n",
       "g       1\n",
       "ab      1\n",
       "Name: X0, dtype: int64"
      ]
     },
     "execution_count": 25,
     "metadata": {},
     "output_type": "execute_result"
    }
   ],
   "source": [
    "merc_train.X0.value_counts()"
   ]
  },
  {
   "cell_type": "code",
   "execution_count": 26,
   "metadata": {
    "execution": {
     "iopub.execute_input": "2020-12-05T02:28:32.526553Z",
     "iopub.status.busy": "2020-12-05T02:28:32.525303Z",
     "iopub.status.idle": "2020-12-05T02:28:32.529028Z",
     "shell.execute_reply": "2020-12-05T02:28:32.529650Z"
    },
    "papermill": {
     "duration": 0.137184,
     "end_time": "2020-12-05T02:28:32.529854",
     "exception": false,
     "start_time": "2020-12-05T02:28:32.392670",
     "status": "completed"
    },
    "tags": []
   },
   "outputs": [],
   "source": [
    "def transform_X0(df):\n",
    "    x0_grp=df.groupby('X0').aggregate(func='count')['ID'].reset_index()\n",
    "    df['X0'].replace(to_replace=x0_grp[x0_grp['ID']<100]['X0'].values\n",
    "                            ,value='OT'\n",
    "                            ,inplace=True)"
   ]
  },
  {
   "cell_type": "code",
   "execution_count": 27,
   "metadata": {
    "execution": {
     "iopub.execute_input": "2020-12-05T02:28:32.806242Z",
     "iopub.status.busy": "2020-12-05T02:28:32.805355Z",
     "iopub.status.idle": "2020-12-05T02:28:32.834737Z",
     "shell.execute_reply": "2020-12-05T02:28:32.834074Z"
    },
    "papermill": {
     "duration": 0.180105,
     "end_time": "2020-12-05T02:28:32.834899",
     "exception": false,
     "start_time": "2020-12-05T02:28:32.654794",
     "status": "completed"
    },
    "tags": []
   },
   "outputs": [],
   "source": [
    "transform_X0(merc_train)"
   ]
  },
  {
   "cell_type": "code",
   "execution_count": 28,
   "metadata": {
    "execution": {
     "iopub.execute_input": "2020-12-05T02:28:33.113706Z",
     "iopub.status.busy": "2020-12-05T02:28:33.112554Z",
     "iopub.status.idle": "2020-12-05T02:28:33.117767Z",
     "shell.execute_reply": "2020-12-05T02:28:33.117010Z"
    },
    "papermill": {
     "duration": 0.155229,
     "end_time": "2020-12-05T02:28:33.117898",
     "exception": false,
     "start_time": "2020-12-05T02:28:32.962669",
     "status": "completed"
    },
    "tags": []
   },
   "outputs": [
    {
     "data": {
      "text/plain": [
       "OT    668\n",
       "z     360\n",
       "ak    349\n",
       "y     323\n",
       "ay    313\n",
       "t     306\n",
       "x     300\n",
       "o     269\n",
       "f     227\n",
       "n     195\n",
       "w     182\n",
       "j     181\n",
       "az    175\n",
       "aj    151\n",
       "s     106\n",
       "ap    103\n",
       "Name: X0, dtype: int64"
      ]
     },
     "execution_count": 28,
     "metadata": {},
     "output_type": "execute_result"
    }
   ],
   "source": [
    "merc_train.X0.value_counts()"
   ]
  },
  {
   "cell_type": "code",
   "execution_count": 29,
   "metadata": {
    "execution": {
     "iopub.execute_input": "2020-12-05T02:28:33.386380Z",
     "iopub.status.busy": "2020-12-05T02:28:33.383821Z",
     "iopub.status.idle": "2020-12-05T02:28:34.265316Z",
     "shell.execute_reply": "2020-12-05T02:28:34.264088Z"
    },
    "papermill": {
     "duration": 1.016966,
     "end_time": "2020-12-05T02:28:34.265504",
     "exception": false,
     "start_time": "2020-12-05T02:28:33.248538",
     "status": "completed"
    },
    "tags": []
   },
   "outputs": [
    {
     "data": {
      "text/plain": [
       "<matplotlib.axes._subplots.AxesSubplot at 0x7f7027b64a10>"
      ]
     },
     "execution_count": 29,
     "metadata": {},
     "output_type": "execute_result"
    },
    {
     "data": {
      "image/png": "[encoded data removed]",
      "text/plain": [
       "<Figure size 432x288 with 1 Axes>"
      ]
     },
     "metadata": {
      "needs_background": "light"
     },
     "output_type": "display_data"
    }
   ],
   "source": [
    "sns.barplot(x=merc_train.X0,y=merc_train.y)"
   ]
  },
  {
   "cell_type": "markdown",
   "metadata": {
    "papermill": {
     "duration": 0.127352,
     "end_time": "2020-12-05T02:28:34.524361",
     "exception": false,
     "start_time": "2020-12-05T02:28:34.397009",
     "status": "completed"
    },
    "tags": []
   },
   "source": [
    "## Analyzing feature X1##"
   ]
  },
  {
   "cell_type": "code",
   "execution_count": 30,
   "metadata": {
    "execution": {
     "iopub.execute_input": "2020-12-05T02:28:34.790965Z",
     "iopub.status.busy": "2020-12-05T02:28:34.789788Z",
     "iopub.status.idle": "2020-12-05T02:28:34.794463Z",
     "shell.execute_reply": "2020-12-05T02:28:34.793657Z"
    },
    "papermill": {
     "duration": 0.143388,
     "end_time": "2020-12-05T02:28:34.794617",
     "exception": false,
     "start_time": "2020-12-05T02:28:34.651229",
     "status": "completed"
    },
    "tags": []
   },
   "outputs": [
    {
     "data": {
      "text/plain": [
       "aa    833\n",
       "s     598\n",
       "b     592\n",
       "l     590\n",
       "v     408\n",
       "r     250\n",
       "i     203\n",
       "a     143\n",
       "c     121\n",
       "o      82\n",
       "w      52\n",
       "z      46\n",
       "u      37\n",
       "e      33\n",
       "m      32\n",
       "t      31\n",
       "h      29\n",
       "y      23\n",
       "f      23\n",
       "j      22\n",
       "n      19\n",
       "k      17\n",
       "p       9\n",
       "g       6\n",
       "ab      3\n",
       "d       3\n",
       "q       3\n",
       "Name: X1, dtype: int64"
      ]
     },
     "execution_count": 30,
     "metadata": {},
     "output_type": "execute_result"
    }
   ],
   "source": [
    "merc_train.X1.value_counts()"
   ]
  },
  {
   "cell_type": "code",
   "execution_count": 31,
   "metadata": {
    "execution": {
     "iopub.execute_input": "2020-12-05T02:28:35.072622Z",
     "iopub.status.busy": "2020-12-05T02:28:35.070197Z",
     "iopub.status.idle": "2020-12-05T02:28:35.736189Z",
     "shell.execute_reply": "2020-12-05T02:28:35.735381Z"
    },
    "papermill": {
     "duration": 0.811272,
     "end_time": "2020-12-05T02:28:35.736324",
     "exception": false,
     "start_time": "2020-12-05T02:28:34.925052",
     "status": "completed"
    },
    "tags": []
   },
   "outputs": [
    {
     "data": {
      "text/plain": [
       "<matplotlib.axes._subplots.AxesSubplot at 0x7f7027a4b690>"
      ]
     },
     "execution_count": 31,
     "metadata": {},
     "output_type": "execute_result"
    },
    {
     "data": {
      "image/png": "[encoded data removed]",
      "text/plain": [
       "<Figure size 1008x432 with 1 Axes>"
      ]
     },
     "metadata": {
      "needs_background": "light"
     },
     "output_type": "display_data"
    }
   ],
   "source": [
    "plt.figure(figsize=(14,6))\n",
    "sns.boxplot(x=merc_train.X1,y=merc_train.y)"
   ]
  },
  {
   "cell_type": "code",
   "execution_count": 32,
   "metadata": {
    "execution": {
     "iopub.execute_input": "2020-12-05T02:28:36.014441Z",
     "iopub.status.busy": "2020-12-05T02:28:36.013597Z",
     "iopub.status.idle": "2020-12-05T02:28:36.017931Z",
     "shell.execute_reply": "2020-12-05T02:28:36.017142Z"
    },
    "papermill": {
     "duration": 0.151592,
     "end_time": "2020-12-05T02:28:36.018089",
     "exception": false,
     "start_time": "2020-12-05T02:28:35.866497",
     "status": "completed"
    },
    "tags": []
   },
   "outputs": [],
   "source": [
    "def transform_X1(df):\n",
    "    x1_grp=df.groupby('X1').aggregate(func='count')['ID'].reset_index()\n",
    "    df['X1'].replace(to_replace=x1_grp[x1_grp['ID']<100]['X1'].values\n",
    "                            ,value='OT'\n",
    "                            ,inplace=True)"
   ]
  },
  {
   "cell_type": "code",
   "execution_count": 33,
   "metadata": {
    "execution": {
     "iopub.execute_input": "2020-12-05T02:28:36.299130Z",
     "iopub.status.busy": "2020-12-05T02:28:36.298047Z",
     "iopub.status.idle": "2020-12-05T02:28:36.323681Z",
     "shell.execute_reply": "2020-12-05T02:28:36.322992Z"
    },
    "papermill": {
     "duration": 0.171205,
     "end_time": "2020-12-05T02:28:36.323839",
     "exception": false,
     "start_time": "2020-12-05T02:28:36.152634",
     "status": "completed"
    },
    "tags": []
   },
   "outputs": [],
   "source": [
    "transform_X1(merc_train)"
   ]
  },
  {
   "cell_type": "code",
   "execution_count": 34,
   "metadata": {
    "execution": {
     "iopub.execute_input": "2020-12-05T02:28:36.604304Z",
     "iopub.status.busy": "2020-12-05T02:28:36.603459Z",
     "iopub.status.idle": "2020-12-05T02:28:36.609852Z",
     "shell.execute_reply": "2020-12-05T02:28:36.609216Z"
    },
    "papermill": {
     "duration": 0.151972,
     "end_time": "2020-12-05T02:28:36.610006",
     "exception": false,
     "start_time": "2020-12-05T02:28:36.458034",
     "status": "completed"
    },
    "tags": []
   },
   "outputs": [
    {
     "data": {
      "text/plain": [
       "aa    833\n",
       "s     598\n",
       "b     592\n",
       "l     590\n",
       "OT    470\n",
       "v     408\n",
       "r     250\n",
       "i     203\n",
       "a     143\n",
       "c     121\n",
       "Name: X1, dtype: int64"
      ]
     },
     "execution_count": 34,
     "metadata": {},
     "output_type": "execute_result"
    }
   ],
   "source": [
    "merc_train.X1.value_counts()"
   ]
  },
  {
   "cell_type": "code",
   "execution_count": 35,
   "metadata": {
    "execution": {
     "iopub.execute_input": "2020-12-05T02:28:37.013044Z",
     "iopub.status.busy": "2020-12-05T02:28:37.012162Z",
     "iopub.status.idle": "2020-12-05T02:28:37.326928Z",
     "shell.execute_reply": "2020-12-05T02:28:37.326100Z"
    },
    "papermill": {
     "duration": 0.574753,
     "end_time": "2020-12-05T02:28:37.327082",
     "exception": false,
     "start_time": "2020-12-05T02:28:36.752329",
     "status": "completed"
    },
    "tags": []
   },
   "outputs": [
    {
     "data": {
      "text/plain": [
       "<matplotlib.axes._subplots.AxesSubplot at 0x7f7027790c90>"
      ]
     },
     "execution_count": 35,
     "metadata": {},
     "output_type": "execute_result"
    },
    {
     "data": {
      "image/png": "[encoded data removed]",
      "text/plain": [
       "<Figure size 1008x432 with 1 Axes>"
      ]
     },
     "metadata": {
      "needs_background": "light"
     },
     "output_type": "display_data"
    }
   ],
   "source": [
    "plt.figure(figsize=(14,6))\n",
    "sns.boxplot(x=merc_train.X1,y=merc_train.y)"
   ]
  },
  {
   "cell_type": "code",
   "execution_count": 36,
   "metadata": {
    "execution": {
     "iopub.execute_input": "2020-12-05T02:28:37.605964Z",
     "iopub.status.busy": "2020-12-05T02:28:37.604791Z",
     "iopub.status.idle": "2020-12-05T02:28:38.192818Z",
     "shell.execute_reply": "2020-12-05T02:28:38.192169Z"
    },
    "papermill": {
     "duration": 0.729373,
     "end_time": "2020-12-05T02:28:38.193021",
     "exception": false,
     "start_time": "2020-12-05T02:28:37.463648",
     "status": "completed"
    },
    "tags": []
   },
   "outputs": [
    {
     "data": {
      "text/plain": [
       "<matplotlib.axes._subplots.AxesSubplot at 0x7f702769c610>"
      ]
     },
     "execution_count": 36,
     "metadata": {},
     "output_type": "execute_result"
    },
    {
     "data": {
      "image/png": "[encoded data removed]",
      "text/plain": [
       "<Figure size 432x288 with 1 Axes>"
      ]
     },
     "metadata": {
      "needs_background": "light"
     },
     "output_type": "display_data"
    }
   ],
   "source": [
    "sns.barplot(x=merc_train.X1,y=merc_train.y)"
   ]
  },
  {
   "cell_type": "markdown",
   "metadata": {
    "papermill": {
     "duration": 0.131147,
     "end_time": "2020-12-05T02:28:38.459716",
     "exception": false,
     "start_time": "2020-12-05T02:28:38.328569",
     "status": "completed"
    },
    "tags": []
   },
   "source": [
    "## Analyzing feature X3 ##"
   ]
  },
  {
   "cell_type": "code",
   "execution_count": 37,
   "metadata": {
    "execution": {
     "iopub.execute_input": "2020-12-05T02:28:38.748482Z",
     "iopub.status.busy": "2020-12-05T02:28:38.747341Z",
     "iopub.status.idle": "2020-12-05T02:28:38.751840Z",
     "shell.execute_reply": "2020-12-05T02:28:38.751119Z"
    },
    "papermill": {
     "duration": 0.152319,
     "end_time": "2020-12-05T02:28:38.751981",
     "exception": false,
     "start_time": "2020-12-05T02:28:38.599662",
     "status": "completed"
    },
    "tags": []
   },
   "outputs": [
    {
     "data": {
      "text/plain": [
       "c    1942\n",
       "f    1075\n",
       "a     440\n",
       "d     290\n",
       "g     241\n",
       "e     163\n",
       "b      57\n",
       "Name: X3, dtype: int64"
      ]
     },
     "execution_count": 37,
     "metadata": {},
     "output_type": "execute_result"
    }
   ],
   "source": [
    "merc_train.X3.value_counts()"
   ]
  },
  {
   "cell_type": "code",
   "execution_count": 38,
   "metadata": {
    "execution": {
     "iopub.execute_input": "2020-12-05T02:28:39.031698Z",
     "iopub.status.busy": "2020-12-05T02:28:39.030886Z",
     "iopub.status.idle": "2020-12-05T02:28:39.288720Z",
     "shell.execute_reply": "2020-12-05T02:28:39.287833Z"
    },
    "papermill": {
     "duration": 0.404177,
     "end_time": "2020-12-05T02:28:39.288861",
     "exception": false,
     "start_time": "2020-12-05T02:28:38.884684",
     "status": "completed"
    },
    "tags": []
   },
   "outputs": [
    {
     "data": {
      "text/plain": [
       "<matplotlib.axes._subplots.AxesSubplot at 0x7f70275cca50>"
      ]
     },
     "execution_count": 38,
     "metadata": {},
     "output_type": "execute_result"
    },
    {
     "data": {
      "image/png": "[encoded data removed]",
      "text/plain": [
       "<Figure size 1008x432 with 1 Axes>"
      ]
     },
     "metadata": {
      "needs_background": "light"
     },
     "output_type": "display_data"
    }
   ],
   "source": [
    "plt.figure(figsize=(14,6))\n",
    "sns.boxplot(x=merc_train.X3,y=merc_train.y)"
   ]
  },
  {
   "cell_type": "code",
   "execution_count": 39,
   "metadata": {
    "execution": {
     "iopub.execute_input": "2020-12-05T02:28:39.584514Z",
     "iopub.status.busy": "2020-12-05T02:28:39.581213Z",
     "iopub.status.idle": "2020-12-05T02:28:40.044126Z",
     "shell.execute_reply": "2020-12-05T02:28:40.043236Z"
    },
    "papermill": {
     "duration": 0.610571,
     "end_time": "2020-12-05T02:28:40.044350",
     "exception": false,
     "start_time": "2020-12-05T02:28:39.433779",
     "status": "completed"
    },
    "tags": []
   },
   "outputs": [
    {
     "data": {
      "text/plain": [
       "<matplotlib.axes._subplots.AxesSubplot at 0x7f7027522050>"
      ]
     },
     "execution_count": 39,
     "metadata": {},
     "output_type": "execute_result"
    },
    {
     "data": {
      "image/png": "[encoded data removed]",
      "text/plain": [
       "<Figure size 432x288 with 1 Axes>"
      ]
     },
     "metadata": {
      "needs_background": "light"
     },
     "output_type": "display_data"
    }
   ],
   "source": [
    "sns.barplot(x=merc_train.X3,y=merc_train.y)"
   ]
  },
  {
   "cell_type": "markdown",
   "metadata": {
    "papermill": {
     "duration": 0.13598,
     "end_time": "2020-12-05T02:28:40.320698",
     "exception": false,
     "start_time": "2020-12-05T02:28:40.184718",
     "status": "completed"
    },
    "tags": []
   },
   "source": [
    "**There are not too many labels, so leaving the data as is**"
   ]
  },
  {
   "cell_type": "markdown",
   "metadata": {
    "papermill": {
     "duration": 0.136623,
     "end_time": "2020-12-05T02:28:40.594429",
     "exception": false,
     "start_time": "2020-12-05T02:28:40.457806",
     "status": "completed"
    },
    "tags": []
   },
   "source": [
    "## Analyzing feature X4 ##"
   ]
  },
  {
   "cell_type": "code",
   "execution_count": 40,
   "metadata": {
    "execution": {
     "iopub.execute_input": "2020-12-05T02:28:40.877295Z",
     "iopub.status.busy": "2020-12-05T02:28:40.876174Z",
     "iopub.status.idle": "2020-12-05T02:28:40.880908Z",
     "shell.execute_reply": "2020-12-05T02:28:40.881526Z"
    },
    "papermill": {
     "duration": 0.149477,
     "end_time": "2020-12-05T02:28:40.881709",
     "exception": false,
     "start_time": "2020-12-05T02:28:40.732232",
     "status": "completed"
    },
    "tags": []
   },
   "outputs": [
    {
     "data": {
      "text/plain": [
       "d    4204\n",
       "a       2\n",
       "c       1\n",
       "b       1\n",
       "Name: X4, dtype: int64"
      ]
     },
     "execution_count": 40,
     "metadata": {},
     "output_type": "execute_result"
    }
   ],
   "source": [
    "merc_train.X4.value_counts()"
   ]
  },
  {
   "cell_type": "markdown",
   "metadata": {
    "papermill": {
     "duration": 0.141726,
     "end_time": "2020-12-05T02:28:41.162470",
     "exception": false,
     "start_time": "2020-12-05T02:28:41.020744",
     "status": "completed"
    },
    "tags": []
   },
   "source": [
    "**It is evident from the above counts that X4 is 'd' in more than 99% of the cases, so transforming the data to d, ~d** "
   ]
  },
  {
   "cell_type": "code",
   "execution_count": 41,
   "metadata": {
    "execution": {
     "iopub.execute_input": "2020-12-05T02:28:41.456399Z",
     "iopub.status.busy": "2020-12-05T02:28:41.455266Z",
     "iopub.status.idle": "2020-12-05T02:28:41.460221Z",
     "shell.execute_reply": "2020-12-05T02:28:41.459409Z"
    },
    "papermill": {
     "duration": 0.154889,
     "end_time": "2020-12-05T02:28:41.460357",
     "exception": false,
     "start_time": "2020-12-05T02:28:41.305468",
     "status": "completed"
    },
    "tags": []
   },
   "outputs": [
    {
     "data": {
      "text/plain": [
       "array(['b', 'c', 'a', 'a'], dtype=object)"
      ]
     },
     "execution_count": 41,
     "metadata": {},
     "output_type": "execute_result"
    }
   ],
   "source": [
    "merc_train[merc_train.X4!='d']['X4'].values"
   ]
  },
  {
   "cell_type": "code",
   "execution_count": 42,
   "metadata": {
    "execution": {
     "iopub.execute_input": "2020-12-05T02:28:41.750364Z",
     "iopub.status.busy": "2020-12-05T02:28:41.749142Z",
     "iopub.status.idle": "2020-12-05T02:28:41.753210Z",
     "shell.execute_reply": "2020-12-05T02:28:41.752421Z"
    },
    "papermill": {
     "duration": 0.15404,
     "end_time": "2020-12-05T02:28:41.753355",
     "exception": false,
     "start_time": "2020-12-05T02:28:41.599315",
     "status": "completed"
    },
    "tags": []
   },
   "outputs": [],
   "source": [
    "def transform_X4(df):\n",
    "    df['X4'].replace(to_replace=df[df.X4!='d']['X4'].values\n",
    "                    ,value='~d'\n",
    "                    ,inplace=True)"
   ]
  },
  {
   "cell_type": "code",
   "execution_count": 43,
   "metadata": {
    "execution": {
     "iopub.execute_input": "2020-12-05T02:28:42.051488Z",
     "iopub.status.busy": "2020-12-05T02:28:42.050375Z",
     "iopub.status.idle": "2020-12-05T02:28:42.053818Z",
     "shell.execute_reply": "2020-12-05T02:28:42.053030Z"
    },
    "papermill": {
     "duration": 0.15846,
     "end_time": "2020-12-05T02:28:42.053977",
     "exception": false,
     "start_time": "2020-12-05T02:28:41.895517",
     "status": "completed"
    },
    "tags": []
   },
   "outputs": [],
   "source": [
    "transform_X4(merc_train)"
   ]
  },
  {
   "cell_type": "code",
   "execution_count": 44,
   "metadata": {
    "execution": {
     "iopub.execute_input": "2020-12-05T02:28:42.353334Z",
     "iopub.status.busy": "2020-12-05T02:28:42.352220Z",
     "iopub.status.idle": "2020-12-05T02:28:42.356800Z",
     "shell.execute_reply": "2020-12-05T02:28:42.356179Z"
    },
    "papermill": {
     "duration": 0.161357,
     "end_time": "2020-12-05T02:28:42.356937",
     "exception": false,
     "start_time": "2020-12-05T02:28:42.195580",
     "status": "completed"
    },
    "tags": []
   },
   "outputs": [
    {
     "data": {
      "text/plain": [
       "d     4204\n",
       "~d       4\n",
       "Name: X4, dtype: int64"
      ]
     },
     "execution_count": 44,
     "metadata": {},
     "output_type": "execute_result"
    }
   ],
   "source": [
    "merc_train.X4.value_counts()"
   ]
  },
  {
   "cell_type": "code",
   "execution_count": 45,
   "metadata": {
    "execution": {
     "iopub.execute_input": "2020-12-05T02:28:42.658737Z",
     "iopub.status.busy": "2020-12-05T02:28:42.657471Z",
     "iopub.status.idle": "2020-12-05T02:28:42.886632Z",
     "shell.execute_reply": "2020-12-05T02:28:42.885917Z"
    },
    "papermill": {
     "duration": 0.382024,
     "end_time": "2020-12-05T02:28:42.886761",
     "exception": false,
     "start_time": "2020-12-05T02:28:42.504737",
     "status": "completed"
    },
    "tags": []
   },
   "outputs": [
    {
     "data": {
      "text/plain": [
       "<matplotlib.axes._subplots.AxesSubplot at 0x7f7024caf410>"
      ]
     },
     "execution_count": 45,
     "metadata": {},
     "output_type": "execute_result"
    },
    {
     "data": {
      "image/png": "[encoded data removed]",
      "text/plain": [
       "<Figure size 432x288 with 1 Axes>"
      ]
     },
     "metadata": {
      "needs_background": "light"
     },
     "output_type": "display_data"
    }
   ],
   "source": [
    "sns.barplot(x=merc_train.X4,y=merc_train.y)"
   ]
  },
  {
   "cell_type": "markdown",
   "metadata": {
    "papermill": {
     "duration": 0.144462,
     "end_time": "2020-12-05T02:28:43.176073",
     "exception": false,
     "start_time": "2020-12-05T02:28:43.031611",
     "status": "completed"
    },
    "tags": []
   },
   "source": [
    "## Analyzing feature X5 ##"
   ]
  },
  {
   "cell_type": "code",
   "execution_count": 46,
   "metadata": {
    "execution": {
     "iopub.execute_input": "2020-12-05T02:28:43.474355Z",
     "iopub.status.busy": "2020-12-05T02:28:43.473387Z",
     "iopub.status.idle": "2020-12-05T02:28:43.478515Z",
     "shell.execute_reply": "2020-12-05T02:28:43.477738Z"
    },
    "papermill": {
     "duration": 0.158193,
     "end_time": "2020-12-05T02:28:43.478638",
     "exception": false,
     "start_time": "2020-12-05T02:28:43.320445",
     "status": "completed"
    },
    "tags": []
   },
   "outputs": [
    {
     "data": {
      "text/plain": [
       "v     231\n",
       "w     231\n",
       "q     220\n",
       "r     215\n",
       "d     214\n",
       "s     214\n",
       "n     212\n",
       "m     208\n",
       "p     208\n",
       "i     207\n",
       "ae    205\n",
       "ag    203\n",
       "ac    200\n",
       "ab    197\n",
       "l     195\n",
       "af    188\n",
       "ad    185\n",
       "k     177\n",
       "c     131\n",
       "j     125\n",
       "aa    112\n",
       "ah     97\n",
       "o      20\n",
       "f       7\n",
       "x       2\n",
       "g       1\n",
       "h       1\n",
       "u       1\n",
       "y       1\n",
       "Name: X5, dtype: int64"
      ]
     },
     "execution_count": 46,
     "metadata": {},
     "output_type": "execute_result"
    }
   ],
   "source": [
    "merc_train.X5.value_counts()"
   ]
  },
  {
   "cell_type": "code",
   "execution_count": 47,
   "metadata": {
    "execution": {
     "iopub.execute_input": "2020-12-05T02:28:43.782241Z",
     "iopub.status.busy": "2020-12-05T02:28:43.781405Z",
     "iopub.status.idle": "2020-12-05T02:28:43.784643Z",
     "shell.execute_reply": "2020-12-05T02:28:43.783873Z"
    },
    "papermill": {
     "duration": 0.159374,
     "end_time": "2020-12-05T02:28:43.784773",
     "exception": false,
     "start_time": "2020-12-05T02:28:43.625399",
     "status": "completed"
    },
    "tags": []
   },
   "outputs": [],
   "source": [
    "def transform_X5(df):\n",
    "    x5_grp=df.groupby('X5').aggregate(func='count')['ID'].reset_index()\n",
    "    df['X5'].replace(to_replace=x5_grp[x5_grp['ID']<100]['X5'].values\n",
    "                    ,value='OT'\n",
    "                    ,inplace=True)"
   ]
  },
  {
   "cell_type": "code",
   "execution_count": 48,
   "metadata": {
    "execution": {
     "iopub.execute_input": "2020-12-05T02:28:44.100379Z",
     "iopub.status.busy": "2020-12-05T02:28:44.099499Z",
     "iopub.status.idle": "2020-12-05T02:28:44.123372Z",
     "shell.execute_reply": "2020-12-05T02:28:44.122577Z"
    },
    "papermill": {
     "duration": 0.185365,
     "end_time": "2020-12-05T02:28:44.123505",
     "exception": false,
     "start_time": "2020-12-05T02:28:43.938140",
     "status": "completed"
    },
    "tags": []
   },
   "outputs": [],
   "source": [
    "transform_X5(merc_train)"
   ]
  },
  {
   "cell_type": "code",
   "execution_count": 49,
   "metadata": {
    "execution": {
     "iopub.execute_input": "2020-12-05T02:28:44.446796Z",
     "iopub.status.busy": "2020-12-05T02:28:44.445712Z",
     "iopub.status.idle": "2020-12-05T02:28:44.453205Z",
     "shell.execute_reply": "2020-12-05T02:28:44.454108Z"
    },
    "papermill": {
     "duration": 0.180024,
     "end_time": "2020-12-05T02:28:44.454306",
     "exception": false,
     "start_time": "2020-12-05T02:28:44.274282",
     "status": "completed"
    },
    "tags": []
   },
   "outputs": [
    {
     "data": {
      "text/plain": [
       "w     231\n",
       "v     231\n",
       "q     220\n",
       "r     215\n",
       "s     214\n",
       "d     214\n",
       "n     212\n",
       "m     208\n",
       "p     208\n",
       "i     207\n",
       "ae    205\n",
       "ag    203\n",
       "ac    200\n",
       "ab    197\n",
       "l     195\n",
       "af    188\n",
       "ad    185\n",
       "k     177\n",
       "c     131\n",
       "OT    130\n",
       "j     125\n",
       "aa    112\n",
       "Name: X5, dtype: int64"
      ]
     },
     "execution_count": 49,
     "metadata": {},
     "output_type": "execute_result"
    }
   ],
   "source": [
    "merc_train.X5.value_counts()"
   ]
  },
  {
   "cell_type": "code",
   "execution_count": 50,
   "metadata": {
    "execution": {
     "iopub.execute_input": "2020-12-05T02:28:44.778883Z",
     "iopub.status.busy": "2020-12-05T02:28:44.774976Z",
     "iopub.status.idle": "2020-12-05T02:28:45.347964Z",
     "shell.execute_reply": "2020-12-05T02:28:45.346860Z"
    },
    "papermill": {
     "duration": 0.741316,
     "end_time": "2020-12-05T02:28:45.348202",
     "exception": false,
     "start_time": "2020-12-05T02:28:44.606886",
     "status": "completed"
    },
    "tags": []
   },
   "outputs": [
    {
     "data": {
      "text/plain": [
       "<matplotlib.axes._subplots.AxesSubplot at 0x7f7024c12450>"
      ]
     },
     "execution_count": 50,
     "metadata": {},
     "output_type": "execute_result"
    },
    {
     "data": {
      "image/png": "[encoded data removed]",
      "text/plain": [
       "<Figure size 1008x432 with 1 Axes>"
      ]
     },
     "metadata": {
      "needs_background": "light"
     },
     "output_type": "display_data"
    }
   ],
   "source": [
    "plt.figure(figsize=(14,6))\n",
    "sns.boxplot(x=merc_train.X5,y=merc_train.y)"
   ]
  },
  {
   "cell_type": "code",
   "execution_count": 51,
   "metadata": {
    "execution": {
     "iopub.execute_input": "2020-12-05T02:28:45.658833Z",
     "iopub.status.busy": "2020-12-05T02:28:45.657635Z",
     "iopub.status.idle": "2020-12-05T02:28:46.915765Z",
     "shell.execute_reply": "2020-12-05T02:28:46.916463Z"
    },
    "papermill": {
     "duration": 1.421172,
     "end_time": "2020-12-05T02:28:46.916655",
     "exception": false,
     "start_time": "2020-12-05T02:28:45.495483",
     "status": "completed"
    },
    "tags": []
   },
   "outputs": [
    {
     "data": {
      "text/plain": [
       "<matplotlib.axes._subplots.AxesSubplot at 0x7f70249eab50>"
      ]
     },
     "execution_count": 51,
     "metadata": {},
     "output_type": "execute_result"
    },
    {
     "data": {
      "image/png": "[encoded data removed]",
      "text/plain": [
       "<Figure size 432x288 with 1 Axes>"
      ]
     },
     "metadata": {
      "needs_background": "light"
     },
     "output_type": "display_data"
    }
   ],
   "source": [
    "sns.barplot(x=merc_train.X5,y=merc_train.y)"
   ]
  },
  {
   "cell_type": "markdown",
   "metadata": {
    "papermill": {
     "duration": 0.164959,
     "end_time": "2020-12-05T02:28:47.252447",
     "exception": false,
     "start_time": "2020-12-05T02:28:47.087488",
     "status": "completed"
    },
    "tags": []
   },
   "source": [
    "## Analyzing feature X6 ## "
   ]
  },
  {
   "cell_type": "code",
   "execution_count": 52,
   "metadata": {
    "execution": {
     "iopub.execute_input": "2020-12-05T02:28:47.572764Z",
     "iopub.status.busy": "2020-12-05T02:28:47.571681Z",
     "iopub.status.idle": "2020-12-05T02:28:47.577384Z",
     "shell.execute_reply": "2020-12-05T02:28:47.576690Z"
    },
    "papermill": {
     "duration": 0.170464,
     "end_time": "2020-12-05T02:28:47.577518",
     "exception": false,
     "start_time": "2020-12-05T02:28:47.407054",
     "status": "completed"
    },
    "tags": []
   },
   "outputs": [
    {
     "data": {
      "text/plain": [
       "g    1042\n",
       "j    1039\n",
       "d     625\n",
       "i     488\n",
       "l     477\n",
       "a     206\n",
       "h     190\n",
       "k      43\n",
       "c      38\n",
       "b      28\n",
       "f      20\n",
       "e      12\n",
       "Name: X6, dtype: int64"
      ]
     },
     "execution_count": 52,
     "metadata": {},
     "output_type": "execute_result"
    }
   ],
   "source": [
    "merc_train.X6.value_counts()"
   ]
  },
  {
   "cell_type": "code",
   "execution_count": 53,
   "metadata": {
    "execution": {
     "iopub.execute_input": "2020-12-05T02:28:47.950548Z",
     "iopub.status.busy": "2020-12-05T02:28:47.948050Z",
     "iopub.status.idle": "2020-12-05T02:28:48.690039Z",
     "shell.execute_reply": "2020-12-05T02:28:48.690773Z"
    },
    "papermill": {
     "duration": 0.956584,
     "end_time": "2020-12-05T02:28:48.691004",
     "exception": false,
     "start_time": "2020-12-05T02:28:47.734420",
     "status": "completed"
    },
    "tags": []
   },
   "outputs": [
    {
     "data": {
      "text/plain": [
       "<matplotlib.axes._subplots.AxesSubplot at 0x7f7024952a50>"
      ]
     },
     "execution_count": 53,
     "metadata": {},
     "output_type": "execute_result"
    },
    {
     "data": {
      "image/png": "[encoded data removed]",
      "text/plain": [
       "<Figure size 1008x432 with 1 Axes>"
      ]
     },
     "metadata": {
      "needs_background": "light"
     },
     "output_type": "display_data"
    }
   ],
   "source": [
    "plt.figure(figsize=(14,6))\n",
    "sns.barplot(x=merc_train.X6,y=merc_train.y)"
   ]
  },
  {
   "cell_type": "markdown",
   "metadata": {
    "papermill": {
     "duration": 0.161117,
     "end_time": "2020-12-05T02:28:49.007985",
     "exception": false,
     "start_time": "2020-12-05T02:28:48.846868",
     "status": "completed"
    },
    "tags": []
   },
   "source": [
    "## Analyzing feature X8 ##"
   ]
  },
  {
   "cell_type": "code",
   "execution_count": 54,
   "metadata": {
    "execution": {
     "iopub.execute_input": "2020-12-05T02:28:49.338133Z",
     "iopub.status.busy": "2020-12-05T02:28:49.336986Z",
     "iopub.status.idle": "2020-12-05T02:28:49.341624Z",
     "shell.execute_reply": "2020-12-05T02:28:49.341041Z"
    },
    "papermill": {
     "duration": 0.175924,
     "end_time": "2020-12-05T02:28:49.341771",
     "exception": false,
     "start_time": "2020-12-05T02:28:49.165847",
     "status": "completed"
    },
    "tags": []
   },
   "outputs": [
    {
     "data": {
      "text/plain": [
       "j    277\n",
       "s    255\n",
       "f    243\n",
       "n    242\n",
       "i    237\n",
       "e    225\n",
       "r    219\n",
       "a    210\n",
       "w    196\n",
       "v    194\n",
       "b    190\n",
       "k    176\n",
       "o    163\n",
       "m    155\n",
       "g    130\n",
       "u    119\n",
       "t    118\n",
       "q    117\n",
       "h    117\n",
       "y    116\n",
       "x    105\n",
       "d    103\n",
       "l    101\n",
       "p    100\n",
       "c    100\n",
       "Name: X8, dtype: int64"
      ]
     },
     "execution_count": 54,
     "metadata": {},
     "output_type": "execute_result"
    }
   ],
   "source": [
    "merc_train.X8.value_counts()"
   ]
  },
  {
   "cell_type": "code",
   "execution_count": 55,
   "metadata": {
    "execution": {
     "iopub.execute_input": "2020-12-05T02:28:49.668787Z",
     "iopub.status.busy": "2020-12-05T02:28:49.665879Z",
     "iopub.status.idle": "2020-12-05T02:28:50.914027Z",
     "shell.execute_reply": "2020-12-05T02:28:50.913172Z"
    },
    "papermill": {
     "duration": 1.410891,
     "end_time": "2020-12-05T02:28:50.914165",
     "exception": false,
     "start_time": "2020-12-05T02:28:49.503274",
     "status": "completed"
    },
    "tags": []
   },
   "outputs": [
    {
     "data": {
      "text/plain": [
       "<matplotlib.axes._subplots.AxesSubplot at 0x7f7024843310>"
      ]
     },
     "execution_count": 55,
     "metadata": {},
     "output_type": "execute_result"
    },
    {
     "data": {
      "image/png": "[encoded data removed]",
      "text/plain": [
       "<Figure size 1008x432 with 1 Axes>"
      ]
     },
     "metadata": {
      "needs_background": "light"
     },
     "output_type": "display_data"
    }
   ],
   "source": [
    "plt.figure(figsize=(14,6))\n",
    "sns.barplot(x=merc_train.X8,y=merc_train.y)"
   ]
  },
  {
   "cell_type": "markdown",
   "metadata": {
    "papermill": {
     "duration": 0.165089,
     "end_time": "2020-12-05T02:28:51.248556",
     "exception": false,
     "start_time": "2020-12-05T02:28:51.083467",
     "status": "completed"
    },
    "tags": []
   },
   "source": [
    "**From the above barplots on categorical features, it is evident that outcome(y) is not majorly impacted by these features**"
   ]
  },
  {
   "cell_type": "markdown",
   "metadata": {
    "papermill": {
     "duration": 0.157708,
     "end_time": "2020-12-05T02:28:51.568600",
     "exception": false,
     "start_time": "2020-12-05T02:28:51.410892",
     "status": "completed"
    },
    "tags": []
   },
   "source": [
    "## Applying label encoder on categorical features to convert them to numerical##"
   ]
  },
  {
   "cell_type": "code",
   "execution_count": 56,
   "metadata": {
    "execution": {
     "iopub.execute_input": "2020-12-05T02:28:51.896573Z",
     "iopub.status.busy": "2020-12-05T02:28:51.895505Z",
     "iopub.status.idle": "2020-12-05T02:28:51.975867Z",
     "shell.execute_reply": "2020-12-05T02:28:51.975228Z"
    },
    "papermill": {
     "duration": 0.24839,
     "end_time": "2020-12-05T02:28:51.976050",
     "exception": false,
     "start_time": "2020-12-05T02:28:51.727660",
     "status": "completed"
    },
    "tags": []
   },
   "outputs": [],
   "source": [
    "from sklearn.preprocessing import LabelEncoder"
   ]
  },
  {
   "cell_type": "code",
   "execution_count": 57,
   "metadata": {
    "execution": {
     "iopub.execute_input": "2020-12-05T02:28:52.315272Z",
     "iopub.status.busy": "2020-12-05T02:28:52.314163Z",
     "iopub.status.idle": "2020-12-05T02:28:52.318436Z",
     "shell.execute_reply": "2020-12-05T02:28:52.319266Z"
    },
    "papermill": {
     "duration": 0.184028,
     "end_time": "2020-12-05T02:28:52.319473",
     "exception": false,
     "start_time": "2020-12-05T02:28:52.135445",
     "status": "completed"
    },
    "tags": []
   },
   "outputs": [],
   "source": [
    "x=merc_train.drop(columns='y')\n",
    "y=merc_train.y"
   ]
  },
  {
   "cell_type": "code",
   "execution_count": 58,
   "metadata": {
    "execution": {
     "iopub.execute_input": "2020-12-05T02:28:52.684467Z",
     "iopub.status.busy": "2020-12-05T02:28:52.683370Z",
     "iopub.status.idle": "2020-12-05T02:28:52.688452Z",
     "shell.execute_reply": "2020-12-05T02:28:52.687443Z"
    },
    "papermill": {
     "duration": 0.201116,
     "end_time": "2020-12-05T02:28:52.688595",
     "exception": false,
     "start_time": "2020-12-05T02:28:52.487479",
     "status": "completed"
    },
    "tags": []
   },
   "outputs": [
    {
     "data": {
      "text/html": [
       "<div>\n",
       "<style scoped>\n",
       "    .dataframe tbody tr th:only-of-type {\n",
       "        vertical-align: middle;\n",
       "    }\n",
       "\n",
       "    .dataframe tbody tr th {\n",
       "        vertical-align: top;\n",
       "    }\n",
       "\n",
       "    .dataframe thead th {\n",
       "        text-align: right;\n",
       "    }\n",
       "</style>\n",
       "<table border=\"1\" class=\"dataframe\">\n",
       "  <thead>\n",
       "    <tr style=\"text-align: right;\">\n",
       "      <th></th>\n",
       "      <th>ID</th>\n",
       "      <th>X0</th>\n",
       "      <th>X1</th>\n",
       "      <th>X2</th>\n",
       "      <th>X3</th>\n",
       "      <th>X4</th>\n",
       "      <th>X5</th>\n",
       "      <th>X6</th>\n",
       "      <th>X8</th>\n",
       "      <th>X10</th>\n",
       "      <th>...</th>\n",
       "      <th>X375</th>\n",
       "      <th>X376</th>\n",
       "      <th>X377</th>\n",
       "      <th>X378</th>\n",
       "      <th>X379</th>\n",
       "      <th>X380</th>\n",
       "      <th>X382</th>\n",
       "      <th>X383</th>\n",
       "      <th>X384</th>\n",
       "      <th>X385</th>\n",
       "    </tr>\n",
       "  </thead>\n",
       "  <tbody>\n",
       "    <tr>\n",
       "      <th>0</th>\n",
       "      <td>0</td>\n",
       "      <td>OT</td>\n",
       "      <td>v</td>\n",
       "      <td>at</td>\n",
       "      <td>a</td>\n",
       "      <td>d</td>\n",
       "      <td>OT</td>\n",
       "      <td>j</td>\n",
       "      <td>o</td>\n",
       "      <td>0</td>\n",
       "      <td>...</td>\n",
       "      <td>0</td>\n",
       "      <td>0</td>\n",
       "      <td>1</td>\n",
       "      <td>0</td>\n",
       "      <td>0</td>\n",
       "      <td>0</td>\n",
       "      <td>0</td>\n",
       "      <td>0</td>\n",
       "      <td>0</td>\n",
       "      <td>0</td>\n",
       "    </tr>\n",
       "    <tr>\n",
       "      <th>1</th>\n",
       "      <td>6</td>\n",
       "      <td>OT</td>\n",
       "      <td>OT</td>\n",
       "      <td>av</td>\n",
       "      <td>e</td>\n",
       "      <td>d</td>\n",
       "      <td>OT</td>\n",
       "      <td>l</td>\n",
       "      <td>o</td>\n",
       "      <td>0</td>\n",
       "      <td>...</td>\n",
       "      <td>1</td>\n",
       "      <td>0</td>\n",
       "      <td>0</td>\n",
       "      <td>0</td>\n",
       "      <td>0</td>\n",
       "      <td>0</td>\n",
       "      <td>0</td>\n",
       "      <td>0</td>\n",
       "      <td>0</td>\n",
       "      <td>0</td>\n",
       "    </tr>\n",
       "    <tr>\n",
       "      <th>2</th>\n",
       "      <td>7</td>\n",
       "      <td>az</td>\n",
       "      <td>OT</td>\n",
       "      <td>n</td>\n",
       "      <td>c</td>\n",
       "      <td>d</td>\n",
       "      <td>OT</td>\n",
       "      <td>j</td>\n",
       "      <td>x</td>\n",
       "      <td>0</td>\n",
       "      <td>...</td>\n",
       "      <td>0</td>\n",
       "      <td>0</td>\n",
       "      <td>0</td>\n",
       "      <td>0</td>\n",
       "      <td>0</td>\n",
       "      <td>0</td>\n",
       "      <td>1</td>\n",
       "      <td>0</td>\n",
       "      <td>0</td>\n",
       "      <td>0</td>\n",
       "    </tr>\n",
       "    <tr>\n",
       "      <th>3</th>\n",
       "      <td>9</td>\n",
       "      <td>az</td>\n",
       "      <td>OT</td>\n",
       "      <td>n</td>\n",
       "      <td>f</td>\n",
       "      <td>d</td>\n",
       "      <td>OT</td>\n",
       "      <td>l</td>\n",
       "      <td>e</td>\n",
       "      <td>0</td>\n",
       "      <td>...</td>\n",
       "      <td>0</td>\n",
       "      <td>0</td>\n",
       "      <td>0</td>\n",
       "      <td>0</td>\n",
       "      <td>0</td>\n",
       "      <td>0</td>\n",
       "      <td>0</td>\n",
       "      <td>0</td>\n",
       "      <td>0</td>\n",
       "      <td>0</td>\n",
       "    </tr>\n",
       "    <tr>\n",
       "      <th>4</th>\n",
       "      <td>13</td>\n",
       "      <td>az</td>\n",
       "      <td>v</td>\n",
       "      <td>n</td>\n",
       "      <td>f</td>\n",
       "      <td>d</td>\n",
       "      <td>OT</td>\n",
       "      <td>d</td>\n",
       "      <td>n</td>\n",
       "      <td>0</td>\n",
       "      <td>...</td>\n",
       "      <td>0</td>\n",
       "      <td>0</td>\n",
       "      <td>0</td>\n",
       "      <td>0</td>\n",
       "      <td>0</td>\n",
       "      <td>0</td>\n",
       "      <td>0</td>\n",
       "      <td>0</td>\n",
       "      <td>0</td>\n",
       "      <td>0</td>\n",
       "    </tr>\n",
       "  </tbody>\n",
       "</table>\n",
       "<p>5 rows × 365 columns</p>\n",
       "</div>"
      ],
      "text/plain": [
       "   ID  X0  X1  X2 X3 X4  X5 X6 X8  X10  ...  X375  X376  X377  X378  X379  \\\n",
       "0   0  OT   v  at  a  d  OT  j  o    0  ...     0     0     1     0     0   \n",
       "1   6  OT  OT  av  e  d  OT  l  o    0  ...     1     0     0     0     0   \n",
       "2   7  az  OT   n  c  d  OT  j  x    0  ...     0     0     0     0     0   \n",
       "3   9  az  OT   n  f  d  OT  l  e    0  ...     0     0     0     0     0   \n",
       "4  13  az   v   n  f  d  OT  d  n    0  ...     0     0     0     0     0   \n",
       "\n",
       "   X380  X382  X383  X384  X385  \n",
       "0     0     0     0     0     0  \n",
       "1     0     0     0     0     0  \n",
       "2     0     1     0     0     0  \n",
       "3     0     0     0     0     0  \n",
       "4     0     0     0     0     0  \n",
       "\n",
       "[5 rows x 365 columns]"
      ]
     },
     "execution_count": 58,
     "metadata": {},
     "output_type": "execute_result"
    }
   ],
   "source": [
    "x.head()"
   ]
  },
  {
   "cell_type": "code",
   "execution_count": 59,
   "metadata": {
    "execution": {
     "iopub.execute_input": "2020-12-05T02:28:53.016134Z",
     "iopub.status.busy": "2020-12-05T02:28:53.015006Z",
     "iopub.status.idle": "2020-12-05T02:28:53.019869Z",
     "shell.execute_reply": "2020-12-05T02:28:53.020646Z"
    },
    "papermill": {
     "duration": 0.171861,
     "end_time": "2020-12-05T02:28:53.020869",
     "exception": false,
     "start_time": "2020-12-05T02:28:52.849008",
     "status": "completed"
    },
    "tags": []
   },
   "outputs": [],
   "source": [
    "catCols=merc_train.select_dtypes(include=\"object\").columns"
   ]
  },
  {
   "cell_type": "code",
   "execution_count": 60,
   "metadata": {
    "execution": {
     "iopub.execute_input": "2020-12-05T02:28:53.354353Z",
     "iopub.status.busy": "2020-12-05T02:28:53.353259Z",
     "iopub.status.idle": "2020-12-05T02:28:53.357073Z",
     "shell.execute_reply": "2020-12-05T02:28:53.357686Z"
    },
    "papermill": {
     "duration": 0.17264,
     "end_time": "2020-12-05T02:28:53.357843",
     "exception": false,
     "start_time": "2020-12-05T02:28:53.185203",
     "status": "completed"
    },
    "tags": []
   },
   "outputs": [
    {
     "data": {
      "text/plain": [
       "Index(['X0', 'X1', 'X2', 'X3', 'X4', 'X5', 'X6', 'X8'], dtype='object')"
      ]
     },
     "execution_count": 60,
     "metadata": {},
     "output_type": "execute_result"
    }
   ],
   "source": [
    "catCols"
   ]
  },
  {
   "cell_type": "code",
   "execution_count": 61,
   "metadata": {
    "execution": {
     "iopub.execute_input": "2020-12-05T02:28:53.675807Z",
     "iopub.status.busy": "2020-12-05T02:28:53.675040Z",
     "iopub.status.idle": "2020-12-05T02:28:53.678316Z",
     "shell.execute_reply": "2020-12-05T02:28:53.677721Z"
    },
    "papermill": {
     "duration": 0.167557,
     "end_time": "2020-12-05T02:28:53.678447",
     "exception": false,
     "start_time": "2020-12-05T02:28:53.510890",
     "status": "completed"
    },
    "tags": []
   },
   "outputs": [],
   "source": [
    "def transform_labels(df,x):\n",
    "    catCols=df.select_dtypes(include=\"object\").columns\n",
    "    le=LabelEncoder()\n",
    "    for i in catCols:\n",
    "        le.fit(x[i])\n",
    "        x[i]=le.transform(x[i])"
   ]
  },
  {
   "cell_type": "code",
   "execution_count": 62,
   "metadata": {
    "execution": {
     "iopub.execute_input": "2020-12-05T02:28:54.015399Z",
     "iopub.status.busy": "2020-12-05T02:28:53.997168Z",
     "iopub.status.idle": "2020-12-05T02:28:54.019870Z",
     "shell.execute_reply": "2020-12-05T02:28:54.019058Z"
    },
    "papermill": {
     "duration": 0.188488,
     "end_time": "2020-12-05T02:28:54.020024",
     "exception": false,
     "start_time": "2020-12-05T02:28:53.831536",
     "status": "completed"
    },
    "tags": []
   },
   "outputs": [],
   "source": [
    "transform_labels(merc_train,x)"
   ]
  },
  {
   "cell_type": "code",
   "execution_count": 63,
   "metadata": {
    "execution": {
     "iopub.execute_input": "2020-12-05T02:28:54.351965Z",
     "iopub.status.busy": "2020-12-05T02:28:54.332662Z",
     "iopub.status.idle": "2020-12-05T02:28:54.356802Z",
     "shell.execute_reply": "2020-12-05T02:28:54.356014Z"
    },
    "papermill": {
     "duration": 0.183706,
     "end_time": "2020-12-05T02:28:54.356939",
     "exception": false,
     "start_time": "2020-12-05T02:28:54.173233",
     "status": "completed"
    },
    "tags": []
   },
   "outputs": [
    {
     "data": {
      "text/html": [
       "<div>\n",
       "<style scoped>\n",
       "    .dataframe tbody tr th:only-of-type {\n",
       "        vertical-align: middle;\n",
       "    }\n",
       "\n",
       "    .dataframe tbody tr th {\n",
       "        vertical-align: top;\n",
       "    }\n",
       "\n",
       "    .dataframe thead th {\n",
       "        text-align: right;\n",
       "    }\n",
       "</style>\n",
       "<table border=\"1\" class=\"dataframe\">\n",
       "  <thead>\n",
       "    <tr style=\"text-align: right;\">\n",
       "      <th></th>\n",
       "      <th>ID</th>\n",
       "      <th>X0</th>\n",
       "      <th>X1</th>\n",
       "      <th>X2</th>\n",
       "      <th>X3</th>\n",
       "      <th>X4</th>\n",
       "      <th>X5</th>\n",
       "      <th>X6</th>\n",
       "      <th>X8</th>\n",
       "      <th>X10</th>\n",
       "      <th>...</th>\n",
       "      <th>X375</th>\n",
       "      <th>X376</th>\n",
       "      <th>X377</th>\n",
       "      <th>X378</th>\n",
       "      <th>X379</th>\n",
       "      <th>X380</th>\n",
       "      <th>X382</th>\n",
       "      <th>X383</th>\n",
       "      <th>X384</th>\n",
       "      <th>X385</th>\n",
       "    </tr>\n",
       "  </thead>\n",
       "  <tbody>\n",
       "    <tr>\n",
       "      <th>0</th>\n",
       "      <td>0</td>\n",
       "      <td>0</td>\n",
       "      <td>9</td>\n",
       "      <td>17</td>\n",
       "      <td>0</td>\n",
       "      <td>0</td>\n",
       "      <td>0</td>\n",
       "      <td>9</td>\n",
       "      <td>14</td>\n",
       "      <td>0</td>\n",
       "      <td>...</td>\n",
       "      <td>0</td>\n",
       "      <td>0</td>\n",
       "      <td>1</td>\n",
       "      <td>0</td>\n",
       "      <td>0</td>\n",
       "      <td>0</td>\n",
       "      <td>0</td>\n",
       "      <td>0</td>\n",
       "      <td>0</td>\n",
       "      <td>0</td>\n",
       "    </tr>\n",
       "    <tr>\n",
       "      <th>1</th>\n",
       "      <td>6</td>\n",
       "      <td>0</td>\n",
       "      <td>0</td>\n",
       "      <td>19</td>\n",
       "      <td>4</td>\n",
       "      <td>0</td>\n",
       "      <td>0</td>\n",
       "      <td>11</td>\n",
       "      <td>14</td>\n",
       "      <td>0</td>\n",
       "      <td>...</td>\n",
       "      <td>1</td>\n",
       "      <td>0</td>\n",
       "      <td>0</td>\n",
       "      <td>0</td>\n",
       "      <td>0</td>\n",
       "      <td>0</td>\n",
       "      <td>0</td>\n",
       "      <td>0</td>\n",
       "      <td>0</td>\n",
       "      <td>0</td>\n",
       "    </tr>\n",
       "    <tr>\n",
       "      <th>2</th>\n",
       "      <td>7</td>\n",
       "      <td>5</td>\n",
       "      <td>0</td>\n",
       "      <td>34</td>\n",
       "      <td>2</td>\n",
       "      <td>0</td>\n",
       "      <td>0</td>\n",
       "      <td>9</td>\n",
       "      <td>23</td>\n",
       "      <td>0</td>\n",
       "      <td>...</td>\n",
       "      <td>0</td>\n",
       "      <td>0</td>\n",
       "      <td>0</td>\n",
       "      <td>0</td>\n",
       "      <td>0</td>\n",
       "      <td>0</td>\n",
       "      <td>1</td>\n",
       "      <td>0</td>\n",
       "      <td>0</td>\n",
       "      <td>0</td>\n",
       "    </tr>\n",
       "    <tr>\n",
       "      <th>3</th>\n",
       "      <td>9</td>\n",
       "      <td>5</td>\n",
       "      <td>0</td>\n",
       "      <td>34</td>\n",
       "      <td>5</td>\n",
       "      <td>0</td>\n",
       "      <td>0</td>\n",
       "      <td>11</td>\n",
       "      <td>4</td>\n",
       "      <td>0</td>\n",
       "      <td>...</td>\n",
       "      <td>0</td>\n",
       "      <td>0</td>\n",
       "      <td>0</td>\n",
       "      <td>0</td>\n",
       "      <td>0</td>\n",
       "      <td>0</td>\n",
       "      <td>0</td>\n",
       "      <td>0</td>\n",
       "      <td>0</td>\n",
       "      <td>0</td>\n",
       "    </tr>\n",
       "    <tr>\n",
       "      <th>4</th>\n",
       "      <td>13</td>\n",
       "      <td>5</td>\n",
       "      <td>9</td>\n",
       "      <td>34</td>\n",
       "      <td>5</td>\n",
       "      <td>0</td>\n",
       "      <td>0</td>\n",
       "      <td>3</td>\n",
       "      <td>13</td>\n",
       "      <td>0</td>\n",
       "      <td>...</td>\n",
       "      <td>0</td>\n",
       "      <td>0</td>\n",
       "      <td>0</td>\n",
       "      <td>0</td>\n",
       "      <td>0</td>\n",
       "      <td>0</td>\n",
       "      <td>0</td>\n",
       "      <td>0</td>\n",
       "      <td>0</td>\n",
       "      <td>0</td>\n",
       "    </tr>\n",
       "  </tbody>\n",
       "</table>\n",
       "<p>5 rows × 365 columns</p>\n",
       "</div>"
      ],
      "text/plain": [
       "   ID  X0  X1  X2  X3  X4  X5  X6  X8  X10  ...  X375  X376  X377  X378  X379  \\\n",
       "0   0   0   9  17   0   0   0   9  14    0  ...     0     0     1     0     0   \n",
       "1   6   0   0  19   4   0   0  11  14    0  ...     1     0     0     0     0   \n",
       "2   7   5   0  34   2   0   0   9  23    0  ...     0     0     0     0     0   \n",
       "3   9   5   0  34   5   0   0  11   4    0  ...     0     0     0     0     0   \n",
       "4  13   5   9  34   5   0   0   3  13    0  ...     0     0     0     0     0   \n",
       "\n",
       "   X380  X382  X383  X384  X385  \n",
       "0     0     0     0     0     0  \n",
       "1     0     0     0     0     0  \n",
       "2     0     1     0     0     0  \n",
       "3     0     0     0     0     0  \n",
       "4     0     0     0     0     0  \n",
       "\n",
       "[5 rows x 365 columns]"
      ]
     },
     "execution_count": 63,
     "metadata": {},
     "output_type": "execute_result"
    }
   ],
   "source": [
    "x.head()"
   ]
  },
  {
   "cell_type": "code",
   "execution_count": 64,
   "metadata": {
    "execution": {
     "iopub.execute_input": "2020-12-05T02:28:54.681995Z",
     "iopub.status.busy": "2020-12-05T02:28:54.681246Z",
     "iopub.status.idle": "2020-12-05T02:28:54.684329Z",
     "shell.execute_reply": "2020-12-05T02:28:54.683585Z"
    },
    "papermill": {
     "duration": 0.165067,
     "end_time": "2020-12-05T02:28:54.684499",
     "exception": false,
     "start_time": "2020-12-05T02:28:54.519432",
     "status": "completed"
    },
    "tags": []
   },
   "outputs": [],
   "source": [
    "#from sklearn.preprocessing import StandardScaler"
   ]
  },
  {
   "cell_type": "code",
   "execution_count": 65,
   "metadata": {
    "execution": {
     "iopub.execute_input": "2020-12-05T02:28:54.996123Z",
     "iopub.status.busy": "2020-12-05T02:28:54.995367Z",
     "iopub.status.idle": "2020-12-05T02:28:55.000138Z",
     "shell.execute_reply": "2020-12-05T02:28:54.999438Z"
    },
    "papermill": {
     "duration": 0.161723,
     "end_time": "2020-12-05T02:28:55.000286",
     "exception": false,
     "start_time": "2020-12-05T02:28:54.838563",
     "status": "completed"
    },
    "tags": []
   },
   "outputs": [],
   "source": [
    "#stdsclr=StandardScaler()\n",
    "#stdsclr.fit(x)"
   ]
  },
  {
   "cell_type": "code",
   "execution_count": 66,
   "metadata": {
    "execution": {
     "iopub.execute_input": "2020-12-05T02:28:55.329868Z",
     "iopub.status.busy": "2020-12-05T02:28:55.328800Z",
     "iopub.status.idle": "2020-12-05T02:28:55.332563Z",
     "shell.execute_reply": "2020-12-05T02:28:55.331572Z"
    },
    "papermill": {
     "duration": 0.170922,
     "end_time": "2020-12-05T02:28:55.332713",
     "exception": false,
     "start_time": "2020-12-05T02:28:55.161791",
     "status": "completed"
    },
    "tags": []
   },
   "outputs": [],
   "source": [
    "#x_std=stdsclr.transform(x)"
   ]
  },
  {
   "cell_type": "markdown",
   "metadata": {
    "papermill": {
     "duration": 0.156244,
     "end_time": "2020-12-05T02:28:55.643073",
     "exception": false,
     "start_time": "2020-12-05T02:28:55.486829",
     "status": "completed"
    },
    "tags": []
   },
   "source": [
    "**From the above barplots, we can say that categorical features X1,X2,X3,X5,X7,X8 are not making much impact on the outcome, so considering PCA on X0,X4,X6**"
   ]
  },
  {
   "cell_type": "markdown",
   "metadata": {
    "papermill": {
     "duration": 0.158037,
     "end_time": "2020-12-05T02:28:55.958365",
     "exception": false,
     "start_time": "2020-12-05T02:28:55.800328",
     "status": "completed"
    },
    "tags": []
   },
   "source": [
    "## Trying to reduce dimensions using PCA ##"
   ]
  },
  {
   "cell_type": "code",
   "execution_count": 67,
   "metadata": {
    "execution": {
     "iopub.execute_input": "2020-12-05T02:28:56.276096Z",
     "iopub.status.busy": "2020-12-05T02:28:56.275299Z",
     "iopub.status.idle": "2020-12-05T02:28:56.606275Z",
     "shell.execute_reply": "2020-12-05T02:28:56.605604Z"
    },
    "papermill": {
     "duration": 0.492648,
     "end_time": "2020-12-05T02:28:56.606422",
     "exception": false,
     "start_time": "2020-12-05T02:28:56.113774",
     "status": "completed"
    },
    "tags": []
   },
   "outputs": [],
   "source": [
    "from sklearn.decomposition import PCA"
   ]
  },
  {
   "cell_type": "code",
   "execution_count": 68,
   "metadata": {
    "execution": {
     "iopub.execute_input": "2020-12-05T02:28:56.926987Z",
     "iopub.status.busy": "2020-12-05T02:28:56.926172Z",
     "iopub.status.idle": "2020-12-05T02:28:56.929628Z",
     "shell.execute_reply": "2020-12-05T02:28:56.928898Z"
    },
    "papermill": {
     "duration": 0.164572,
     "end_time": "2020-12-05T02:28:56.929770",
     "exception": false,
     "start_time": "2020-12-05T02:28:56.765198",
     "status": "completed"
    },
    "tags": []
   },
   "outputs": [],
   "source": [
    "pcaModel=PCA()"
   ]
  },
  {
   "cell_type": "code",
   "execution_count": 69,
   "metadata": {
    "execution": {
     "iopub.execute_input": "2020-12-05T02:28:57.277467Z",
     "iopub.status.busy": "2020-12-05T02:28:57.276642Z",
     "iopub.status.idle": "2020-12-05T02:28:57.280809Z",
     "shell.execute_reply": "2020-12-05T02:28:57.280013Z"
    },
    "papermill": {
     "duration": 0.187916,
     "end_time": "2020-12-05T02:28:57.281015",
     "exception": false,
     "start_time": "2020-12-05T02:28:57.093099",
     "status": "completed"
    },
    "tags": []
   },
   "outputs": [],
   "source": [
    "#x_pca_data = x.iloc[:,0:8]#x[['X0','X4','X6']] #"
   ]
  },
  {
   "cell_type": "code",
   "execution_count": 70,
   "metadata": {
    "execution": {
     "iopub.execute_input": "2020-12-05T02:28:57.644482Z",
     "iopub.status.busy": "2020-12-05T02:28:57.643114Z",
     "iopub.status.idle": "2020-12-05T02:28:57.897553Z",
     "shell.execute_reply": "2020-12-05T02:28:57.898188Z"
    },
    "papermill": {
     "duration": 0.426997,
     "end_time": "2020-12-05T02:28:57.898382",
     "exception": false,
     "start_time": "2020-12-05T02:28:57.471385",
     "status": "completed"
    },
    "tags": []
   },
   "outputs": [
    {
     "data": {
      "text/plain": [
       "PCA()"
      ]
     },
     "execution_count": 70,
     "metadata": {},
     "output_type": "execute_result"
    }
   ],
   "source": [
    "pcaModel.fit(x)"
   ]
  },
  {
   "cell_type": "code",
   "execution_count": 71,
   "metadata": {
    "execution": {
     "iopub.execute_input": "2020-12-05T02:28:58.245369Z",
     "iopub.status.busy": "2020-12-05T02:28:58.244287Z",
     "iopub.status.idle": "2020-12-05T02:28:58.248220Z",
     "shell.execute_reply": "2020-12-05T02:28:58.248902Z"
    },
    "papermill": {
     "duration": 0.175399,
     "end_time": "2020-12-05T02:28:58.249087",
     "exception": false,
     "start_time": "2020-12-05T02:28:58.073688",
     "status": "completed"
    },
    "tags": []
   },
   "outputs": [
    {
     "data": {
      "text/plain": [
       "array([9.99955823e-01, 2.02031274e-05, 8.27667759e-06, 4.71581853e-06,\n",
       "       4.10984489e-06, 1.56398011e-06, 1.35712049e-06, 6.84232687e-07,\n",
       "       3.74995735e-07, 2.76672393e-07, 2.19715927e-07, 2.07779711e-07,\n",
       "       1.83664337e-07, 1.51466846e-07, 1.31700482e-07, 1.15328477e-07,\n",
       "       9.26779299e-08, 8.71780908e-08, 7.61437627e-08, 7.02787075e-08,\n",
       "       6.33831541e-08, 5.82102981e-08, 5.66250743e-08, 5.12223311e-08,\n",
       "       4.59628637e-08, 4.35647271e-08, 3.90046984e-08, 3.72616148e-08,\n",
       "       3.40363069e-08, 3.23086142e-08, 3.13806920e-08, 2.88308323e-08,\n",
       "       2.81535023e-08, 2.63693700e-08, 2.57326121e-08, 2.43771146e-08,\n",
       "       2.23981286e-08, 2.08792599e-08, 1.93239882e-08, 1.86595424e-08,\n",
       "       1.76475558e-08, 1.69603739e-08, 1.61863569e-08, 1.58910084e-08,\n",
       "       1.54263656e-08, 1.51046694e-08, 1.36777039e-08, 1.33847659e-08,\n",
       "       1.29593011e-08, 1.26448189e-08, 1.22608871e-08, 1.22260219e-08,\n",
       "       1.17827282e-08, 1.13101376e-08, 1.06150305e-08, 1.02315367e-08,\n",
       "       9.70134472e-09, 9.60743017e-09, 9.35631326e-09, 9.18073500e-09,\n",
       "       8.84262669e-09, 8.29439497e-09, 8.19393165e-09, 7.76070298e-09,\n",
       "       7.69569506e-09, 7.17391206e-09, 7.00671186e-09, 6.76884000e-09,\n",
       "       6.73068781e-09, 6.35266902e-09, 6.29413176e-09, 6.03798446e-09,\n",
       "       5.94062628e-09, 5.72513987e-09, 5.55147897e-09, 5.55037685e-09,\n",
       "       5.37569752e-09, 5.16270822e-09, 5.06115559e-09, 4.99255080e-09,\n",
       "       4.83156953e-09, 4.73430882e-09, 4.58940289e-09, 4.48901809e-09,\n",
       "       4.32867606e-09, 4.18250203e-09, 4.15177758e-09, 3.98083493e-09,\n",
       "       3.92359810e-09, 3.80477273e-09, 3.78585454e-09, 3.72308967e-09,\n",
       "       3.71045003e-09, 3.50071555e-09, 3.32789501e-09, 3.26652992e-09,\n",
       "       3.21011244e-09, 3.13716353e-09, 3.11108854e-09, 3.07329417e-09,\n",
       "       2.98938926e-09, 2.85739734e-09, 2.79758737e-09, 2.77324602e-09,\n",
       "       2.65244397e-09, 2.55238423e-09, 2.46176301e-09, 2.44096104e-09,\n",
       "       2.35170301e-09, 2.31482879e-09, 2.26843868e-09, 2.19281712e-09,\n",
       "       2.12918453e-09, 2.09950607e-09, 2.02211393e-09, 1.98673297e-09,\n",
       "       1.92564038e-09, 1.85935571e-09, 1.82668109e-09, 1.72093440e-09,\n",
       "       1.69569413e-09, 1.67627971e-09, 1.63396980e-09, 1.59591420e-09,\n",
       "       1.53468051e-09, 1.47235717e-09, 1.44506607e-09, 1.41786677e-09,\n",
       "       1.38519526e-09, 1.36812554e-09, 1.33789680e-09, 1.32881528e-09,\n",
       "       1.27074154e-09, 1.25693854e-09, 1.23640654e-09, 1.16409429e-09,\n",
       "       1.15349740e-09, 1.11430881e-09, 1.10041024e-09, 1.09932383e-09,\n",
       "       1.06917145e-09, 1.05021234e-09, 9.69587630e-10, 9.37696968e-10,\n",
       "       8.97106337e-10, 8.70490265e-10, 8.48143955e-10, 8.44962479e-10,\n",
       "       7.91607686e-10, 7.89080601e-10, 7.69658300e-10, 7.61301749e-10,\n",
       "       7.38020024e-10, 7.15508129e-10, 6.92917333e-10, 6.75035597e-10,\n",
       "       6.37135982e-10, 6.32531336e-10, 6.12998526e-10, 5.97881597e-10,\n",
       "       5.63909535e-10, 5.59827770e-10, 5.48671525e-10, 5.36733777e-10,\n",
       "       5.18518597e-10, 5.10936058e-10, 5.05431416e-10, 4.87268504e-10,\n",
       "       4.84801131e-10, 4.54087366e-10, 4.41619248e-10, 4.29543695e-10,\n",
       "       4.09825783e-10, 3.96212639e-10, 3.82975341e-10, 3.67179597e-10,\n",
       "       3.37075285e-10, 3.31011671e-10, 3.21440068e-10, 3.18927127e-10,\n",
       "       3.10447842e-10, 2.95827844e-10, 2.88083616e-10, 2.73022733e-10,\n",
       "       2.70565371e-10, 2.61138931e-10, 2.58300122e-10, 2.48031579e-10,\n",
       "       2.41935735e-10, 2.35845783e-10, 2.31928626e-10, 2.23390857e-10,\n",
       "       2.13590083e-10, 2.08877246e-10, 2.02437670e-10, 1.99083217e-10,\n",
       "       1.96425147e-10, 1.91582450e-10, 1.87831564e-10, 1.80848977e-10,\n",
       "       1.76697381e-10, 1.73145543e-10, 1.62480173e-10, 1.59441688e-10,\n",
       "       1.53445231e-10, 1.50091519e-10, 1.47032986e-10, 1.41892729e-10,\n",
       "       1.38899921e-10, 1.30799530e-10, 1.30345068e-10, 1.22443053e-10,\n",
       "       1.18946085e-10, 1.15569933e-10, 1.12695193e-10, 1.09261527e-10,\n",
       "       1.02238366e-10, 9.77484621e-11, 9.04008553e-11, 8.89957624e-11,\n",
       "       8.53094478e-11, 7.99931214e-11, 7.59264915e-11, 7.17531831e-11,\n",
       "       7.07691677e-11, 6.99991246e-11, 6.95330841e-11, 6.86532830e-11,\n",
       "       6.52667244e-11, 6.45151311e-11, 6.07356835e-11, 5.87673402e-11,\n",
       "       5.76246487e-11, 5.65522019e-11, 5.52938633e-11, 5.19905376e-11,\n",
       "       4.87603953e-11, 4.39548909e-11, 4.32572639e-11, 3.84643946e-11,\n",
       "       3.79063495e-11, 3.73624492e-11, 3.65886301e-11, 3.64802385e-11,\n",
       "       3.60779125e-11, 3.47893812e-11, 3.36072804e-11, 3.24335107e-11,\n",
       "       3.05869186e-11, 2.92083905e-11, 2.19612187e-11, 1.76840011e-11,\n",
       "       1.63531733e-11, 1.42225953e-11, 1.30617469e-11, 1.21200568e-11,\n",
       "       1.10143004e-11, 8.88531466e-12, 7.73987952e-12, 2.39542442e-12,\n",
       "       9.98355365e-33, 9.98355365e-33, 9.98355365e-33, 9.98355365e-33,\n",
       "       9.98355365e-33, 9.98355365e-33, 9.98355365e-33, 9.98355365e-33,\n",
       "       9.98355365e-33, 9.98355365e-33, 9.98355365e-33, 9.98355365e-33,\n",
       "       9.98355365e-33, 9.98355365e-33, 9.98355365e-33, 9.98355365e-33,\n",
       "       9.98355365e-33, 9.98355365e-33, 9.98355365e-33, 9.98355365e-33,\n",
       "       9.98355365e-33, 9.98355365e-33, 9.98355365e-33, 9.98355365e-33,\n",
       "       9.98355365e-33, 9.98355365e-33, 9.98355365e-33, 9.98355365e-33,\n",
       "       9.98355365e-33, 9.98355365e-33, 9.98355365e-33, 9.98355365e-33,\n",
       "       9.98355365e-33, 9.98355365e-33, 9.98355365e-33, 9.98355365e-33,\n",
       "       9.98355365e-33, 9.98355365e-33, 9.98355365e-33, 9.98355365e-33,\n",
       "       9.98355365e-33, 9.98355365e-33, 9.98355365e-33, 9.98355365e-33,\n",
       "       9.98355365e-33, 9.98355365e-33, 9.98355365e-33, 9.98355365e-33,\n",
       "       9.98355365e-33, 9.98355365e-33, 9.98355365e-33, 9.98355365e-33,\n",
       "       9.98355365e-33, 9.98355365e-33, 9.98355365e-33, 9.98355365e-33,\n",
       "       9.98355365e-33, 9.98355365e-33, 9.98355365e-33, 9.98355365e-33,\n",
       "       9.98355365e-33, 9.98355365e-33, 9.98355365e-33, 9.98355365e-33,\n",
       "       9.98355365e-33, 9.98355365e-33, 9.98355365e-33, 9.98355365e-33,\n",
       "       9.98355365e-33, 9.98355365e-33, 9.98355365e-33, 9.98355365e-33,\n",
       "       9.98355365e-33, 9.98355365e-33, 9.98355365e-33, 9.98355365e-33,\n",
       "       9.98355365e-33, 9.98355365e-33, 9.98355365e-33, 9.98355365e-33,\n",
       "       9.98355365e-33, 9.98355365e-33, 9.98355365e-33, 9.98355365e-33,\n",
       "       9.98355365e-33, 9.98355365e-33, 9.98355365e-33, 9.98355365e-33,\n",
       "       9.98355365e-33, 9.98355365e-33, 9.98355365e-33, 9.98355365e-33,\n",
       "       9.98355365e-33, 9.98355365e-33, 9.98355365e-33, 9.98355365e-33,\n",
       "       9.98355365e-33, 9.98355365e-33, 9.98355365e-33, 9.98355365e-33,\n",
       "       9.98355365e-33, 9.98355365e-33, 9.98355365e-33, 9.98355365e-33,\n",
       "       1.06898291e-39])"
      ]
     },
     "execution_count": 71,
     "metadata": {},
     "output_type": "execute_result"
    }
   ],
   "source": [
    "pcaModel.explained_variance_ratio_"
   ]
  },
  {
   "cell_type": "code",
   "execution_count": 72,
   "metadata": {
    "execution": {
     "iopub.execute_input": "2020-12-05T02:28:58.574985Z",
     "iopub.status.busy": "2020-12-05T02:28:58.573795Z",
     "iopub.status.idle": "2020-12-05T02:28:58.580032Z",
     "shell.execute_reply": "2020-12-05T02:28:58.579380Z"
    },
    "papermill": {
     "duration": 0.172822,
     "end_time": "2020-12-05T02:28:58.580187",
     "exception": false,
     "start_time": "2020-12-05T02:28:58.407365",
     "status": "completed"
    },
    "tags": []
   },
   "outputs": [
    {
     "data": {
      "text/plain": [
       "array([ 99.9955823 ,  99.99760261,  99.99843028,  99.99890186,\n",
       "        99.99931285,  99.99946925,  99.99960496,  99.99967338,\n",
       "        99.99971088,  99.99973855,  99.99976052,  99.9997813 ,\n",
       "        99.99979966,  99.99981481,  99.99982798,  99.99983951,\n",
       "        99.99984878,  99.9998575 ,  99.99986511,  99.99987214,\n",
       "        99.99987848,  99.9998843 ,  99.99988996,  99.99989509,\n",
       "        99.99989968,  99.99990404,  99.99990794,  99.99991167,\n",
       "        99.99991507,  99.9999183 ,  99.99992144,  99.99992432,\n",
       "        99.99992714,  99.99992977,  99.99993235,  99.99993478,\n",
       "        99.99993702,  99.99993911,  99.99994104,  99.99994291,\n",
       "        99.99994468,  99.99994637,  99.99994799,  99.99994958,\n",
       "        99.99995112,  99.99995263,  99.999954  ,  99.99995534,\n",
       "        99.99995663,  99.9999579 ,  99.99995912,  99.99996035,\n",
       "        99.99996153,  99.99996266,  99.99996372,  99.99996474,\n",
       "        99.99996571,  99.99996667,  99.99996761,  99.99996853,\n",
       "        99.99996941,  99.99997024,  99.99997106,  99.99997183,\n",
       "        99.9999726 ,  99.99997332,  99.99997402,  99.9999747 ,\n",
       "        99.99997537,  99.99997601,  99.99997664,  99.99997724,\n",
       "        99.99997784,  99.99997841,  99.99997896,  99.99997952,\n",
       "        99.99998006,  99.99998057,  99.99998108,  99.99998158,\n",
       "        99.99998206,  99.99998253,  99.99998299,  99.99998344,\n",
       "        99.99998387,  99.99998429,  99.99998471,  99.99998511,\n",
       "        99.9999855 ,  99.99998588,  99.99998626,  99.99998663,\n",
       "        99.999987  ,  99.99998735,  99.99998768,  99.99998801,\n",
       "        99.99998833,  99.99998864,  99.99998896,  99.99998926,\n",
       "        99.99998956,  99.99998985,  99.99999013,  99.99999041,\n",
       "        99.99999067,  99.99999093,  99.99999117,  99.99999142,\n",
       "        99.99999165,  99.99999188,  99.99999211,  99.99999233,\n",
       "        99.99999254,  99.99999275,  99.99999295,  99.99999315,\n",
       "        99.99999334,  99.99999353,  99.99999371,  99.99999389,\n",
       "        99.99999406,  99.99999422,  99.99999439,  99.99999455,\n",
       "        99.9999947 ,  99.99999485,  99.99999499,  99.99999513,\n",
       "        99.99999527,  99.99999541,  99.99999554,  99.99999567,\n",
       "        99.9999958 ,  99.99999593,  99.99999605,  99.99999617,\n",
       "        99.99999628,  99.99999639,  99.9999965 ,  99.99999661,\n",
       "        99.99999672,  99.99999683,  99.99999692,  99.99999702,\n",
       "        99.99999711,  99.99999719,  99.99999728,  99.99999736,\n",
       "        99.99999744,  99.99999752,  99.9999976 ,  99.99999767,\n",
       "        99.99999775,  99.99999782,  99.99999789,  99.99999796,\n",
       "        99.99999802,  99.99999808,  99.99999814,  99.9999982 ,\n",
       "        99.99999826,  99.99999832,  99.99999837,  99.99999843,\n",
       "        99.99999848,  99.99999853,  99.99999858,  99.99999863,\n",
       "        99.99999868,  99.99999872,  99.99999877,  99.99999881,\n",
       "        99.99999885,  99.99999889,  99.99999893,  99.99999896,\n",
       "        99.999999  ,  99.99999903,  99.99999906,  99.9999991 ,\n",
       "        99.99999913,  99.99999916,  99.99999918,  99.99999921,\n",
       "        99.99999924,  99.99999926,  99.99999929,  99.99999932,\n",
       "        99.99999934,  99.99999936,  99.99999939,  99.99999941,\n",
       "        99.99999943,  99.99999945,  99.99999947,  99.99999949,\n",
       "        99.99999951,  99.99999953,  99.99999955,  99.99999957,\n",
       "        99.99999958,  99.9999996 ,  99.99999962,  99.99999963,\n",
       "        99.99999965,  99.99999966,  99.99999968,  99.99999969,\n",
       "        99.99999971,  99.99999972,  99.99999973,  99.99999975,\n",
       "        99.99999976,  99.99999977,  99.99999978,  99.99999979,\n",
       "        99.9999998 ,  99.99999981,  99.99999982,  99.99999983,\n",
       "        99.99999984,  99.99999985,  99.99999985,  99.99999986,\n",
       "        99.99999987,  99.99999987,  99.99999988,  99.99999989,\n",
       "        99.99999989,  99.9999999 ,  99.99999991,  99.99999991,\n",
       "        99.99999992,  99.99999992,  99.99999993,  99.99999994,\n",
       "        99.99999994,  99.99999994,  99.99999995,  99.99999995,\n",
       "        99.99999996,  99.99999996,  99.99999996,  99.99999997,\n",
       "        99.99999997,  99.99999997,  99.99999998,  99.99999998,\n",
       "        99.99999998,  99.99999999,  99.99999999,  99.99999999,\n",
       "        99.99999999,  99.99999999, 100.        , 100.        ,\n",
       "       100.        , 100.        , 100.        , 100.        ,\n",
       "       100.        , 100.        , 100.        , 100.        ,\n",
       "       100.        , 100.        , 100.        , 100.        ,\n",
       "       100.        , 100.        , 100.        , 100.        ,\n",
       "       100.        , 100.        , 100.        , 100.        ,\n",
       "       100.        , 100.        , 100.        , 100.        ,\n",
       "       100.        , 100.        , 100.        , 100.        ,\n",
       "       100.        , 100.        , 100.        , 100.        ,\n",
       "       100.        , 100.        , 100.        , 100.        ,\n",
       "       100.        , 100.        , 100.        , 100.        ,\n",
       "       100.        , 100.        , 100.        , 100.        ,\n",
       "       100.        , 100.        , 100.        , 100.        ,\n",
       "       100.        , 100.        , 100.        , 100.        ,\n",
       "       100.        , 100.        , 100.        , 100.        ,\n",
       "       100.        , 100.        , 100.        , 100.        ,\n",
       "       100.        , 100.        , 100.        , 100.        ,\n",
       "       100.        , 100.        , 100.        , 100.        ,\n",
       "       100.        , 100.        , 100.        , 100.        ,\n",
       "       100.        , 100.        , 100.        , 100.        ,\n",
       "       100.        , 100.        , 100.        , 100.        ,\n",
       "       100.        , 100.        , 100.        , 100.        ,\n",
       "       100.        , 100.        , 100.        , 100.        ,\n",
       "       100.        , 100.        , 100.        , 100.        ,\n",
       "       100.        , 100.        , 100.        , 100.        ,\n",
       "       100.        , 100.        , 100.        , 100.        ,\n",
       "       100.        , 100.        , 100.        , 100.        ,\n",
       "       100.        , 100.        , 100.        , 100.        ,\n",
       "       100.        ])"
      ]
     },
     "execution_count": 72,
     "metadata": {},
     "output_type": "execute_result"
    }
   ],
   "source": [
    "pcaModel.explained_variance_ratio_.cumsum()*100"
   ]
  },
  {
   "cell_type": "code",
   "execution_count": 73,
   "metadata": {
    "execution": {
     "iopub.execute_input": "2020-12-05T02:28:58.915417Z",
     "iopub.status.busy": "2020-12-05T02:28:58.913551Z",
     "iopub.status.idle": "2020-12-05T02:28:58.919564Z",
     "shell.execute_reply": "2020-12-05T02:28:58.920160Z"
    },
    "papermill": {
     "duration": 0.174187,
     "end_time": "2020-12-05T02:28:58.920331",
     "exception": false,
     "start_time": "2020-12-05T02:28:58.746144",
     "status": "completed"
    },
    "tags": []
   },
   "outputs": [
    {
     "data": {
      "text/plain": [
       "array([[ 9.99998692e-01, -5.05241452e-05,  6.52198546e-05, ...,\n",
       "        -1.56204891e-07, -1.37374861e-07,  4.49791750e-07],\n",
       "       [ 9.78264751e-05, -4.32766924e-02,  3.61512507e-02, ...,\n",
       "        -8.08001994e-05, -6.68612003e-06, -1.80232582e-05],\n",
       "       [-3.32068350e-05,  2.60907543e-02, -1.38988584e-02, ...,\n",
       "         2.09750464e-04,  2.81531175e-05,  2.32822698e-04],\n",
       "       ...,\n",
       "       [ 0.00000000e+00, -8.13714377e-19,  8.21722548e-18, ...,\n",
       "         5.91974386e-17, -5.01985606e-17, -4.05586365e-02],\n",
       "       [ 0.00000000e+00,  4.34162915e-19, -1.84515684e-18, ...,\n",
       "        -2.74435311e-18,  4.91867023e-18, -1.27903545e-16],\n",
       "       [-0.00000000e+00,  9.24042620e-16,  2.17415846e-16, ...,\n",
       "         7.67537076e-14,  9.45046992e-14, -5.40702196e-03]])"
      ]
     },
     "execution_count": 73,
     "metadata": {},
     "output_type": "execute_result"
    }
   ],
   "source": [
    "pcaModel.components_"
   ]
  },
  {
   "cell_type": "markdown",
   "metadata": {
    "papermill": {
     "duration": 0.171954,
     "end_time": "2020-12-05T02:28:59.264282",
     "exception": false,
     "start_time": "2020-12-05T02:28:59.092328",
     "status": "completed"
    },
    "tags": []
   },
   "source": [
    "**When included ID, ID feature alone is able to explain 99%, but removing ID** "
   ]
  },
  {
   "cell_type": "code",
   "execution_count": 74,
   "metadata": {
    "execution": {
     "iopub.execute_input": "2020-12-05T02:28:59.590202Z",
     "iopub.status.busy": "2020-12-05T02:28:59.589435Z",
     "iopub.status.idle": "2020-12-05T02:28:59.592719Z",
     "shell.execute_reply": "2020-12-05T02:28:59.592066Z"
    },
    "papermill": {
     "duration": 0.16762,
     "end_time": "2020-12-05T02:28:59.592845",
     "exception": false,
     "start_time": "2020-12-05T02:28:59.425225",
     "status": "completed"
    },
    "tags": []
   },
   "outputs": [],
   "source": [
    "pcaModel=PCA(n_components=120)"
   ]
  },
  {
   "cell_type": "code",
   "execution_count": 75,
   "metadata": {
    "execution": {
     "iopub.execute_input": "2020-12-05T02:28:59.929801Z",
     "iopub.status.busy": "2020-12-05T02:28:59.928694Z",
     "iopub.status.idle": "2020-12-05T02:28:59.931561Z",
     "shell.execute_reply": "2020-12-05T02:28:59.932302Z"
    },
    "papermill": {
     "duration": 0.176769,
     "end_time": "2020-12-05T02:28:59.932468",
     "exception": false,
     "start_time": "2020-12-05T02:28:59.755699",
     "status": "completed"
    },
    "tags": []
   },
   "outputs": [],
   "source": [
    "x.drop(columns=['ID'],inplace=True)"
   ]
  },
  {
   "cell_type": "code",
   "execution_count": 76,
   "metadata": {
    "execution": {
     "iopub.execute_input": "2020-12-05T02:29:00.286301Z",
     "iopub.status.busy": "2020-12-05T02:29:00.285423Z",
     "iopub.status.idle": "2020-12-05T02:29:00.486418Z",
     "shell.execute_reply": "2020-12-05T02:29:00.485649Z"
    },
    "papermill": {
     "duration": 0.377538,
     "end_time": "2020-12-05T02:29:00.486550",
     "exception": false,
     "start_time": "2020-12-05T02:29:00.109012",
     "status": "completed"
    },
    "tags": []
   },
   "outputs": [
    {
     "data": {
      "text/plain": [
       "PCA(n_components=120)"
      ]
     },
     "execution_count": 76,
     "metadata": {},
     "output_type": "execute_result"
    }
   ],
   "source": [
    "pcaModel.fit(x)"
   ]
  },
  {
   "cell_type": "code",
   "execution_count": 77,
   "metadata": {
    "execution": {
     "iopub.execute_input": "2020-12-05T02:29:00.835378Z",
     "iopub.status.busy": "2020-12-05T02:29:00.833978Z",
     "iopub.status.idle": "2020-12-05T02:29:00.851263Z",
     "shell.execute_reply": "2020-12-05T02:29:00.850456Z"
    },
    "papermill": {
     "duration": 0.197676,
     "end_time": "2020-12-05T02:29:00.851397",
     "exception": false,
     "start_time": "2020-12-05T02:29:00.653721",
     "status": "completed"
    },
    "tags": []
   },
   "outputs": [],
   "source": [
    "x_pca=pd.DataFrame(pcaModel.transform(x))"
   ]
  },
  {
   "cell_type": "code",
   "execution_count": 78,
   "metadata": {
    "execution": {
     "iopub.execute_input": "2020-12-05T02:29:01.218662Z",
     "iopub.status.busy": "2020-12-05T02:29:01.217352Z",
     "iopub.status.idle": "2020-12-05T02:29:01.223279Z",
     "shell.execute_reply": "2020-12-05T02:29:01.222383Z"
    },
    "papermill": {
     "duration": 0.186395,
     "end_time": "2020-12-05T02:29:01.223428",
     "exception": false,
     "start_time": "2020-12-05T02:29:01.037033",
     "status": "completed"
    },
    "tags": []
   },
   "outputs": [
    {
     "data": {
      "text/plain": [
       "array([43.1998066 , 60.8938594 , 75.2247611 , 85.30276091, 88.6459392 ,\n",
       "       91.5468846 , 93.01091725, 93.8126853 , 94.40411854, 94.87389142,\n",
       "       95.31840364, 95.71152368, 96.03608435, 96.31761122, 96.56431308,\n",
       "       96.76272104, 96.94902682, 97.11260937, 97.26280796, 97.39831897,\n",
       "       97.52304452, 97.6441231 , 97.75370923, 97.8520118 , 97.94565995,\n",
       "       98.02914534, 98.10879036, 98.1815388 , 98.25091216, 98.31797932,\n",
       "       98.37959819, 98.43976977, 98.49614063, 98.55128592, 98.60349218,\n",
       "       98.65140497, 98.69605446, 98.7373834 , 98.77739481, 98.81512074,\n",
       "       98.8515064 , 98.88617091, 98.92018397, 98.95319717, 98.9858438 ,\n",
       "       99.01508067, 99.04383862, 99.07154449, 99.09859107, 99.12485681,\n",
       "       99.15098463, 99.17621683, 99.20038738, 99.22308156, 99.2449524 ,\n",
       "       99.26581685, 99.28634895, 99.30634408, 99.32596393, 99.34486869,\n",
       "       99.36261243, 99.38016081, 99.39674994, 99.41328222, 99.42861606,\n",
       "       99.44359072, 99.45807465, 99.472468  , 99.48605168, 99.49950291,\n",
       "       99.51241069, 99.52510705, 99.53739818, 99.54928987, 99.56115225,\n",
       "       99.57266065, 99.58388846, 99.59470453, 99.60541251, 99.61580412,\n",
       "       99.6260298 , 99.63607952, 99.64568655, 99.65497734, 99.66396431,\n",
       "       99.67285545, 99.6813636 , 99.68980171, 99.69796801, 99.70605841,\n",
       "       99.71401883, 99.72195666, 99.72943761, 99.73654915, 99.74357087,\n",
       "       99.75043079, 99.75714747, 99.76379929, 99.77036934, 99.77675605,\n",
       "       99.78287819, 99.78886729, 99.79479192, 99.80046251, 99.80592723,\n",
       "       99.81118567, 99.81640572, 99.82142574, 99.82636563, 99.83120456,\n",
       "       99.83588108, 99.84041239, 99.8448841 , 99.84918299, 99.85341129,\n",
       "       99.8575129 , 99.86143489, 99.86530189, 99.86891292, 99.87244737])"
      ]
     },
     "execution_count": 78,
     "metadata": {},
     "output_type": "execute_result"
    }
   ],
   "source": [
    "pcaModel.explained_variance_ratio_.cumsum()*100"
   ]
  },
  {
   "cell_type": "code",
   "execution_count": 79,
   "metadata": {
    "execution": {
     "iopub.execute_input": "2020-12-05T02:29:01.573507Z",
     "iopub.status.busy": "2020-12-05T02:29:01.572418Z",
     "iopub.status.idle": "2020-12-05T02:29:01.576920Z",
     "shell.execute_reply": "2020-12-05T02:29:01.576012Z"
    },
    "papermill": {
     "duration": 0.185307,
     "end_time": "2020-12-05T02:29:01.577096",
     "exception": false,
     "start_time": "2020-12-05T02:29:01.391789",
     "status": "completed"
    },
    "tags": []
   },
   "outputs": [
    {
     "data": {
      "text/plain": [
       "array([[-4.28752202e-02,  3.57029823e-02,  9.92960039e-01, ...,\n",
       "        -7.98656974e-05, -6.09968323e-06, -2.09839271e-05],\n",
       "       [ 2.48295675e-02, -1.28040733e-02,  7.81224831e-02, ...,\n",
       "         2.07694272e-04,  2.81316388e-05,  2.39828219e-04],\n",
       "       [ 3.77244314e-02, -2.87052731e-02, -6.61920907e-03, ...,\n",
       "         5.10397785e-05, -1.92373784e-05, -1.87643318e-04],\n",
       "       ...,\n",
       "       [-1.46379467e-03, -3.07212281e-03,  2.61336330e-04, ...,\n",
       "        -1.60631670e-02,  7.94616063e-03,  1.15812092e-02],\n",
       "       [-2.85276331e-03, -2.13168042e-04,  5.00478937e-04, ...,\n",
       "         1.86066400e-02, -3.33850225e-03,  4.70322067e-02],\n",
       "       [-2.68350117e-03,  4.67841277e-03,  7.54697484e-04, ...,\n",
       "         1.32905376e-02,  7.42281663e-03, -1.17219924e-02]])"
      ]
     },
     "execution_count": 79,
     "metadata": {},
     "output_type": "execute_result"
    }
   ],
   "source": [
    "pcaModel.components_"
   ]
  },
  {
   "cell_type": "code",
   "execution_count": 80,
   "metadata": {
    "execution": {
     "iopub.execute_input": "2020-12-05T02:29:01.920991Z",
     "iopub.status.busy": "2020-12-05T02:29:01.920123Z",
     "iopub.status.idle": "2020-12-05T02:29:01.945436Z",
     "shell.execute_reply": "2020-12-05T02:29:01.944617Z"
    },
    "papermill": {
     "duration": 0.202885,
     "end_time": "2020-12-05T02:29:01.945575",
     "exception": false,
     "start_time": "2020-12-05T02:29:01.742690",
     "status": "completed"
    },
    "tags": []
   },
   "outputs": [
    {
     "data": {
      "text/html": [
       "<div>\n",
       "<style scoped>\n",
       "    .dataframe tbody tr th:only-of-type {\n",
       "        vertical-align: middle;\n",
       "    }\n",
       "\n",
       "    .dataframe tbody tr th {\n",
       "        vertical-align: top;\n",
       "    }\n",
       "\n",
       "    .dataframe thead th {\n",
       "        text-align: right;\n",
       "    }\n",
       "</style>\n",
       "<table border=\"1\" class=\"dataframe\">\n",
       "  <thead>\n",
       "    <tr style=\"text-align: right;\">\n",
       "      <th></th>\n",
       "      <th>0</th>\n",
       "      <th>1</th>\n",
       "      <th>2</th>\n",
       "      <th>3</th>\n",
       "      <th>4</th>\n",
       "      <th>5</th>\n",
       "      <th>6</th>\n",
       "      <th>7</th>\n",
       "      <th>8</th>\n",
       "      <th>9</th>\n",
       "      <th>...</th>\n",
       "      <th>110</th>\n",
       "      <th>111</th>\n",
       "      <th>112</th>\n",
       "      <th>113</th>\n",
       "      <th>114</th>\n",
       "      <th>115</th>\n",
       "      <th>116</th>\n",
       "      <th>117</th>\n",
       "      <th>118</th>\n",
       "      <th>119</th>\n",
       "    </tr>\n",
       "  </thead>\n",
       "  <tbody>\n",
       "    <tr>\n",
       "      <th>0</th>\n",
       "      <td>0.360851</td>\n",
       "      <td>1.626849</td>\n",
       "      <td>10.934988</td>\n",
       "      <td>-8.098682</td>\n",
       "      <td>0.692279</td>\n",
       "      <td>-3.559976</td>\n",
       "      <td>4.046201</td>\n",
       "      <td>-2.356005</td>\n",
       "      <td>0.373682</td>\n",
       "      <td>0.983612</td>\n",
       "      <td>...</td>\n",
       "      <td>-0.012156</td>\n",
       "      <td>0.355996</td>\n",
       "      <td>-0.342112</td>\n",
       "      <td>-0.171981</td>\n",
       "      <td>-0.497474</td>\n",
       "      <td>0.693751</td>\n",
       "      <td>-0.136360</td>\n",
       "      <td>0.265366</td>\n",
       "      <td>-0.041883</td>\n",
       "      <td>-0.341668</td>\n",
       "    </tr>\n",
       "    <tr>\n",
       "      <th>1</th>\n",
       "      <td>1.862021</td>\n",
       "      <td>1.893737</td>\n",
       "      <td>11.162599</td>\n",
       "      <td>-6.713501</td>\n",
       "      <td>-6.213841</td>\n",
       "      <td>-0.031852</td>\n",
       "      <td>-2.025817</td>\n",
       "      <td>-0.758965</td>\n",
       "      <td>1.681262</td>\n",
       "      <td>-1.063300</td>\n",
       "      <td>...</td>\n",
       "      <td>-0.077163</td>\n",
       "      <td>0.088967</td>\n",
       "      <td>0.131804</td>\n",
       "      <td>0.398790</td>\n",
       "      <td>0.043272</td>\n",
       "      <td>0.010645</td>\n",
       "      <td>-0.145964</td>\n",
       "      <td>0.237167</td>\n",
       "      <td>-0.126576</td>\n",
       "      <td>0.068021</td>\n",
       "    </tr>\n",
       "    <tr>\n",
       "      <th>2</th>\n",
       "      <td>16.011201</td>\n",
       "      <td>12.165398</td>\n",
       "      <td>11.671780</td>\n",
       "      <td>-1.796760</td>\n",
       "      <td>-4.314091</td>\n",
       "      <td>1.720922</td>\n",
       "      <td>-0.918421</td>\n",
       "      <td>-0.958553</td>\n",
       "      <td>2.537843</td>\n",
       "      <td>0.032485</td>\n",
       "      <td>...</td>\n",
       "      <td>0.508489</td>\n",
       "      <td>-0.483471</td>\n",
       "      <td>-0.234280</td>\n",
       "      <td>-0.062183</td>\n",
       "      <td>-0.102192</td>\n",
       "      <td>0.015969</td>\n",
       "      <td>0.431722</td>\n",
       "      <td>0.348826</td>\n",
       "      <td>-0.329256</td>\n",
       "      <td>-0.358812</td>\n",
       "    </tr>\n",
       "    <tr>\n",
       "      <th>3</th>\n",
       "      <td>17.466888</td>\n",
       "      <td>-6.729395</td>\n",
       "      <td>10.774094</td>\n",
       "      <td>-1.160809</td>\n",
       "      <td>-5.618582</td>\n",
       "      <td>-0.081350</td>\n",
       "      <td>-3.784070</td>\n",
       "      <td>-1.414364</td>\n",
       "      <td>1.474586</td>\n",
       "      <td>-0.241837</td>\n",
       "      <td>...</td>\n",
       "      <td>0.121384</td>\n",
       "      <td>0.179663</td>\n",
       "      <td>-0.140656</td>\n",
       "      <td>-0.019083</td>\n",
       "      <td>0.073532</td>\n",
       "      <td>-0.049381</td>\n",
       "      <td>0.695185</td>\n",
       "      <td>-0.311803</td>\n",
       "      <td>-0.359790</td>\n",
       "      <td>-0.320045</td>\n",
       "    </tr>\n",
       "    <tr>\n",
       "      <th>4</th>\n",
       "      <td>16.946298</td>\n",
       "      <td>2.010264</td>\n",
       "      <td>10.851935</td>\n",
       "      <td>-2.900339</td>\n",
       "      <td>5.876233</td>\n",
       "      <td>0.723333</td>\n",
       "      <td>-1.846557</td>\n",
       "      <td>-2.149953</td>\n",
       "      <td>-1.201470</td>\n",
       "      <td>-0.051498</td>\n",
       "      <td>...</td>\n",
       "      <td>-0.110621</td>\n",
       "      <td>0.106129</td>\n",
       "      <td>0.052331</td>\n",
       "      <td>-0.060160</td>\n",
       "      <td>-0.241681</td>\n",
       "      <td>-0.107835</td>\n",
       "      <td>0.061475</td>\n",
       "      <td>0.019109</td>\n",
       "      <td>-0.132251</td>\n",
       "      <td>-0.172284</td>\n",
       "    </tr>\n",
       "  </tbody>\n",
       "</table>\n",
       "<p>5 rows × 120 columns</p>\n",
       "</div>"
      ],
      "text/plain": [
       "         0          1          2         3         4         5         6    \\\n",
       "0   0.360851   1.626849  10.934988 -8.098682  0.692279 -3.559976  4.046201   \n",
       "1   1.862021   1.893737  11.162599 -6.713501 -6.213841 -0.031852 -2.025817   \n",
       "2  16.011201  12.165398  11.671780 -1.796760 -4.314091  1.720922 -0.918421   \n",
       "3  17.466888  -6.729395  10.774094 -1.160809 -5.618582 -0.081350 -3.784070   \n",
       "4  16.946298   2.010264  10.851935 -2.900339  5.876233  0.723333 -1.846557   \n",
       "\n",
       "        7         8         9    ...       110       111       112       113  \\\n",
       "0 -2.356005  0.373682  0.983612  ... -0.012156  0.355996 -0.342112 -0.171981   \n",
       "1 -0.758965  1.681262 -1.063300  ... -0.077163  0.088967  0.131804  0.398790   \n",
       "2 -0.958553  2.537843  0.032485  ...  0.508489 -0.483471 -0.234280 -0.062183   \n",
       "3 -1.414364  1.474586 -0.241837  ...  0.121384  0.179663 -0.140656 -0.019083   \n",
       "4 -2.149953 -1.201470 -0.051498  ... -0.110621  0.106129  0.052331 -0.060160   \n",
       "\n",
       "        114       115       116       117       118       119  \n",
       "0 -0.497474  0.693751 -0.136360  0.265366 -0.041883 -0.341668  \n",
       "1  0.043272  0.010645 -0.145964  0.237167 -0.126576  0.068021  \n",
       "2 -0.102192  0.015969  0.431722  0.348826 -0.329256 -0.358812  \n",
       "3  0.073532 -0.049381  0.695185 -0.311803 -0.359790 -0.320045  \n",
       "4 -0.241681 -0.107835  0.061475  0.019109 -0.132251 -0.172284  \n",
       "\n",
       "[5 rows x 120 columns]"
      ]
     },
     "execution_count": 80,
     "metadata": {},
     "output_type": "execute_result"
    }
   ],
   "source": [
    "x_pca.head()"
   ]
  },
  {
   "cell_type": "code",
   "execution_count": 81,
   "metadata": {
    "execution": {
     "iopub.execute_input": "2020-12-05T02:29:02.307796Z",
     "iopub.status.busy": "2020-12-05T02:29:02.306659Z",
     "iopub.status.idle": "2020-12-05T02:29:02.309768Z",
     "shell.execute_reply": "2020-12-05T02:29:02.310392Z"
    },
    "papermill": {
     "duration": 0.187535,
     "end_time": "2020-12-05T02:29:02.310577",
     "exception": false,
     "start_time": "2020-12-05T02:29:02.123042",
     "status": "completed"
    },
    "tags": []
   },
   "outputs": [],
   "source": [
    "from sklearn.model_selection import train_test_split"
   ]
  },
  {
   "cell_type": "code",
   "execution_count": 82,
   "metadata": {
    "execution": {
     "iopub.execute_input": "2020-12-05T02:29:02.650688Z",
     "iopub.status.busy": "2020-12-05T02:29:02.649437Z",
     "iopub.status.idle": "2020-12-05T02:29:02.656998Z",
     "shell.execute_reply": "2020-12-05T02:29:02.655894Z"
    },
    "papermill": {
     "duration": 0.177776,
     "end_time": "2020-12-05T02:29:02.657174",
     "exception": false,
     "start_time": "2020-12-05T02:29:02.479398",
     "status": "completed"
    },
    "tags": []
   },
   "outputs": [],
   "source": [
    "x_train,x_test,y_train,y_test=train_test_split(x_pca,y,random_state=10,train_size=0.75)"
   ]
  },
  {
   "cell_type": "code",
   "execution_count": 83,
   "metadata": {
    "execution": {
     "iopub.execute_input": "2020-12-05T02:29:02.995483Z",
     "iopub.status.busy": "2020-12-05T02:29:02.994366Z",
     "iopub.status.idle": "2020-12-05T02:29:03.201837Z",
     "shell.execute_reply": "2020-12-05T02:29:03.201168Z"
    },
    "papermill": {
     "duration": 0.378246,
     "end_time": "2020-12-05T02:29:03.201999",
     "exception": false,
     "start_time": "2020-12-05T02:29:02.823753",
     "status": "completed"
    },
    "tags": []
   },
   "outputs": [
    {
     "data": {
      "text/html": [
       "<style type='text/css'>\n",
       ".datatable table.frame { margin-bottom: 0; }\n",
       ".datatable table.frame thead { border-bottom: none; }\n",
       ".datatable table.frame tr.coltypes td {  color: #FFFFFF;  line-height: 6px;  padding: 0 0.5em;}\n",
       ".datatable .bool    { background: #DDDD99; }\n",
       ".datatable .object  { background: #565656; }\n",
       ".datatable .int     { background: #5D9E5D; }\n",
       ".datatable .float   { background: #4040CC; }\n",
       ".datatable .str     { background: #CC4040; }\n",
       ".datatable .row_index {  background: var(--jp-border-color3);  border-right: 1px solid var(--jp-border-color0);  color: var(--jp-ui-font-color3);  font-size: 9px;}\n",
       ".datatable .frame tr.coltypes .row_index {  background: var(--jp-border-color0);}\n",
       ".datatable th:nth-child(2) { padding-left: 12px; }\n",
       ".datatable .hellipsis {  color: var(--jp-cell-editor-border-color);}\n",
       ".datatable .vellipsis {  background: var(--jp-layout-color0);  color: var(--jp-cell-editor-border-color);}\n",
       ".datatable .na {  color: var(--jp-cell-editor-border-color);  font-size: 80%;}\n",
       ".datatable .footer { font-size: 9px; }\n",
       ".datatable .frame_dimensions {  background: var(--jp-border-color3);  border-top: 1px solid var(--jp-border-color0);  color: var(--jp-ui-font-color3);  display: inline-block;  opacity: 0.6;  padding: 1px 10px 1px 5px;}\n",
       ".datatable .frame thead tr.colnames {  background-image: url('data:image/png;base64,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');  background-repeat: repeat-x;  background-size: 14px;  height: 28px;}\n",
       "</style>\n"
      ],
      "text/plain": [
       "<IPython.core.display.HTML object>"
      ]
     },
     "metadata": {},
     "output_type": "display_data"
    }
   ],
   "source": [
    "from xgboost import XGBRegressor,plot_importance"
   ]
  },
  {
   "cell_type": "code",
   "execution_count": 84,
   "metadata": {
    "execution": {
     "iopub.execute_input": "2020-12-05T02:29:03.535646Z",
     "iopub.status.busy": "2020-12-05T02:29:03.534814Z",
     "iopub.status.idle": "2020-12-05T02:29:03.538400Z",
     "shell.execute_reply": "2020-12-05T02:29:03.537634Z"
    },
    "papermill": {
     "duration": 0.171314,
     "end_time": "2020-12-05T02:29:03.538536",
     "exception": false,
     "start_time": "2020-12-05T02:29:03.367222",
     "status": "completed"
    },
    "tags": []
   },
   "outputs": [],
   "source": [
    "xgbModel=XGBRegressor(max_depth=3, min_child_weight=4, reg_lambda=1000, gamma = 100)"
   ]
  },
  {
   "cell_type": "markdown",
   "metadata": {
    "papermill": {
     "duration": 0.163553,
     "end_time": "2020-12-05T02:29:03.862459",
     "exception": false,
     "start_time": "2020-12-05T02:29:03.698906",
     "status": "completed"
    },
    "tags": []
   },
   "source": [
    "**Tried different values of lambda like 10,100,1000, observed scores improvement for higher values of lambda, so will be performing grid search with high values**"
   ]
  },
  {
   "cell_type": "code",
   "execution_count": 85,
   "metadata": {
    "execution": {
     "iopub.execute_input": "2020-12-05T02:29:04.198753Z",
     "iopub.status.busy": "2020-12-05T02:29:04.197730Z",
     "iopub.status.idle": "2020-12-05T02:29:06.678072Z",
     "shell.execute_reply": "2020-12-05T02:29:06.677253Z"
    },
    "papermill": {
     "duration": 2.649601,
     "end_time": "2020-12-05T02:29:06.678209",
     "exception": false,
     "start_time": "2020-12-05T02:29:04.028608",
     "status": "completed"
    },
    "tags": []
   },
   "outputs": [
    {
     "name": "stdout",
     "output_type": "stream",
     "text": [
      "[02:29:04] WARNING: /workspace/src/objective/regression_obj.cu:152: reg:linear is now deprecated in favor of reg:squarederror.\n"
     ]
    },
    {
     "data": {
      "text/plain": [
       "XGBRegressor(gamma=100, min_child_weight=4, reg_lambda=1000)"
      ]
     },
     "execution_count": 85,
     "metadata": {},
     "output_type": "execute_result"
    }
   ],
   "source": [
    "xgbModel.fit(x_train,y_train)"
   ]
  },
  {
   "cell_type": "code",
   "execution_count": 86,
   "metadata": {
    "execution": {
     "iopub.execute_input": "2020-12-05T02:29:07.047772Z",
     "iopub.status.busy": "2020-12-05T02:29:07.046726Z",
     "iopub.status.idle": "2020-12-05T02:29:07.068690Z",
     "shell.execute_reply": "2020-12-05T02:29:07.068016Z"
    },
    "papermill": {
     "duration": 0.207487,
     "end_time": "2020-12-05T02:29:07.068835",
     "exception": false,
     "start_time": "2020-12-05T02:29:06.861348",
     "status": "completed"
    },
    "tags": []
   },
   "outputs": [
    {
     "data": {
      "text/plain": [
       "0.5426734154745483"
      ]
     },
     "execution_count": 86,
     "metadata": {},
     "output_type": "execute_result"
    }
   ],
   "source": [
    "xgbModel.score(x_train,y_train)"
   ]
  },
  {
   "cell_type": "code",
   "execution_count": 87,
   "metadata": {
    "execution": {
     "iopub.execute_input": "2020-12-05T02:29:07.414977Z",
     "iopub.status.busy": "2020-12-05T02:29:07.414133Z",
     "iopub.status.idle": "2020-12-05T02:29:07.428572Z",
     "shell.execute_reply": "2020-12-05T02:29:07.429698Z"
    },
    "papermill": {
     "duration": 0.190039,
     "end_time": "2020-12-05T02:29:07.430009",
     "exception": false,
     "start_time": "2020-12-05T02:29:07.239970",
     "status": "completed"
    },
    "tags": []
   },
   "outputs": [
    {
     "data": {
      "text/plain": [
       "0.495603752981326"
      ]
     },
     "execution_count": 87,
     "metadata": {},
     "output_type": "execute_result"
    }
   ],
   "source": [
    "xgbModel.score(x_test,y_test)"
   ]
  },
  {
   "cell_type": "markdown",
   "metadata": {
    "papermill": {
     "duration": 0.172709,
     "end_time": "2020-12-05T02:29:07.779615",
     "exception": false,
     "start_time": "2020-12-05T02:29:07.606906",
     "status": "completed"
    },
    "tags": []
   },
   "source": [
    "**Above model is overfit, so now trying with PCA only on categorical features**"
   ]
  },
  {
   "cell_type": "markdown",
   "metadata": {
    "papermill": {
     "duration": 0.183418,
     "end_time": "2020-12-05T02:29:08.147153",
     "exception": false,
     "start_time": "2020-12-05T02:29:07.963735",
     "status": "completed"
    },
    "tags": []
   },
   "source": [
    "***PCA on categorical features, tried with same number of components, and observed 99.99% variance ratio is achieved by 7 components, so fixed n_components to 7***"
   ]
  },
  {
   "cell_type": "code",
   "execution_count": 88,
   "metadata": {
    "execution": {
     "iopub.execute_input": "2020-12-05T02:29:08.508702Z",
     "iopub.status.busy": "2020-12-05T02:29:08.507615Z",
     "iopub.status.idle": "2020-12-05T02:29:08.530024Z",
     "shell.execute_reply": "2020-12-05T02:29:08.529126Z"
    },
    "papermill": {
     "duration": 0.206381,
     "end_time": "2020-12-05T02:29:08.530191",
     "exception": false,
     "start_time": "2020-12-05T02:29:08.323810",
     "status": "completed"
    },
    "tags": []
   },
   "outputs": [],
   "source": [
    "pcaModel=PCA(n_components=7)\n",
    "pcaModel.fit(x.iloc[:,0:9])\n",
    "x_pca_c=pd.DataFrame(pcaModel.transform(x.iloc[:,0:9]),columns=['C1','C2','C3','C4','C5','C6','C7'])"
   ]
  },
  {
   "cell_type": "code",
   "execution_count": 89,
   "metadata": {
    "execution": {
     "iopub.execute_input": "2020-12-05T02:29:08.904601Z",
     "iopub.status.busy": "2020-12-05T02:29:08.903307Z",
     "iopub.status.idle": "2020-12-05T02:29:08.910691Z",
     "shell.execute_reply": "2020-12-05T02:29:08.909786Z"
    },
    "papermill": {
     "duration": 0.207291,
     "end_time": "2020-12-05T02:29:08.910835",
     "exception": false,
     "start_time": "2020-12-05T02:29:08.703544",
     "status": "completed"
    },
    "tags": []
   },
   "outputs": [
    {
     "data": {
      "text/html": [
       "<div>\n",
       "<style scoped>\n",
       "    .dataframe tbody tr th:only-of-type {\n",
       "        vertical-align: middle;\n",
       "    }\n",
       "\n",
       "    .dataframe tbody tr th {\n",
       "        vertical-align: top;\n",
       "    }\n",
       "\n",
       "    .dataframe thead th {\n",
       "        text-align: right;\n",
       "    }\n",
       "</style>\n",
       "<table border=\"1\" class=\"dataframe\">\n",
       "  <thead>\n",
       "    <tr style=\"text-align: right;\">\n",
       "      <th></th>\n",
       "      <th>X0</th>\n",
       "      <th>X1</th>\n",
       "      <th>X2</th>\n",
       "      <th>X3</th>\n",
       "      <th>X4</th>\n",
       "      <th>X5</th>\n",
       "      <th>X6</th>\n",
       "      <th>X8</th>\n",
       "      <th>X10</th>\n",
       "    </tr>\n",
       "  </thead>\n",
       "  <tbody>\n",
       "    <tr>\n",
       "      <th>0</th>\n",
       "      <td>-0.042153</td>\n",
       "      <td>0.035592</td>\n",
       "      <td>0.995156</td>\n",
       "      <td>-0.014694</td>\n",
       "      <td>0.000004</td>\n",
       "      <td>-0.012677</td>\n",
       "      <td>0.018473</td>\n",
       "      <td>-0.076831</td>\n",
       "      <td>0.000411</td>\n",
       "    </tr>\n",
       "    <tr>\n",
       "      <th>1</th>\n",
       "      <td>0.024341</td>\n",
       "      <td>-0.012227</td>\n",
       "      <td>0.078629</td>\n",
       "      <td>-0.004005</td>\n",
       "      <td>0.000014</td>\n",
       "      <td>0.048981</td>\n",
       "      <td>0.012991</td>\n",
       "      <td>0.995234</td>\n",
       "      <td>0.000351</td>\n",
       "    </tr>\n",
       "    <tr>\n",
       "      <th>2</th>\n",
       "      <td>0.035595</td>\n",
       "      <td>-0.028134</td>\n",
       "      <td>-0.006720</td>\n",
       "      <td>-0.001503</td>\n",
       "      <td>0.000195</td>\n",
       "      <td>-0.997705</td>\n",
       "      <td>0.012257</td>\n",
       "      <td>0.048251</td>\n",
       "      <td>0.000197</td>\n",
       "    </tr>\n",
       "    <tr>\n",
       "      <th>3</th>\n",
       "      <td>0.987627</td>\n",
       "      <td>-0.137127</td>\n",
       "      <td>0.044013</td>\n",
       "      <td>-0.035763</td>\n",
       "      <td>-0.000073</td>\n",
       "      <td>0.037499</td>\n",
       "      <td>0.013118</td>\n",
       "      <td>-0.031478</td>\n",
       "      <td>0.002060</td>\n",
       "    </tr>\n",
       "    <tr>\n",
       "      <th>4</th>\n",
       "      <td>0.095527</td>\n",
       "      <td>0.579580</td>\n",
       "      <td>0.000486</td>\n",
       "      <td>0.083108</td>\n",
       "      <td>0.000052</td>\n",
       "      <td>-0.022142</td>\n",
       "      <td>-0.804529</td>\n",
       "      <td>0.016673</td>\n",
       "      <td>-0.004392</td>\n",
       "    </tr>\n",
       "    <tr>\n",
       "      <th>5</th>\n",
       "      <td>-0.106900</td>\n",
       "      <td>-0.794959</td>\n",
       "      <td>0.033852</td>\n",
       "      <td>-0.065497</td>\n",
       "      <td>0.000253</td>\n",
       "      <td>0.011054</td>\n",
       "      <td>-0.592491</td>\n",
       "      <td>-0.002900</td>\n",
       "      <td>0.000469</td>\n",
       "    </tr>\n",
       "    <tr>\n",
       "      <th>6</th>\n",
       "      <td>0.020035</td>\n",
       "      <td>-0.105369</td>\n",
       "      <td>0.018796</td>\n",
       "      <td>0.993620</td>\n",
       "      <td>-0.000288</td>\n",
       "      <td>0.002431</td>\n",
       "      <td>0.029043</td>\n",
       "      <td>0.000230</td>\n",
       "      <td>0.003537</td>\n",
       "    </tr>\n",
       "  </tbody>\n",
       "</table>\n",
       "</div>"
      ],
      "text/plain": [
       "         X0        X1        X2        X3        X4        X5        X6  \\\n",
       "0 -0.042153  0.035592  0.995156 -0.014694  0.000004 -0.012677  0.018473   \n",
       "1  0.024341 -0.012227  0.078629 -0.004005  0.000014  0.048981  0.012991   \n",
       "2  0.035595 -0.028134 -0.006720 -0.001503  0.000195 -0.997705  0.012257   \n",
       "3  0.987627 -0.137127  0.044013 -0.035763 -0.000073  0.037499  0.013118   \n",
       "4  0.095527  0.579580  0.000486  0.083108  0.000052 -0.022142 -0.804529   \n",
       "5 -0.106900 -0.794959  0.033852 -0.065497  0.000253  0.011054 -0.592491   \n",
       "6  0.020035 -0.105369  0.018796  0.993620 -0.000288  0.002431  0.029043   \n",
       "\n",
       "         X8       X10  \n",
       "0 -0.076831  0.000411  \n",
       "1  0.995234  0.000351  \n",
       "2  0.048251  0.000197  \n",
       "3 -0.031478  0.002060  \n",
       "4  0.016673 -0.004392  \n",
       "5 -0.002900  0.000469  \n",
       "6  0.000230  0.003537  "
      ]
     },
     "execution_count": 89,
     "metadata": {},
     "output_type": "execute_result"
    }
   ],
   "source": [
    "pd.DataFrame(pcaModel.components_,columns=(x.iloc[:,0:9]).columns)"
   ]
  },
  {
   "cell_type": "code",
   "execution_count": 90,
   "metadata": {
    "execution": {
     "iopub.execute_input": "2020-12-05T02:29:09.298413Z",
     "iopub.status.busy": "2020-12-05T02:29:09.297454Z",
     "iopub.status.idle": "2020-12-05T02:29:09.302547Z",
     "shell.execute_reply": "2020-12-05T02:29:09.301851Z"
    },
    "papermill": {
     "duration": 0.189081,
     "end_time": "2020-12-05T02:29:09.302675",
     "exception": false,
     "start_time": "2020-12-05T02:29:09.113594",
     "status": "completed"
    },
    "tags": []
   },
   "outputs": [
    {
     "data": {
      "text/plain": [
       "array([0.46841257, 0.660989  , 0.81698928, 0.92340284, 0.95783917,\n",
       "       0.98855634, 0.99994622])"
      ]
     },
     "execution_count": 90,
     "metadata": {},
     "output_type": "execute_result"
    }
   ],
   "source": [
    "pcaModel.explained_variance_ratio_.cumsum()"
   ]
  },
  {
   "cell_type": "code",
   "execution_count": 91,
   "metadata": {
    "execution": {
     "iopub.execute_input": "2020-12-05T02:29:09.656198Z",
     "iopub.status.busy": "2020-12-05T02:29:09.655043Z",
     "iopub.status.idle": "2020-12-05T02:29:09.660562Z",
     "shell.execute_reply": "2020-12-05T02:29:09.659608Z"
    },
    "papermill": {
     "duration": 0.184995,
     "end_time": "2020-12-05T02:29:09.660700",
     "exception": false,
     "start_time": "2020-12-05T02:29:09.475705",
     "status": "completed"
    },
    "tags": []
   },
   "outputs": [],
   "source": [
    "x_pca_c=pd.concat([x_pca_c,merc_train.ID],axis=1)"
   ]
  },
  {
   "cell_type": "code",
   "execution_count": 92,
   "metadata": {
    "execution": {
     "iopub.execute_input": "2020-12-05T02:29:10.080393Z",
     "iopub.status.busy": "2020-12-05T02:29:10.079586Z",
     "iopub.status.idle": "2020-12-05T02:29:10.085915Z",
     "shell.execute_reply": "2020-12-05T02:29:10.085250Z"
    },
    "papermill": {
     "duration": 0.255497,
     "end_time": "2020-12-05T02:29:10.086076",
     "exception": false,
     "start_time": "2020-12-05T02:29:09.830579",
     "status": "completed"
    },
    "tags": []
   },
   "outputs": [],
   "source": [
    "x_non_pca=pd.concat([x.iloc[:,9:],merc_train.ID],axis=1)"
   ]
  },
  {
   "cell_type": "code",
   "execution_count": 93,
   "metadata": {
    "execution": {
     "iopub.execute_input": "2020-12-05T02:29:10.443587Z",
     "iopub.status.busy": "2020-12-05T02:29:10.442801Z",
     "iopub.status.idle": "2020-12-05T02:29:10.483899Z",
     "shell.execute_reply": "2020-12-05T02:29:10.484515Z"
    },
    "papermill": {
     "duration": 0.225864,
     "end_time": "2020-12-05T02:29:10.484688",
     "exception": false,
     "start_time": "2020-12-05T02:29:10.258824",
     "status": "completed"
    },
    "tags": []
   },
   "outputs": [],
   "source": [
    "x_pca=pd.merge(left=x_pca_c,right=x_non_pca,on='ID',how='inner')"
   ]
  },
  {
   "cell_type": "code",
   "execution_count": 94,
   "metadata": {
    "execution": {
     "iopub.execute_input": "2020-12-05T02:29:10.824910Z",
     "iopub.status.busy": "2020-12-05T02:29:10.824106Z",
     "iopub.status.idle": "2020-12-05T02:29:10.831878Z",
     "shell.execute_reply": "2020-12-05T02:29:10.831087Z"
    },
    "papermill": {
     "duration": 0.182103,
     "end_time": "2020-12-05T02:29:10.832041",
     "exception": false,
     "start_time": "2020-12-05T02:29:10.649938",
     "status": "completed"
    },
    "tags": []
   },
   "outputs": [],
   "source": [
    "x_pca.drop(columns=['ID'],inplace=True)"
   ]
  },
  {
   "cell_type": "code",
   "execution_count": 95,
   "metadata": {
    "execution": {
     "iopub.execute_input": "2020-12-05T02:29:11.189575Z",
     "iopub.status.busy": "2020-12-05T02:29:11.188730Z",
     "iopub.status.idle": "2020-12-05T02:29:11.222111Z",
     "shell.execute_reply": "2020-12-05T02:29:11.221323Z"
    },
    "papermill": {
     "duration": 0.217028,
     "end_time": "2020-12-05T02:29:11.222250",
     "exception": false,
     "start_time": "2020-12-05T02:29:11.005222",
     "status": "completed"
    },
    "tags": []
   },
   "outputs": [
    {
     "data": {
      "text/html": [
       "<div>\n",
       "<style scoped>\n",
       "    .dataframe tbody tr th:only-of-type {\n",
       "        vertical-align: middle;\n",
       "    }\n",
       "\n",
       "    .dataframe tbody tr th {\n",
       "        vertical-align: top;\n",
       "    }\n",
       "\n",
       "    .dataframe thead th {\n",
       "        text-align: right;\n",
       "    }\n",
       "</style>\n",
       "<table border=\"1\" class=\"dataframe\">\n",
       "  <thead>\n",
       "    <tr style=\"text-align: right;\">\n",
       "      <th></th>\n",
       "      <th>C1</th>\n",
       "      <th>C2</th>\n",
       "      <th>C3</th>\n",
       "      <th>C4</th>\n",
       "      <th>C5</th>\n",
       "      <th>C6</th>\n",
       "      <th>C7</th>\n",
       "      <th>X12</th>\n",
       "      <th>X13</th>\n",
       "      <th>X14</th>\n",
       "      <th>...</th>\n",
       "      <th>X375</th>\n",
       "      <th>X376</th>\n",
       "      <th>X377</th>\n",
       "      <th>X378</th>\n",
       "      <th>X379</th>\n",
       "      <th>X380</th>\n",
       "      <th>X382</th>\n",
       "      <th>X383</th>\n",
       "      <th>X384</th>\n",
       "      <th>X385</th>\n",
       "    </tr>\n",
       "  </thead>\n",
       "  <tbody>\n",
       "    <tr>\n",
       "      <th>0</th>\n",
       "      <td>0.198954</td>\n",
       "      <td>1.616359</td>\n",
       "      <td>10.923829</td>\n",
       "      <td>-8.113448</td>\n",
       "      <td>0.214179</td>\n",
       "      <td>-4.076486</td>\n",
       "      <td>-3.490563</td>\n",
       "      <td>0</td>\n",
       "      <td>1</td>\n",
       "      <td>0</td>\n",
       "      <td>...</td>\n",
       "      <td>0</td>\n",
       "      <td>0</td>\n",
       "      <td>1</td>\n",
       "      <td>0</td>\n",
       "      <td>0</td>\n",
       "      <td>0</td>\n",
       "      <td>0</td>\n",
       "      <td>0</td>\n",
       "      <td>0</td>\n",
       "      <td>0</td>\n",
       "    </tr>\n",
       "    <tr>\n",
       "      <th>1</th>\n",
       "      <td>1.847106</td>\n",
       "      <td>1.893616</td>\n",
       "      <td>11.182094</td>\n",
       "      <td>-6.908097</td>\n",
       "      <td>-6.277695</td>\n",
       "      <td>1.698880</td>\n",
       "      <td>1.527916</td>\n",
       "      <td>0</td>\n",
       "      <td>0</td>\n",
       "      <td>0</td>\n",
       "      <td>...</td>\n",
       "      <td>1</td>\n",
       "      <td>0</td>\n",
       "      <td>0</td>\n",
       "      <td>0</td>\n",
       "      <td>0</td>\n",
       "      <td>0</td>\n",
       "      <td>0</td>\n",
       "      <td>0</td>\n",
       "      <td>0</td>\n",
       "      <td>0</td>\n",
       "    </tr>\n",
       "    <tr>\n",
       "      <th>2</th>\n",
       "      <td>15.864642</td>\n",
       "      <td>12.133895</td>\n",
       "      <td>11.672028</td>\n",
       "      <td>-1.547777</td>\n",
       "      <td>-4.199876</td>\n",
       "      <td>2.962037</td>\n",
       "      <td>-0.133222</td>\n",
       "      <td>0</td>\n",
       "      <td>0</td>\n",
       "      <td>0</td>\n",
       "      <td>...</td>\n",
       "      <td>0</td>\n",
       "      <td>0</td>\n",
       "      <td>0</td>\n",
       "      <td>0</td>\n",
       "      <td>0</td>\n",
       "      <td>0</td>\n",
       "      <td>1</td>\n",
       "      <td>0</td>\n",
       "      <td>0</td>\n",
       "      <td>0</td>\n",
       "    </tr>\n",
       "    <tr>\n",
       "      <th>3</th>\n",
       "      <td>17.317297</td>\n",
       "      <td>-6.761593</td>\n",
       "      <td>10.775261</td>\n",
       "      <td>-1.030741</td>\n",
       "      <td>-5.876388</td>\n",
       "      <td>1.635671</td>\n",
       "      <td>2.901362</td>\n",
       "      <td>0</td>\n",
       "      <td>0</td>\n",
       "      <td>0</td>\n",
       "      <td>...</td>\n",
       "      <td>0</td>\n",
       "      <td>0</td>\n",
       "      <td>0</td>\n",
       "      <td>0</td>\n",
       "      <td>0</td>\n",
       "      <td>0</td>\n",
       "      <td>0</td>\n",
       "      <td>0</td>\n",
       "      <td>0</td>\n",
       "      <td>0</td>\n",
       "    </tr>\n",
       "    <tr>\n",
       "      <th>4</th>\n",
       "      <td>16.798361</td>\n",
       "      <td>1.981552</td>\n",
       "      <td>10.858260</td>\n",
       "      <td>-2.653132</td>\n",
       "      <td>5.926119</td>\n",
       "      <td>-0.805132</td>\n",
       "      <td>1.722765</td>\n",
       "      <td>0</td>\n",
       "      <td>0</td>\n",
       "      <td>0</td>\n",
       "      <td>...</td>\n",
       "      <td>0</td>\n",
       "      <td>0</td>\n",
       "      <td>0</td>\n",
       "      <td>0</td>\n",
       "      <td>0</td>\n",
       "      <td>0</td>\n",
       "      <td>0</td>\n",
       "      <td>0</td>\n",
       "      <td>0</td>\n",
       "      <td>0</td>\n",
       "    </tr>\n",
       "    <tr>\n",
       "      <th>...</th>\n",
       "      <td>...</td>\n",
       "      <td>...</td>\n",
       "      <td>...</td>\n",
       "      <td>...</td>\n",
       "      <td>...</td>\n",
       "      <td>...</td>\n",
       "      <td>...</td>\n",
       "      <td>...</td>\n",
       "      <td>...</td>\n",
       "      <td>...</td>\n",
       "      <td>...</td>\n",
       "      <td>...</td>\n",
       "      <td>...</td>\n",
       "      <td>...</td>\n",
       "      <td>...</td>\n",
       "      <td>...</td>\n",
       "      <td>...</td>\n",
       "      <td>...</td>\n",
       "      <td>...</td>\n",
       "      <td>...</td>\n",
       "      <td>...</td>\n",
       "    </tr>\n",
       "    <tr>\n",
       "      <th>4203</th>\n",
       "      <td>22.916251</td>\n",
       "      <td>-3.250404</td>\n",
       "      <td>9.907160</td>\n",
       "      <td>1.170713</td>\n",
       "      <td>-2.602643</td>\n",
       "      <td>4.128296</td>\n",
       "      <td>0.953919</td>\n",
       "      <td>0</td>\n",
       "      <td>0</td>\n",
       "      <td>1</td>\n",
       "      <td>...</td>\n",
       "      <td>1</td>\n",
       "      <td>0</td>\n",
       "      <td>0</td>\n",
       "      <td>0</td>\n",
       "      <td>0</td>\n",
       "      <td>0</td>\n",
       "      <td>0</td>\n",
       "      <td>0</td>\n",
       "      <td>0</td>\n",
       "      <td>0</td>\n",
       "    </tr>\n",
       "    <tr>\n",
       "      <th>4204</th>\n",
       "      <td>21.713136</td>\n",
       "      <td>-6.626085</td>\n",
       "      <td>9.336919</td>\n",
       "      <td>-4.900983</td>\n",
       "      <td>2.640159</td>\n",
       "      <td>-1.761857</td>\n",
       "      <td>-3.142760</td>\n",
       "      <td>0</td>\n",
       "      <td>0</td>\n",
       "      <td>0</td>\n",
       "      <td>...</td>\n",
       "      <td>0</td>\n",
       "      <td>1</td>\n",
       "      <td>0</td>\n",
       "      <td>0</td>\n",
       "      <td>0</td>\n",
       "      <td>0</td>\n",
       "      <td>0</td>\n",
       "      <td>0</td>\n",
       "      <td>0</td>\n",
       "      <td>0</td>\n",
       "    </tr>\n",
       "    <tr>\n",
       "      <th>4205</th>\n",
       "      <td>7.578831</td>\n",
       "      <td>8.296185</td>\n",
       "      <td>10.235139</td>\n",
       "      <td>-7.791041</td>\n",
       "      <td>-2.056715</td>\n",
       "      <td>-3.734564</td>\n",
       "      <td>1.900540</td>\n",
       "      <td>1</td>\n",
       "      <td>1</td>\n",
       "      <td>0</td>\n",
       "      <td>...</td>\n",
       "      <td>0</td>\n",
       "      <td>0</td>\n",
       "      <td>1</td>\n",
       "      <td>0</td>\n",
       "      <td>0</td>\n",
       "      <td>0</td>\n",
       "      <td>0</td>\n",
       "      <td>0</td>\n",
       "      <td>0</td>\n",
       "      <td>0</td>\n",
       "    </tr>\n",
       "    <tr>\n",
       "      <th>4206</th>\n",
       "      <td>-15.148840</td>\n",
       "      <td>8.868998</td>\n",
       "      <td>10.956625</td>\n",
       "      <td>6.033811</td>\n",
       "      <td>3.172155</td>\n",
       "      <td>-2.929668</td>\n",
       "      <td>-1.338076</td>\n",
       "      <td>0</td>\n",
       "      <td>0</td>\n",
       "      <td>1</td>\n",
       "      <td>...</td>\n",
       "      <td>0</td>\n",
       "      <td>0</td>\n",
       "      <td>0</td>\n",
       "      <td>0</td>\n",
       "      <td>0</td>\n",
       "      <td>0</td>\n",
       "      <td>0</td>\n",
       "      <td>0</td>\n",
       "      <td>0</td>\n",
       "      <td>0</td>\n",
       "    </tr>\n",
       "    <tr>\n",
       "      <th>4207</th>\n",
       "      <td>NaN</td>\n",
       "      <td>NaN</td>\n",
       "      <td>NaN</td>\n",
       "      <td>NaN</td>\n",
       "      <td>NaN</td>\n",
       "      <td>NaN</td>\n",
       "      <td>NaN</td>\n",
       "      <td>0</td>\n",
       "      <td>0</td>\n",
       "      <td>0</td>\n",
       "      <td>...</td>\n",
       "      <td>1</td>\n",
       "      <td>0</td>\n",
       "      <td>0</td>\n",
       "      <td>0</td>\n",
       "      <td>0</td>\n",
       "      <td>0</td>\n",
       "      <td>0</td>\n",
       "      <td>0</td>\n",
       "      <td>0</td>\n",
       "      <td>0</td>\n",
       "    </tr>\n",
       "  </tbody>\n",
       "</table>\n",
       "<p>4208 rows × 362 columns</p>\n",
       "</div>"
      ],
      "text/plain": [
       "             C1         C2         C3        C4        C5        C6        C7  \\\n",
       "0      0.198954   1.616359  10.923829 -8.113448  0.214179 -4.076486 -3.490563   \n",
       "1      1.847106   1.893616  11.182094 -6.908097 -6.277695  1.698880  1.527916   \n",
       "2     15.864642  12.133895  11.672028 -1.547777 -4.199876  2.962037 -0.133222   \n",
       "3     17.317297  -6.761593  10.775261 -1.030741 -5.876388  1.635671  2.901362   \n",
       "4     16.798361   1.981552  10.858260 -2.653132  5.926119 -0.805132  1.722765   \n",
       "...         ...        ...        ...       ...       ...       ...       ...   \n",
       "4203  22.916251  -3.250404   9.907160  1.170713 -2.602643  4.128296  0.953919   \n",
       "4204  21.713136  -6.626085   9.336919 -4.900983  2.640159 -1.761857 -3.142760   \n",
       "4205   7.578831   8.296185  10.235139 -7.791041 -2.056715 -3.734564  1.900540   \n",
       "4206 -15.148840   8.868998  10.956625  6.033811  3.172155 -2.929668 -1.338076   \n",
       "4207        NaN        NaN        NaN       NaN       NaN       NaN       NaN   \n",
       "\n",
       "      X12  X13  X14  ...  X375  X376  X377  X378  X379  X380  X382  X383  \\\n",
       "0       0    1    0  ...     0     0     1     0     0     0     0     0   \n",
       "1       0    0    0  ...     1     0     0     0     0     0     0     0   \n",
       "2       0    0    0  ...     0     0     0     0     0     0     1     0   \n",
       "3       0    0    0  ...     0     0     0     0     0     0     0     0   \n",
       "4       0    0    0  ...     0     0     0     0     0     0     0     0   \n",
       "...   ...  ...  ...  ...   ...   ...   ...   ...   ...   ...   ...   ...   \n",
       "4203    0    0    1  ...     1     0     0     0     0     0     0     0   \n",
       "4204    0    0    0  ...     0     1     0     0     0     0     0     0   \n",
       "4205    1    1    0  ...     0     0     1     0     0     0     0     0   \n",
       "4206    0    0    1  ...     0     0     0     0     0     0     0     0   \n",
       "4207    0    0    0  ...     1     0     0     0     0     0     0     0   \n",
       "\n",
       "      X384  X385  \n",
       "0        0     0  \n",
       "1        0     0  \n",
       "2        0     0  \n",
       "3        0     0  \n",
       "4        0     0  \n",
       "...    ...   ...  \n",
       "4203     0     0  \n",
       "4204     0     0  \n",
       "4205     0     0  \n",
       "4206     0     0  \n",
       "4207     0     0  \n",
       "\n",
       "[4208 rows x 362 columns]"
      ]
     },
     "execution_count": 95,
     "metadata": {},
     "output_type": "execute_result"
    }
   ],
   "source": [
    "x_pca"
   ]
  },
  {
   "cell_type": "markdown",
   "metadata": {
    "papermill": {
     "duration": 0.16658,
     "end_time": "2020-12-05T02:29:11.562560",
     "exception": false,
     "start_time": "2020-12-05T02:29:11.395980",
     "status": "completed"
    },
    "tags": []
   },
   "source": [
    "## Defining a function to perform PCA on categorical features using the above approach ##"
   ]
  },
  {
   "cell_type": "code",
   "execution_count": 96,
   "metadata": {
    "execution": {
     "iopub.execute_input": "2020-12-05T02:29:11.928969Z",
     "iopub.status.busy": "2020-12-05T02:29:11.928033Z",
     "iopub.status.idle": "2020-12-05T02:29:11.931592Z",
     "shell.execute_reply": "2020-12-05T02:29:11.930933Z"
    },
    "papermill": {
     "duration": 0.199301,
     "end_time": "2020-12-05T02:29:11.931729",
     "exception": false,
     "start_time": "2020-12-05T02:29:11.732428",
     "status": "completed"
    },
    "tags": []
   },
   "outputs": [],
   "source": [
    "def perform_pca(df,x):\n",
    "    pcaModel=PCA(n_components=7)\n",
    "    pcaModel.fit(x.iloc[:,0:9])\n",
    "    x_pca_c=pd.DataFrame(pcaModel.transform(x.iloc[:,0:9]),columns=['C1','C2','C3','C4','C5','C6','C7'])\n",
    "    x_pca_c=pd.concat([x_pca_c,df.ID],axis=1)\n",
    "    x_non_pca=pd.concat([x.iloc[:,9:],df.ID],axis=1)\n",
    "    x_pca=pd.merge(left=x_pca_c,right=x_non_pca,on='ID',how='inner')\n",
    "    x_pca.drop(columns=['ID'],inplace=True)\n",
    "    return x_pca"
   ]
  },
  {
   "cell_type": "code",
   "execution_count": 97,
   "metadata": {
    "execution": {
     "iopub.execute_input": "2020-12-05T02:29:12.290656Z",
     "iopub.status.busy": "2020-12-05T02:29:12.289257Z",
     "iopub.status.idle": "2020-12-05T02:29:12.341292Z",
     "shell.execute_reply": "2020-12-05T02:29:12.340494Z"
    },
    "papermill": {
     "duration": 0.233121,
     "end_time": "2020-12-05T02:29:12.341441",
     "exception": false,
     "start_time": "2020-12-05T02:29:12.108320",
     "status": "completed"
    },
    "tags": []
   },
   "outputs": [],
   "source": [
    "x_pca=perform_pca(merc_train,x)"
   ]
  },
  {
   "cell_type": "code",
   "execution_count": 98,
   "metadata": {
    "execution": {
     "iopub.execute_input": "2020-12-05T02:29:12.719923Z",
     "iopub.status.busy": "2020-12-05T02:29:12.718865Z",
     "iopub.status.idle": "2020-12-05T02:29:12.724220Z",
     "shell.execute_reply": "2020-12-05T02:29:12.723456Z"
    },
    "papermill": {
     "duration": 0.200458,
     "end_time": "2020-12-05T02:29:12.724371",
     "exception": false,
     "start_time": "2020-12-05T02:29:12.523913",
     "status": "completed"
    },
    "tags": []
   },
   "outputs": [
    {
     "data": {
      "text/html": [
       "<div>\n",
       "<style scoped>\n",
       "    .dataframe tbody tr th:only-of-type {\n",
       "        vertical-align: middle;\n",
       "    }\n",
       "\n",
       "    .dataframe tbody tr th {\n",
       "        vertical-align: top;\n",
       "    }\n",
       "\n",
       "    .dataframe thead th {\n",
       "        text-align: right;\n",
       "    }\n",
       "</style>\n",
       "<table border=\"1\" class=\"dataframe\">\n",
       "  <thead>\n",
       "    <tr style=\"text-align: right;\">\n",
       "      <th></th>\n",
       "      <th>C1</th>\n",
       "      <th>C2</th>\n",
       "      <th>C3</th>\n",
       "      <th>C4</th>\n",
       "      <th>C5</th>\n",
       "      <th>C6</th>\n",
       "      <th>C7</th>\n",
       "      <th>X12</th>\n",
       "      <th>X13</th>\n",
       "      <th>X14</th>\n",
       "      <th>...</th>\n",
       "      <th>X375</th>\n",
       "      <th>X376</th>\n",
       "      <th>X377</th>\n",
       "      <th>X378</th>\n",
       "      <th>X379</th>\n",
       "      <th>X380</th>\n",
       "      <th>X382</th>\n",
       "      <th>X383</th>\n",
       "      <th>X384</th>\n",
       "      <th>X385</th>\n",
       "    </tr>\n",
       "  </thead>\n",
       "  <tbody>\n",
       "    <tr>\n",
       "      <th>0</th>\n",
       "      <td>0.198954</td>\n",
       "      <td>1.616359</td>\n",
       "      <td>10.923829</td>\n",
       "      <td>-8.113448</td>\n",
       "      <td>0.214179</td>\n",
       "      <td>-4.076486</td>\n",
       "      <td>-3.490563</td>\n",
       "      <td>0</td>\n",
       "      <td>1</td>\n",
       "      <td>0</td>\n",
       "      <td>...</td>\n",
       "      <td>0</td>\n",
       "      <td>0</td>\n",
       "      <td>1</td>\n",
       "      <td>0</td>\n",
       "      <td>0</td>\n",
       "      <td>0</td>\n",
       "      <td>0</td>\n",
       "      <td>0</td>\n",
       "      <td>0</td>\n",
       "      <td>0</td>\n",
       "    </tr>\n",
       "    <tr>\n",
       "      <th>1</th>\n",
       "      <td>1.847106</td>\n",
       "      <td>1.893616</td>\n",
       "      <td>11.182094</td>\n",
       "      <td>-6.908097</td>\n",
       "      <td>-6.277695</td>\n",
       "      <td>1.698880</td>\n",
       "      <td>1.527916</td>\n",
       "      <td>0</td>\n",
       "      <td>0</td>\n",
       "      <td>0</td>\n",
       "      <td>...</td>\n",
       "      <td>1</td>\n",
       "      <td>0</td>\n",
       "      <td>0</td>\n",
       "      <td>0</td>\n",
       "      <td>0</td>\n",
       "      <td>0</td>\n",
       "      <td>0</td>\n",
       "      <td>0</td>\n",
       "      <td>0</td>\n",
       "      <td>0</td>\n",
       "    </tr>\n",
       "    <tr>\n",
       "      <th>2</th>\n",
       "      <td>15.864642</td>\n",
       "      <td>12.133895</td>\n",
       "      <td>11.672028</td>\n",
       "      <td>-1.547777</td>\n",
       "      <td>-4.199876</td>\n",
       "      <td>2.962037</td>\n",
       "      <td>-0.133222</td>\n",
       "      <td>0</td>\n",
       "      <td>0</td>\n",
       "      <td>0</td>\n",
       "      <td>...</td>\n",
       "      <td>0</td>\n",
       "      <td>0</td>\n",
       "      <td>0</td>\n",
       "      <td>0</td>\n",
       "      <td>0</td>\n",
       "      <td>0</td>\n",
       "      <td>1</td>\n",
       "      <td>0</td>\n",
       "      <td>0</td>\n",
       "      <td>0</td>\n",
       "    </tr>\n",
       "    <tr>\n",
       "      <th>3</th>\n",
       "      <td>17.317297</td>\n",
       "      <td>-6.761593</td>\n",
       "      <td>10.775261</td>\n",
       "      <td>-1.030741</td>\n",
       "      <td>-5.876388</td>\n",
       "      <td>1.635671</td>\n",
       "      <td>2.901362</td>\n",
       "      <td>0</td>\n",
       "      <td>0</td>\n",
       "      <td>0</td>\n",
       "      <td>...</td>\n",
       "      <td>0</td>\n",
       "      <td>0</td>\n",
       "      <td>0</td>\n",
       "      <td>0</td>\n",
       "      <td>0</td>\n",
       "      <td>0</td>\n",
       "      <td>0</td>\n",
       "      <td>0</td>\n",
       "      <td>0</td>\n",
       "      <td>0</td>\n",
       "    </tr>\n",
       "    <tr>\n",
       "      <th>4</th>\n",
       "      <td>16.798361</td>\n",
       "      <td>1.981552</td>\n",
       "      <td>10.858260</td>\n",
       "      <td>-2.653132</td>\n",
       "      <td>5.926119</td>\n",
       "      <td>-0.805132</td>\n",
       "      <td>1.722765</td>\n",
       "      <td>0</td>\n",
       "      <td>0</td>\n",
       "      <td>0</td>\n",
       "      <td>...</td>\n",
       "      <td>0</td>\n",
       "      <td>0</td>\n",
       "      <td>0</td>\n",
       "      <td>0</td>\n",
       "      <td>0</td>\n",
       "      <td>0</td>\n",
       "      <td>0</td>\n",
       "      <td>0</td>\n",
       "      <td>0</td>\n",
       "      <td>0</td>\n",
       "    </tr>\n",
       "  </tbody>\n",
       "</table>\n",
       "<p>5 rows × 362 columns</p>\n",
       "</div>"
      ],
      "text/plain": [
       "          C1         C2         C3        C4        C5        C6        C7  \\\n",
       "0   0.198954   1.616359  10.923829 -8.113448  0.214179 -4.076486 -3.490563   \n",
       "1   1.847106   1.893616  11.182094 -6.908097 -6.277695  1.698880  1.527916   \n",
       "2  15.864642  12.133895  11.672028 -1.547777 -4.199876  2.962037 -0.133222   \n",
       "3  17.317297  -6.761593  10.775261 -1.030741 -5.876388  1.635671  2.901362   \n",
       "4  16.798361   1.981552  10.858260 -2.653132  5.926119 -0.805132  1.722765   \n",
       "\n",
       "   X12  X13  X14  ...  X375  X376  X377  X378  X379  X380  X382  X383  X384  \\\n",
       "0    0    1    0  ...     0     0     1     0     0     0     0     0     0   \n",
       "1    0    0    0  ...     1     0     0     0     0     0     0     0     0   \n",
       "2    0    0    0  ...     0     0     0     0     0     0     1     0     0   \n",
       "3    0    0    0  ...     0     0     0     0     0     0     0     0     0   \n",
       "4    0    0    0  ...     0     0     0     0     0     0     0     0     0   \n",
       "\n",
       "   X385  \n",
       "0     0  \n",
       "1     0  \n",
       "2     0  \n",
       "3     0  \n",
       "4     0  \n",
       "\n",
       "[5 rows x 362 columns]"
      ]
     },
     "execution_count": 98,
     "metadata": {},
     "output_type": "execute_result"
    }
   ],
   "source": [
    "x_pca.head()"
   ]
  },
  {
   "cell_type": "code",
   "execution_count": 99,
   "metadata": {
    "execution": {
     "iopub.execute_input": "2020-12-05T02:29:13.095188Z",
     "iopub.status.busy": "2020-12-05T02:29:13.094328Z",
     "iopub.status.idle": "2020-12-05T02:29:16.996697Z",
     "shell.execute_reply": "2020-12-05T02:29:16.995914Z"
    },
    "papermill": {
     "duration": 4.098465,
     "end_time": "2020-12-05T02:29:16.996823",
     "exception": false,
     "start_time": "2020-12-05T02:29:12.898358",
     "status": "completed"
    },
    "tags": []
   },
   "outputs": [
    {
     "name": "stdout",
     "output_type": "stream",
     "text": [
      "[02:29:13] WARNING: /workspace/src/objective/regression_obj.cu:152: reg:linear is now deprecated in favor of reg:squarederror.\n",
      "0.6225086447725734\n",
      "0.5789848741896586\n"
     ]
    }
   ],
   "source": [
    "x_train,x_test,y_train,y_test=train_test_split(x_pca,y,random_state=10,train_size=0.75)\n",
    "xgbModel=XGBRegressor(max_depth=4, min_child_weight=5, reg_lambda=100, gamma = 200)\n",
    "xgbModel.fit(x_train,y_train)\n",
    "print(xgbModel.score(x_train,y_train))\n",
    "print(xgbModel.score(x_test,y_test))"
   ]
  },
  {
   "cell_type": "markdown",
   "metadata": {
    "papermill": {
     "duration": 0.197273,
     "end_time": "2020-12-05T02:29:17.370978",
     "exception": false,
     "start_time": "2020-12-05T02:29:17.173705",
     "status": "completed"
    },
    "tags": []
   },
   "source": [
    "## Grid Search with cv=5##"
   ]
  },
  {
   "cell_type": "code",
   "execution_count": 100,
   "metadata": {
    "execution": {
     "iopub.execute_input": "2020-12-05T02:29:17.746576Z",
     "iopub.status.busy": "2020-12-05T02:29:17.745420Z",
     "iopub.status.idle": "2020-12-05T02:29:17.749167Z",
     "shell.execute_reply": "2020-12-05T02:29:17.748524Z"
    },
    "papermill": {
     "duration": 0.181702,
     "end_time": "2020-12-05T02:29:17.749315",
     "exception": false,
     "start_time": "2020-12-05T02:29:17.567613",
     "status": "completed"
    },
    "tags": []
   },
   "outputs": [],
   "source": [
    "from sklearn.model_selection import GridSearchCV"
   ]
  },
  {
   "cell_type": "code",
   "execution_count": 101,
   "metadata": {
    "execution": {
     "iopub.execute_input": "2020-12-05T02:29:18.123762Z",
     "iopub.status.busy": "2020-12-05T02:29:18.122681Z",
     "iopub.status.idle": "2020-12-05T02:29:18.126301Z",
     "shell.execute_reply": "2020-12-05T02:29:18.125592Z"
    },
    "papermill": {
     "duration": 0.203094,
     "end_time": "2020-12-05T02:29:18.126440",
     "exception": false,
     "start_time": "2020-12-05T02:29:17.923346",
     "status": "completed"
    },
    "tags": []
   },
   "outputs": [],
   "source": [
    "param_grid = {'reg_lambda': [100,200,500],  \n",
    "              'gamma':[100, 150, 200],\n",
    "              'min_child_weight':[4,5,6]\n",
    "             }\n",
    "#grid = GridSearchCV(XGBRegressor(), param_grid, refit = True, verbose = 3, cv=5) \n",
    "#grid.fit(x_train,y_train)"
   ]
  },
  {
   "cell_type": "code",
   "execution_count": 102,
   "metadata": {
    "execution": {
     "iopub.execute_input": "2020-12-05T02:29:18.475207Z",
     "iopub.status.busy": "2020-12-05T02:29:18.474111Z",
     "iopub.status.idle": "2020-12-05T02:29:18.477863Z",
     "shell.execute_reply": "2020-12-05T02:29:18.477099Z"
    },
    "papermill": {
     "duration": 0.177296,
     "end_time": "2020-12-05T02:29:18.478037",
     "exception": false,
     "start_time": "2020-12-05T02:29:18.300741",
     "status": "completed"
    },
    "tags": []
   },
   "outputs": [],
   "source": [
    "#grid.best_params_"
   ]
  },
  {
   "cell_type": "code",
   "execution_count": 103,
   "metadata": {
    "execution": {
     "iopub.execute_input": "2020-12-05T02:29:18.826614Z",
     "iopub.status.busy": "2020-12-05T02:29:18.825832Z",
     "iopub.status.idle": "2020-12-05T02:29:18.828918Z",
     "shell.execute_reply": "2020-12-05T02:29:18.828173Z"
    },
    "papermill": {
     "duration": 0.174266,
     "end_time": "2020-12-05T02:29:18.829062",
     "exception": false,
     "start_time": "2020-12-05T02:29:18.654796",
     "status": "completed"
    },
    "tags": []
   },
   "outputs": [],
   "source": [
    "#grid.best_estimator_"
   ]
  },
  {
   "cell_type": "code",
   "execution_count": 104,
   "metadata": {
    "execution": {
     "iopub.execute_input": "2020-12-05T02:29:19.182243Z",
     "iopub.status.busy": "2020-12-05T02:29:19.181145Z",
     "iopub.status.idle": "2020-12-05T02:29:19.184430Z",
     "shell.execute_reply": "2020-12-05T02:29:19.183661Z"
    },
    "papermill": {
     "duration": 0.1823,
     "end_time": "2020-12-05T02:29:19.184561",
     "exception": false,
     "start_time": "2020-12-05T02:29:19.002261",
     "status": "completed"
    },
    "tags": []
   },
   "outputs": [],
   "source": [
    "xgbModel_final=XGBRegressor(max_depth=4, min_child_weight=4, reg_lambda=100, gamma=150)"
   ]
  },
  {
   "cell_type": "code",
   "execution_count": 105,
   "metadata": {
    "execution": {
     "iopub.execute_input": "2020-12-05T02:29:19.573435Z",
     "iopub.status.busy": "2020-12-05T02:29:19.572379Z",
     "iopub.status.idle": "2020-12-05T02:29:23.384735Z",
     "shell.execute_reply": "2020-12-05T02:29:23.383935Z"
    },
    "papermill": {
     "duration": 4.003312,
     "end_time": "2020-12-05T02:29:23.384872",
     "exception": false,
     "start_time": "2020-12-05T02:29:19.381560",
     "status": "completed"
    },
    "tags": []
   },
   "outputs": [
    {
     "name": "stdout",
     "output_type": "stream",
     "text": [
      "[02:29:19] WARNING: /workspace/src/objective/regression_obj.cu:152: reg:linear is now deprecated in favor of reg:squarederror.\n"
     ]
    },
    {
     "data": {
      "text/plain": [
       "XGBRegressor(gamma=150, max_depth=4, min_child_weight=4, reg_lambda=100)"
      ]
     },
     "execution_count": 105,
     "metadata": {},
     "output_type": "execute_result"
    }
   ],
   "source": [
    "xgbModel_final.fit(x_train,y_train)"
   ]
  },
  {
   "cell_type": "code",
   "execution_count": 106,
   "metadata": {
    "execution": {
     "iopub.execute_input": "2020-12-05T02:29:23.746934Z",
     "iopub.status.busy": "2020-12-05T02:29:23.745718Z",
     "iopub.status.idle": "2020-12-05T02:29:23.793628Z",
     "shell.execute_reply": "2020-12-05T02:29:23.792858Z"
    },
    "papermill": {
     "duration": 0.231444,
     "end_time": "2020-12-05T02:29:23.793755",
     "exception": false,
     "start_time": "2020-12-05T02:29:23.562311",
     "status": "completed"
    },
    "tags": []
   },
   "outputs": [
    {
     "data": {
      "text/plain": [
       "0.627775077822412"
      ]
     },
     "execution_count": 106,
     "metadata": {},
     "output_type": "execute_result"
    }
   ],
   "source": [
    "xgbModel_final.score(x_train,y_train)"
   ]
  },
  {
   "cell_type": "code",
   "execution_count": 107,
   "metadata": {
    "execution": {
     "iopub.execute_input": "2020-12-05T02:29:24.159258Z",
     "iopub.status.busy": "2020-12-05T02:29:24.155221Z",
     "iopub.status.idle": "2020-12-05T02:29:24.177355Z",
     "shell.execute_reply": "2020-12-05T02:29:24.176698Z"
    },
    "papermill": {
     "duration": 0.209985,
     "end_time": "2020-12-05T02:29:24.177504",
     "exception": false,
     "start_time": "2020-12-05T02:29:23.967519",
     "status": "completed"
    },
    "tags": []
   },
   "outputs": [
    {
     "data": {
      "text/plain": [
       "0.5788811957216626"
      ]
     },
     "execution_count": 107,
     "metadata": {},
     "output_type": "execute_result"
    }
   ],
   "source": [
    "xgbModel_final.score(x_test,y_test)"
   ]
  },
  {
   "cell_type": "code",
   "execution_count": 108,
   "metadata": {
    "execution": {
     "iopub.execute_input": "2020-12-05T02:29:24.527383Z",
     "iopub.status.busy": "2020-12-05T02:29:24.526596Z",
     "iopub.status.idle": "2020-12-05T02:29:24.534639Z",
     "shell.execute_reply": "2020-12-05T02:29:24.533818Z"
    },
    "papermill": {
     "duration": 0.185465,
     "end_time": "2020-12-05T02:29:24.534774",
     "exception": false,
     "start_time": "2020-12-05T02:29:24.349309",
     "status": "completed"
    },
    "tags": []
   },
   "outputs": [],
   "source": [
    "xgb_feature_imp=(pd.DataFrame(xgbModel_final.feature_importances_,index=x_pca.columns))"
   ]
  },
  {
   "cell_type": "code",
   "execution_count": 109,
   "metadata": {
    "execution": {
     "iopub.execute_input": "2020-12-05T02:29:24.900008Z",
     "iopub.status.busy": "2020-12-05T02:29:24.898865Z",
     "iopub.status.idle": "2020-12-05T02:29:24.904807Z",
     "shell.execute_reply": "2020-12-05T02:29:24.904035Z"
    },
    "papermill": {
     "duration": 0.193982,
     "end_time": "2020-12-05T02:29:24.904965",
     "exception": false,
     "start_time": "2020-12-05T02:29:24.710983",
     "status": "completed"
    },
    "tags": []
   },
   "outputs": [
    {
     "data": {
      "text/html": [
       "<div>\n",
       "<style scoped>\n",
       "    .dataframe tbody tr th:only-of-type {\n",
       "        vertical-align: middle;\n",
       "    }\n",
       "\n",
       "    .dataframe tbody tr th {\n",
       "        vertical-align: top;\n",
       "    }\n",
       "\n",
       "    .dataframe thead th {\n",
       "        text-align: right;\n",
       "    }\n",
       "</style>\n",
       "<table border=\"1\" class=\"dataframe\">\n",
       "  <thead>\n",
       "    <tr style=\"text-align: right;\">\n",
       "      <th></th>\n",
       "      <th>0</th>\n",
       "    </tr>\n",
       "  </thead>\n",
       "  <tbody>\n",
       "    <tr>\n",
       "      <th>X192</th>\n",
       "      <td>0.000000</td>\n",
       "    </tr>\n",
       "    <tr>\n",
       "      <th>X252</th>\n",
       "      <td>0.000000</td>\n",
       "    </tr>\n",
       "    <tr>\n",
       "      <th>X251</th>\n",
       "      <td>0.000000</td>\n",
       "    </tr>\n",
       "    <tr>\n",
       "      <th>X250</th>\n",
       "      <td>0.000000</td>\n",
       "    </tr>\n",
       "    <tr>\n",
       "      <th>X249</th>\n",
       "      <td>0.000000</td>\n",
       "    </tr>\n",
       "    <tr>\n",
       "      <th>...</th>\n",
       "      <td>...</td>\n",
       "    </tr>\n",
       "    <tr>\n",
       "      <th>X275</th>\n",
       "      <td>0.014991</td>\n",
       "    </tr>\n",
       "    <tr>\n",
       "      <th>X118</th>\n",
       "      <td>0.046503</td>\n",
       "    </tr>\n",
       "    <tr>\n",
       "      <th>X127</th>\n",
       "      <td>0.112211</td>\n",
       "    </tr>\n",
       "    <tr>\n",
       "      <th>X29</th>\n",
       "      <td>0.175206</td>\n",
       "    </tr>\n",
       "    <tr>\n",
       "      <th>X314</th>\n",
       "      <td>0.282918</td>\n",
       "    </tr>\n",
       "  </tbody>\n",
       "</table>\n",
       "<p>362 rows × 1 columns</p>\n",
       "</div>"
      ],
      "text/plain": [
       "             0\n",
       "X192  0.000000\n",
       "X252  0.000000\n",
       "X251  0.000000\n",
       "X250  0.000000\n",
       "X249  0.000000\n",
       "...        ...\n",
       "X275  0.014991\n",
       "X118  0.046503\n",
       "X127  0.112211\n",
       "X29   0.175206\n",
       "X314  0.282918\n",
       "\n",
       "[362 rows x 1 columns]"
      ]
     },
     "execution_count": 109,
     "metadata": {},
     "output_type": "execute_result"
    }
   ],
   "source": [
    "xgb_feature_imp.sort_values(by=0)#,ascending=False)"
   ]
  },
  {
   "cell_type": "code",
   "execution_count": 110,
   "metadata": {
    "execution": {
     "iopub.execute_input": "2020-12-05T02:29:25.266528Z",
     "iopub.status.busy": "2020-12-05T02:29:25.265356Z",
     "iopub.status.idle": "2020-12-05T02:29:25.270210Z",
     "shell.execute_reply": "2020-12-05T02:29:25.269379Z"
    },
    "papermill": {
     "duration": 0.184596,
     "end_time": "2020-12-05T02:29:25.270361",
     "exception": false,
     "start_time": "2020-12-05T02:29:25.085765",
     "status": "completed"
    },
    "tags": []
   },
   "outputs": [
    {
     "data": {
      "text/plain": [
       "311"
      ]
     },
     "execution_count": 110,
     "metadata": {},
     "output_type": "execute_result"
    }
   ],
   "source": [
    "xgb_feature_imp[xgb_feature_imp[0]==0].index.values.size"
   ]
  },
  {
   "cell_type": "markdown",
   "metadata": {
    "papermill": {
     "duration": 0.170317,
     "end_time": "2020-12-05T02:29:25.612979",
     "exception": false,
     "start_time": "2020-12-05T02:29:25.442662",
     "status": "completed"
    },
    "tags": []
   },
   "source": [
    "**Important observation here is, Feature importance is 0 for 311 features.**"
   ]
  },
  {
   "cell_type": "markdown",
   "metadata": {
    "papermill": {
     "duration": 0.176806,
     "end_time": "2020-12-05T02:29:25.965624",
     "exception": false,
     "start_time": "2020-12-05T02:29:25.788818",
     "status": "completed"
    },
    "tags": []
   },
   "source": [
    "## Predicting outcome on test data ##"
   ]
  },
  {
   "cell_type": "code",
   "execution_count": 111,
   "metadata": {
    "execution": {
     "iopub.execute_input": "2020-12-05T02:29:26.322652Z",
     "iopub.status.busy": "2020-12-05T02:29:26.321885Z",
     "iopub.status.idle": "2020-12-05T02:29:26.512579Z",
     "shell.execute_reply": "2020-12-05T02:29:26.513215Z"
    },
    "papermill": {
     "duration": 0.371147,
     "end_time": "2020-12-05T02:29:26.513406",
     "exception": false,
     "start_time": "2020-12-05T02:29:26.142259",
     "status": "completed"
    },
    "tags": []
   },
   "outputs": [],
   "source": [
    "merc_test = pd.read_csv('/kaggle/input/mercedes-benz-greener-manufacturing/test.csv.zip')"
   ]
  },
  {
   "cell_type": "code",
   "execution_count": 112,
   "metadata": {
    "execution": {
     "iopub.execute_input": "2020-12-05T02:29:26.900684Z",
     "iopub.status.busy": "2020-12-05T02:29:26.881268Z",
     "iopub.status.idle": "2020-12-05T02:29:26.905804Z",
     "shell.execute_reply": "2020-12-05T02:29:26.906405Z"
    },
    "papermill": {
     "duration": 0.215552,
     "end_time": "2020-12-05T02:29:26.906586",
     "exception": false,
     "start_time": "2020-12-05T02:29:26.691034",
     "status": "completed"
    },
    "tags": []
   },
   "outputs": [
    {
     "data": {
      "text/html": [
       "<div>\n",
       "<style scoped>\n",
       "    .dataframe tbody tr th:only-of-type {\n",
       "        vertical-align: middle;\n",
       "    }\n",
       "\n",
       "    .dataframe tbody tr th {\n",
       "        vertical-align: top;\n",
       "    }\n",
       "\n",
       "    .dataframe thead th {\n",
       "        text-align: right;\n",
       "    }\n",
       "</style>\n",
       "<table border=\"1\" class=\"dataframe\">\n",
       "  <thead>\n",
       "    <tr style=\"text-align: right;\">\n",
       "      <th></th>\n",
       "      <th>ID</th>\n",
       "      <th>X0</th>\n",
       "      <th>X1</th>\n",
       "      <th>X2</th>\n",
       "      <th>X3</th>\n",
       "      <th>X4</th>\n",
       "      <th>X5</th>\n",
       "      <th>X6</th>\n",
       "      <th>X8</th>\n",
       "      <th>X10</th>\n",
       "      <th>...</th>\n",
       "      <th>X375</th>\n",
       "      <th>X376</th>\n",
       "      <th>X377</th>\n",
       "      <th>X378</th>\n",
       "      <th>X379</th>\n",
       "      <th>X380</th>\n",
       "      <th>X382</th>\n",
       "      <th>X383</th>\n",
       "      <th>X384</th>\n",
       "      <th>X385</th>\n",
       "    </tr>\n",
       "  </thead>\n",
       "  <tbody>\n",
       "    <tr>\n",
       "      <th>0</th>\n",
       "      <td>1</td>\n",
       "      <td>az</td>\n",
       "      <td>v</td>\n",
       "      <td>n</td>\n",
       "      <td>f</td>\n",
       "      <td>d</td>\n",
       "      <td>t</td>\n",
       "      <td>a</td>\n",
       "      <td>w</td>\n",
       "      <td>0</td>\n",
       "      <td>...</td>\n",
       "      <td>0</td>\n",
       "      <td>0</td>\n",
       "      <td>0</td>\n",
       "      <td>1</td>\n",
       "      <td>0</td>\n",
       "      <td>0</td>\n",
       "      <td>0</td>\n",
       "      <td>0</td>\n",
       "      <td>0</td>\n",
       "      <td>0</td>\n",
       "    </tr>\n",
       "    <tr>\n",
       "      <th>1</th>\n",
       "      <td>2</td>\n",
       "      <td>t</td>\n",
       "      <td>b</td>\n",
       "      <td>ai</td>\n",
       "      <td>a</td>\n",
       "      <td>d</td>\n",
       "      <td>b</td>\n",
       "      <td>g</td>\n",
       "      <td>y</td>\n",
       "      <td>0</td>\n",
       "      <td>...</td>\n",
       "      <td>0</td>\n",
       "      <td>0</td>\n",
       "      <td>1</td>\n",
       "      <td>0</td>\n",
       "      <td>0</td>\n",
       "      <td>0</td>\n",
       "      <td>0</td>\n",
       "      <td>0</td>\n",
       "      <td>0</td>\n",
       "      <td>0</td>\n",
       "    </tr>\n",
       "    <tr>\n",
       "      <th>2</th>\n",
       "      <td>3</td>\n",
       "      <td>az</td>\n",
       "      <td>v</td>\n",
       "      <td>as</td>\n",
       "      <td>f</td>\n",
       "      <td>d</td>\n",
       "      <td>a</td>\n",
       "      <td>j</td>\n",
       "      <td>j</td>\n",
       "      <td>0</td>\n",
       "      <td>...</td>\n",
       "      <td>0</td>\n",
       "      <td>0</td>\n",
       "      <td>0</td>\n",
       "      <td>1</td>\n",
       "      <td>0</td>\n",
       "      <td>0</td>\n",
       "      <td>0</td>\n",
       "      <td>0</td>\n",
       "      <td>0</td>\n",
       "      <td>0</td>\n",
       "    </tr>\n",
       "    <tr>\n",
       "      <th>3</th>\n",
       "      <td>4</td>\n",
       "      <td>az</td>\n",
       "      <td>l</td>\n",
       "      <td>n</td>\n",
       "      <td>f</td>\n",
       "      <td>d</td>\n",
       "      <td>z</td>\n",
       "      <td>l</td>\n",
       "      <td>n</td>\n",
       "      <td>0</td>\n",
       "      <td>...</td>\n",
       "      <td>0</td>\n",
       "      <td>0</td>\n",
       "      <td>0</td>\n",
       "      <td>1</td>\n",
       "      <td>0</td>\n",
       "      <td>0</td>\n",
       "      <td>0</td>\n",
       "      <td>0</td>\n",
       "      <td>0</td>\n",
       "      <td>0</td>\n",
       "    </tr>\n",
       "    <tr>\n",
       "      <th>4</th>\n",
       "      <td>5</td>\n",
       "      <td>w</td>\n",
       "      <td>s</td>\n",
       "      <td>as</td>\n",
       "      <td>c</td>\n",
       "      <td>d</td>\n",
       "      <td>y</td>\n",
       "      <td>i</td>\n",
       "      <td>m</td>\n",
       "      <td>0</td>\n",
       "      <td>...</td>\n",
       "      <td>1</td>\n",
       "      <td>0</td>\n",
       "      <td>0</td>\n",
       "      <td>0</td>\n",
       "      <td>0</td>\n",
       "      <td>0</td>\n",
       "      <td>0</td>\n",
       "      <td>0</td>\n",
       "      <td>0</td>\n",
       "      <td>0</td>\n",
       "    </tr>\n",
       "  </tbody>\n",
       "</table>\n",
       "<p>5 rows × 377 columns</p>\n",
       "</div>"
      ],
      "text/plain": [
       "   ID  X0 X1  X2 X3 X4 X5 X6 X8  X10  ...  X375  X376  X377  X378  X379  X380  \\\n",
       "0   1  az  v   n  f  d  t  a  w    0  ...     0     0     0     1     0     0   \n",
       "1   2   t  b  ai  a  d  b  g  y    0  ...     0     0     1     0     0     0   \n",
       "2   3  az  v  as  f  d  a  j  j    0  ...     0     0     0     1     0     0   \n",
       "3   4  az  l   n  f  d  z  l  n    0  ...     0     0     0     1     0     0   \n",
       "4   5   w  s  as  c  d  y  i  m    0  ...     1     0     0     0     0     0   \n",
       "\n",
       "   X382  X383  X384  X385  \n",
       "0     0     0     0     0  \n",
       "1     0     0     0     0  \n",
       "2     0     0     0     0  \n",
       "3     0     0     0     0  \n",
       "4     0     0     0     0  \n",
       "\n",
       "[5 rows x 377 columns]"
      ]
     },
     "execution_count": 112,
     "metadata": {},
     "output_type": "execute_result"
    }
   ],
   "source": [
    "merc_test.head()"
   ]
  },
  {
   "cell_type": "code",
   "execution_count": 113,
   "metadata": {
    "execution": {
     "iopub.execute_input": "2020-12-05T02:29:27.282958Z",
     "iopub.status.busy": "2020-12-05T02:29:27.281656Z",
     "iopub.status.idle": "2020-12-05T02:29:27.336619Z",
     "shell.execute_reply": "2020-12-05T02:29:27.336014Z"
    },
    "papermill": {
     "duration": 0.249025,
     "end_time": "2020-12-05T02:29:27.336756",
     "exception": false,
     "start_time": "2020-12-05T02:29:27.087731",
     "status": "completed"
    },
    "tags": []
   },
   "outputs": [
    {
     "data": {
      "text/plain": [
       "['X257', 'X258', 'X295', 'X296', 'X369']"
      ]
     },
     "execution_count": 113,
     "metadata": {},
     "output_type": "execute_result"
    }
   ],
   "source": [
    "var_zero_cols(merc_test)"
   ]
  },
  {
   "cell_type": "markdown",
   "metadata": {
    "papermill": {
     "duration": 0.17534,
     "end_time": "2020-12-05T02:29:27.687168",
     "exception": false,
     "start_time": "2020-12-05T02:29:27.511828",
     "status": "completed"
    },
    "tags": []
   },
   "source": [
    "**Dropping zero variance features of training set, from test set, as the above model is not trained on those features**"
   ]
  },
  {
   "cell_type": "code",
   "execution_count": 114,
   "metadata": {
    "execution": {
     "iopub.execute_input": "2020-12-05T02:29:28.057549Z",
     "iopub.status.busy": "2020-12-05T02:29:28.056407Z",
     "iopub.status.idle": "2020-12-05T02:29:28.060213Z",
     "shell.execute_reply": "2020-12-05T02:29:28.060769Z"
    },
    "papermill": {
     "duration": 0.193643,
     "end_time": "2020-12-05T02:29:28.061008",
     "exception": false,
     "start_time": "2020-12-05T02:29:27.867365",
     "status": "completed"
    },
    "tags": []
   },
   "outputs": [],
   "source": [
    "merc_test.drop(columns=['X297', 'X11', 'X290', 'X293', 'X268', 'X233', 'X93', 'X289', 'X235', 'X107', 'X330', 'X347'],inplace=True)"
   ]
  },
  {
   "cell_type": "code",
   "execution_count": 115,
   "metadata": {
    "execution": {
     "iopub.execute_input": "2020-12-05T02:29:28.436518Z",
     "iopub.status.busy": "2020-12-05T02:29:28.435728Z",
     "iopub.status.idle": "2020-12-05T02:29:28.463993Z",
     "shell.execute_reply": "2020-12-05T02:29:28.463241Z"
    },
    "papermill": {
     "duration": 0.221731,
     "end_time": "2020-12-05T02:29:28.464122",
     "exception": false,
     "start_time": "2020-12-05T02:29:28.242391",
     "status": "completed"
    },
    "tags": []
   },
   "outputs": [],
   "source": [
    "transform_X0(merc_test)"
   ]
  },
  {
   "cell_type": "code",
   "execution_count": 116,
   "metadata": {
    "execution": {
     "iopub.execute_input": "2020-12-05T02:29:28.828665Z",
     "iopub.status.busy": "2020-12-05T02:29:28.827902Z",
     "iopub.status.idle": "2020-12-05T02:29:28.831400Z",
     "shell.execute_reply": "2020-12-05T02:29:28.830632Z"
    },
    "papermill": {
     "duration": 0.19188,
     "end_time": "2020-12-05T02:29:28.831532",
     "exception": false,
     "start_time": "2020-12-05T02:29:28.639652",
     "status": "completed"
    },
    "tags": []
   },
   "outputs": [],
   "source": [
    "transform_X4(merc_test)"
   ]
  },
  {
   "cell_type": "code",
   "execution_count": 117,
   "metadata": {
    "execution": {
     "iopub.execute_input": "2020-12-05T02:29:29.198830Z",
     "iopub.status.busy": "2020-12-05T02:29:29.198068Z",
     "iopub.status.idle": "2020-12-05T02:29:29.223644Z",
     "shell.execute_reply": "2020-12-05T02:29:29.222794Z"
    },
    "papermill": {
     "duration": 0.212038,
     "end_time": "2020-12-05T02:29:29.223782",
     "exception": false,
     "start_time": "2020-12-05T02:29:29.011744",
     "status": "completed"
    },
    "tags": []
   },
   "outputs": [],
   "source": [
    "transform_X1(merc_test)"
   ]
  },
  {
   "cell_type": "code",
   "execution_count": 118,
   "metadata": {
    "execution": {
     "iopub.execute_input": "2020-12-05T02:29:29.590531Z",
     "iopub.status.busy": "2020-12-05T02:29:29.589684Z",
     "iopub.status.idle": "2020-12-05T02:29:29.611259Z",
     "shell.execute_reply": "2020-12-05T02:29:29.610526Z"
    },
    "papermill": {
     "duration": 0.209353,
     "end_time": "2020-12-05T02:29:29.611422",
     "exception": false,
     "start_time": "2020-12-05T02:29:29.402069",
     "status": "completed"
    },
    "tags": []
   },
   "outputs": [],
   "source": [
    "transform_X5(merc_test)"
   ]
  },
  {
   "cell_type": "code",
   "execution_count": 119,
   "metadata": {
    "execution": {
     "iopub.execute_input": "2020-12-05T02:29:29.986063Z",
     "iopub.status.busy": "2020-12-05T02:29:29.985165Z",
     "iopub.status.idle": "2020-12-05T02:29:29.988696Z",
     "shell.execute_reply": "2020-12-05T02:29:29.987910Z"
    },
    "papermill": {
     "duration": 0.193498,
     "end_time": "2020-12-05T02:29:29.988826",
     "exception": false,
     "start_time": "2020-12-05T02:29:29.795328",
     "status": "completed"
    },
    "tags": []
   },
   "outputs": [],
   "source": [
    "x=merc_test.drop(columns=['ID'])"
   ]
  },
  {
   "cell_type": "code",
   "execution_count": 120,
   "metadata": {
    "execution": {
     "iopub.execute_input": "2020-12-05T02:29:30.410443Z",
     "iopub.status.busy": "2020-12-05T02:29:30.404493Z",
     "iopub.status.idle": "2020-12-05T02:29:30.428726Z",
     "shell.execute_reply": "2020-12-05T02:29:30.428062Z"
    },
    "papermill": {
     "duration": 0.253783,
     "end_time": "2020-12-05T02:29:30.428865",
     "exception": false,
     "start_time": "2020-12-05T02:29:30.175082",
     "status": "completed"
    },
    "tags": []
   },
   "outputs": [],
   "source": [
    "transform_labels(merc_test,x)"
   ]
  },
  {
   "cell_type": "code",
   "execution_count": 121,
   "metadata": {
    "execution": {
     "iopub.execute_input": "2020-12-05T02:29:30.802055Z",
     "iopub.status.busy": "2020-12-05T02:29:30.786874Z",
     "iopub.status.idle": "2020-12-05T02:29:30.809163Z",
     "shell.execute_reply": "2020-12-05T02:29:30.808387Z"
    },
    "papermill": {
     "duration": 0.205507,
     "end_time": "2020-12-05T02:29:30.809289",
     "exception": false,
     "start_time": "2020-12-05T02:29:30.603782",
     "status": "completed"
    },
    "tags": []
   },
   "outputs": [
    {
     "data": {
      "text/html": [
       "<div>\n",
       "<style scoped>\n",
       "    .dataframe tbody tr th:only-of-type {\n",
       "        vertical-align: middle;\n",
       "    }\n",
       "\n",
       "    .dataframe tbody tr th {\n",
       "        vertical-align: top;\n",
       "    }\n",
       "\n",
       "    .dataframe thead th {\n",
       "        text-align: right;\n",
       "    }\n",
       "</style>\n",
       "<table border=\"1\" class=\"dataframe\">\n",
       "  <thead>\n",
       "    <tr style=\"text-align: right;\">\n",
       "      <th></th>\n",
       "      <th>X0</th>\n",
       "      <th>X1</th>\n",
       "      <th>X2</th>\n",
       "      <th>X3</th>\n",
       "      <th>X4</th>\n",
       "      <th>X5</th>\n",
       "      <th>X6</th>\n",
       "      <th>X8</th>\n",
       "      <th>X10</th>\n",
       "      <th>X12</th>\n",
       "      <th>...</th>\n",
       "      <th>X375</th>\n",
       "      <th>X376</th>\n",
       "      <th>X377</th>\n",
       "      <th>X378</th>\n",
       "      <th>X379</th>\n",
       "      <th>X380</th>\n",
       "      <th>X382</th>\n",
       "      <th>X383</th>\n",
       "      <th>X384</th>\n",
       "      <th>X385</th>\n",
       "    </tr>\n",
       "  </thead>\n",
       "  <tbody>\n",
       "    <tr>\n",
       "      <th>0</th>\n",
       "      <td>5</td>\n",
       "      <td>9</td>\n",
       "      <td>34</td>\n",
       "      <td>5</td>\n",
       "      <td>0</td>\n",
       "      <td>0</td>\n",
       "      <td>0</td>\n",
       "      <td>22</td>\n",
       "      <td>0</td>\n",
       "      <td>0</td>\n",
       "      <td>...</td>\n",
       "      <td>0</td>\n",
       "      <td>0</td>\n",
       "      <td>0</td>\n",
       "      <td>1</td>\n",
       "      <td>0</td>\n",
       "      <td>0</td>\n",
       "      <td>0</td>\n",
       "      <td>0</td>\n",
       "      <td>0</td>\n",
       "      <td>0</td>\n",
       "    </tr>\n",
       "    <tr>\n",
       "      <th>1</th>\n",
       "      <td>11</td>\n",
       "      <td>3</td>\n",
       "      <td>8</td>\n",
       "      <td>0</td>\n",
       "      <td>0</td>\n",
       "      <td>0</td>\n",
       "      <td>6</td>\n",
       "      <td>24</td>\n",
       "      <td>0</td>\n",
       "      <td>0</td>\n",
       "      <td>...</td>\n",
       "      <td>0</td>\n",
       "      <td>0</td>\n",
       "      <td>1</td>\n",
       "      <td>0</td>\n",
       "      <td>0</td>\n",
       "      <td>0</td>\n",
       "      <td>0</td>\n",
       "      <td>0</td>\n",
       "      <td>0</td>\n",
       "      <td>0</td>\n",
       "    </tr>\n",
       "    <tr>\n",
       "      <th>2</th>\n",
       "      <td>5</td>\n",
       "      <td>9</td>\n",
       "      <td>17</td>\n",
       "      <td>5</td>\n",
       "      <td>0</td>\n",
       "      <td>0</td>\n",
       "      <td>9</td>\n",
       "      <td>9</td>\n",
       "      <td>0</td>\n",
       "      <td>0</td>\n",
       "      <td>...</td>\n",
       "      <td>0</td>\n",
       "      <td>0</td>\n",
       "      <td>0</td>\n",
       "      <td>1</td>\n",
       "      <td>0</td>\n",
       "      <td>0</td>\n",
       "      <td>0</td>\n",
       "      <td>0</td>\n",
       "      <td>0</td>\n",
       "      <td>0</td>\n",
       "    </tr>\n",
       "    <tr>\n",
       "      <th>3</th>\n",
       "      <td>5</td>\n",
       "      <td>6</td>\n",
       "      <td>34</td>\n",
       "      <td>5</td>\n",
       "      <td>0</td>\n",
       "      <td>0</td>\n",
       "      <td>11</td>\n",
       "      <td>13</td>\n",
       "      <td>0</td>\n",
       "      <td>0</td>\n",
       "      <td>...</td>\n",
       "      <td>0</td>\n",
       "      <td>0</td>\n",
       "      <td>0</td>\n",
       "      <td>1</td>\n",
       "      <td>0</td>\n",
       "      <td>0</td>\n",
       "      <td>0</td>\n",
       "      <td>0</td>\n",
       "      <td>0</td>\n",
       "      <td>0</td>\n",
       "    </tr>\n",
       "    <tr>\n",
       "      <th>4</th>\n",
       "      <td>12</td>\n",
       "      <td>8</td>\n",
       "      <td>17</td>\n",
       "      <td>2</td>\n",
       "      <td>0</td>\n",
       "      <td>0</td>\n",
       "      <td>8</td>\n",
       "      <td>12</td>\n",
       "      <td>0</td>\n",
       "      <td>0</td>\n",
       "      <td>...</td>\n",
       "      <td>1</td>\n",
       "      <td>0</td>\n",
       "      <td>0</td>\n",
       "      <td>0</td>\n",
       "      <td>0</td>\n",
       "      <td>0</td>\n",
       "      <td>0</td>\n",
       "      <td>0</td>\n",
       "      <td>0</td>\n",
       "      <td>0</td>\n",
       "    </tr>\n",
       "  </tbody>\n",
       "</table>\n",
       "<p>5 rows × 364 columns</p>\n",
       "</div>"
      ],
      "text/plain": [
       "   X0  X1  X2  X3  X4  X5  X6  X8  X10  X12  ...  X375  X376  X377  X378  \\\n",
       "0   5   9  34   5   0   0   0  22    0    0  ...     0     0     0     1   \n",
       "1  11   3   8   0   0   0   6  24    0    0  ...     0     0     1     0   \n",
       "2   5   9  17   5   0   0   9   9    0    0  ...     0     0     0     1   \n",
       "3   5   6  34   5   0   0  11  13    0    0  ...     0     0     0     1   \n",
       "4  12   8  17   2   0   0   8  12    0    0  ...     1     0     0     0   \n",
       "\n",
       "   X379  X380  X382  X383  X384  X385  \n",
       "0     0     0     0     0     0     0  \n",
       "1     0     0     0     0     0     0  \n",
       "2     0     0     0     0     0     0  \n",
       "3     0     0     0     0     0     0  \n",
       "4     0     0     0     0     0     0  \n",
       "\n",
       "[5 rows x 364 columns]"
      ]
     },
     "execution_count": 121,
     "metadata": {},
     "output_type": "execute_result"
    }
   ],
   "source": [
    "x.head()"
   ]
  },
  {
   "cell_type": "code",
   "execution_count": 122,
   "metadata": {
    "execution": {
     "iopub.execute_input": "2020-12-05T02:29:31.193579Z",
     "iopub.status.busy": "2020-12-05T02:29:31.192749Z",
     "iopub.status.idle": "2020-12-05T02:29:31.257717Z",
     "shell.execute_reply": "2020-12-05T02:29:31.257080Z"
    },
    "papermill": {
     "duration": 0.26125,
     "end_time": "2020-12-05T02:29:31.257844",
     "exception": false,
     "start_time": "2020-12-05T02:29:30.996594",
     "status": "completed"
    },
    "tags": []
   },
   "outputs": [],
   "source": [
    "x_pca_t=perform_pca(merc_test,x)"
   ]
  },
  {
   "cell_type": "code",
   "execution_count": 123,
   "metadata": {
    "execution": {
     "iopub.execute_input": "2020-12-05T02:29:31.620819Z",
     "iopub.status.busy": "2020-12-05T02:29:31.620034Z",
     "iopub.status.idle": "2020-12-05T02:29:31.624575Z",
     "shell.execute_reply": "2020-12-05T02:29:31.623806Z"
    },
    "papermill": {
     "duration": 0.188954,
     "end_time": "2020-12-05T02:29:31.624735",
     "exception": false,
     "start_time": "2020-12-05T02:29:31.435781",
     "status": "completed"
    },
    "tags": []
   },
   "outputs": [
    {
     "data": {
      "text/plain": [
       "(4209, 362)"
      ]
     },
     "execution_count": 123,
     "metadata": {},
     "output_type": "execute_result"
    }
   ],
   "source": [
    "x_pca_t.shape"
   ]
  },
  {
   "cell_type": "code",
   "execution_count": 124,
   "metadata": {
    "execution": {
     "iopub.execute_input": "2020-12-05T02:29:32.000632Z",
     "iopub.status.busy": "2020-12-05T02:29:31.999861Z",
     "iopub.status.idle": "2020-12-05T02:29:32.050281Z",
     "shell.execute_reply": "2020-12-05T02:29:32.049417Z"
    },
    "papermill": {
     "duration": 0.243904,
     "end_time": "2020-12-05T02:29:32.050464",
     "exception": false,
     "start_time": "2020-12-05T02:29:31.806560",
     "status": "completed"
    },
    "tags": []
   },
   "outputs": [],
   "source": [
    "merc_test_pred=pd.DataFrame(xgbModel_final.predict(x_pca_t),columns=['y'])"
   ]
  },
  {
   "cell_type": "code",
   "execution_count": 125,
   "metadata": {
    "execution": {
     "iopub.execute_input": "2020-12-05T02:29:32.439311Z",
     "iopub.status.busy": "2020-12-05T02:29:32.438416Z",
     "iopub.status.idle": "2020-12-05T02:29:32.442682Z",
     "shell.execute_reply": "2020-12-05T02:29:32.441920Z"
    },
    "papermill": {
     "duration": 0.19574,
     "end_time": "2020-12-05T02:29:32.442806",
     "exception": false,
     "start_time": "2020-12-05T02:29:32.247066",
     "status": "completed"
    },
    "tags": []
   },
   "outputs": [],
   "source": [
    "merc_test_pred['ID']=merc_test.ID"
   ]
  },
  {
   "cell_type": "code",
   "execution_count": 126,
   "metadata": {
    "execution": {
     "iopub.execute_input": "2020-12-05T02:29:32.822067Z",
     "iopub.status.busy": "2020-12-05T02:29:32.821160Z",
     "iopub.status.idle": "2020-12-05T02:29:32.826708Z",
     "shell.execute_reply": "2020-12-05T02:29:32.826095Z"
    },
    "papermill": {
     "duration": 0.203326,
     "end_time": "2020-12-05T02:29:32.826856",
     "exception": false,
     "start_time": "2020-12-05T02:29:32.623530",
     "status": "completed"
    },
    "tags": []
   },
   "outputs": [
    {
     "data": {
      "text/html": [
       "<div>\n",
       "<style scoped>\n",
       "    .dataframe tbody tr th:only-of-type {\n",
       "        vertical-align: middle;\n",
       "    }\n",
       "\n",
       "    .dataframe tbody tr th {\n",
       "        vertical-align: top;\n",
       "    }\n",
       "\n",
       "    .dataframe thead th {\n",
       "        text-align: right;\n",
       "    }\n",
       "</style>\n",
       "<table border=\"1\" class=\"dataframe\">\n",
       "  <thead>\n",
       "    <tr style=\"text-align: right;\">\n",
       "      <th></th>\n",
       "      <th>y</th>\n",
       "      <th>ID</th>\n",
       "    </tr>\n",
       "  </thead>\n",
       "  <tbody>\n",
       "    <tr>\n",
       "      <th>4199</th>\n",
       "      <td>93.582024</td>\n",
       "      <td>8401</td>\n",
       "    </tr>\n",
       "    <tr>\n",
       "      <th>4200</th>\n",
       "      <td>93.231598</td>\n",
       "      <td>8404</td>\n",
       "    </tr>\n",
       "    <tr>\n",
       "      <th>4201</th>\n",
       "      <td>93.208435</td>\n",
       "      <td>8407</td>\n",
       "    </tr>\n",
       "    <tr>\n",
       "      <th>4202</th>\n",
       "      <td>112.912964</td>\n",
       "      <td>8408</td>\n",
       "    </tr>\n",
       "    <tr>\n",
       "      <th>4203</th>\n",
       "      <td>111.633537</td>\n",
       "      <td>8409</td>\n",
       "    </tr>\n",
       "    <tr>\n",
       "      <th>4204</th>\n",
       "      <td>103.937775</td>\n",
       "      <td>8410</td>\n",
       "    </tr>\n",
       "    <tr>\n",
       "      <th>4205</th>\n",
       "      <td>91.875999</td>\n",
       "      <td>8411</td>\n",
       "    </tr>\n",
       "    <tr>\n",
       "      <th>4206</th>\n",
       "      <td>91.547318</td>\n",
       "      <td>8413</td>\n",
       "    </tr>\n",
       "    <tr>\n",
       "      <th>4207</th>\n",
       "      <td>112.227180</td>\n",
       "      <td>8414</td>\n",
       "    </tr>\n",
       "    <tr>\n",
       "      <th>4208</th>\n",
       "      <td>92.643227</td>\n",
       "      <td>8416</td>\n",
       "    </tr>\n",
       "  </tbody>\n",
       "</table>\n",
       "</div>"
      ],
      "text/plain": [
       "               y    ID\n",
       "4199   93.582024  8401\n",
       "4200   93.231598  8404\n",
       "4201   93.208435  8407\n",
       "4202  112.912964  8408\n",
       "4203  111.633537  8409\n",
       "4204  103.937775  8410\n",
       "4205   91.875999  8411\n",
       "4206   91.547318  8413\n",
       "4207  112.227180  8414\n",
       "4208   92.643227  8416"
      ]
     },
     "execution_count": 126,
     "metadata": {},
     "output_type": "execute_result"
    }
   ],
   "source": [
    "merc_test_pred.tail(10)"
   ]
  },
  {
   "cell_type": "code",
   "execution_count": 127,
   "metadata": {
    "execution": {
     "iopub.execute_input": "2020-12-05T02:29:33.212100Z",
     "iopub.status.busy": "2020-12-05T02:29:33.211016Z",
     "iopub.status.idle": "2020-12-05T02:29:33.568579Z",
     "shell.execute_reply": "2020-12-05T02:29:33.567774Z"
    },
    "papermill": {
     "duration": 0.555546,
     "end_time": "2020-12-05T02:29:33.568706",
     "exception": false,
     "start_time": "2020-12-05T02:29:33.013160",
     "status": "completed"
    },
    "tags": []
   },
   "outputs": [],
   "source": [
    "merc_test_pred.to_csv('Mercedes_TestData_Predictions.csv',index=False)"
   ]
  },
  {
   "cell_type": "code",
   "execution_count": null,
   "metadata": {
    "papermill": {
     "duration": 0.192522,
     "end_time": "2020-12-05T02:29:33.949182",
     "exception": false,
     "start_time": "2020-12-05T02:29:33.756660",
     "status": "completed"
    },
    "tags": []
   },
   "outputs": [],
   "source": []
  }
 ],
 "metadata": {
  "kernelspec": {
   "display_name": "Python 3",
   "language": "python",
   "name": "python3"
  },
  "language_info": {
   "codemirror_mode": {
    "name": "ipython",
    "version": 3
   },
   "file_extension": ".py",
   "mimetype": "text/x-python",
   "name": "python",
   "nbconvert_exporter": "python",
   "pygments_lexer": "ipython3",
   "version": "3.8.3"
  },
  "papermill": {
   "duration": 79.795123,
   "end_time": "2020-12-05T02:29:34.252902",
   "environment_variables": {},
   "exception": null,
   "input_path": "__notebook__.ipynb",
   "output_path": "__notebook__.ipynb",
   "parameters": {},
   "start_time": "2020-12-05T02:28:14.457779",
   "version": "2.1.0"
  }
 },
 "nbformat": 4,
 "nbformat_minor": 4
}
